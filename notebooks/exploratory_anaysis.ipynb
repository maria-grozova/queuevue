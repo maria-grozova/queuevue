{
 "cells": [
  {
   "cell_type": "code",
   "execution_count": 1,
   "id": "71d8a79f",
   "metadata": {},
   "outputs": [],
   "source": [
    "import pandas as pd"
   ]
  },
  {
   "cell_type": "code",
   "execution_count": 7,
   "id": "b2390760",
   "metadata": {},
   "outputs": [
    {
     "data": {
      "application/vnd.microsoft.datawrangler.viewer.v0+json": {
       "columns": [
        {
         "name": "index",
         "rawType": "int64",
         "type": "integer"
        },
        {
         "name": "park_id",
         "rawType": "int64",
         "type": "integer"
        },
        {
         "name": "ride_id",
         "rawType": "int64",
         "type": "integer"
        },
        {
         "name": "ride_name",
         "rawType": "object",
         "type": "string"
        },
        {
         "name": "park_name",
         "rawType": "object",
         "type": "string"
        },
        {
         "name": "country",
         "rawType": "object",
         "type": "string"
        },
        {
         "name": "continent",
         "rawType": "object",
         "type": "string"
        },
        {
         "name": "avg_wait_time",
         "rawType": "int64",
         "type": "integer"
        }
       ],
       "conversionMethod": "pd.DataFrame",
       "ref": "971f6721-f991-41cd-997e-abc64828d78c",
       "rows": [
        [
         "0",
         "58",
         "7682",
         "Backlot Stunt Coaster",
         "Canada's Wonderland",
         "Canada",
         "North America",
         "0"
        ],
        [
         "1",
         "58",
         "5860",
         "Behemoth",
         "Canada's Wonderland",
         "Canada",
         "North America",
         "0"
        ],
        [
         "2",
         "58",
         "5866",
         "Dragon Fyre",
         "Canada's Wonderland",
         "Canada",
         "North America",
         "0"
        ],
        [
         "3",
         "58",
         "7805",
         "Flight Deck",
         "Canada's Wonderland",
         "Canada",
         "North America",
         "0"
        ],
        [
         "4",
         "58",
         "7640",
         "Ghoster Coaster",
         "Canada's Wonderland",
         "Canada",
         "North America",
         "0"
        ],
        [
         "5",
         "58",
         "5859",
         "Leviathan",
         "Canada's Wonderland",
         "Canada",
         "North America",
         "0"
        ],
        [
         "6",
         "58",
         "5869",
         "Mighty Canadian Minebuster",
         "Canada's Wonderland",
         "Canada",
         "North America",
         "0"
        ],
        [
         "7",
         "58",
         "5865",
         "Silver Streak",
         "Canada's Wonderland",
         "Canada",
         "North America",
         "0"
        ],
        [
         "8",
         "58",
         "7751",
         "Taxi Jam",
         "Canada's Wonderland",
         "Canada",
         "North America",
         "0"
        ],
        [
         "9",
         "58",
         "5856",
         "The Bat",
         "Canada's Wonderland",
         "Canada",
         "North America",
         "0"
        ],
        [
         "10",
         "58",
         "6642",
         "The Fly",
         "Canada's Wonderland",
         "Canada",
         "North America",
         "0"
        ],
        [
         "11",
         "58",
         "6103",
         "Thunder Run",
         "Canada's Wonderland",
         "Canada",
         "North America",
         "0"
        ],
        [
         "12",
         "58",
         "7747",
         "Vortex",
         "Canada's Wonderland",
         "Canada",
         "North America",
         "0"
        ],
        [
         "13",
         "58",
         "5861",
         "Wilde Beast",
         "Canada's Wonderland",
         "Canada",
         "North America",
         "0"
        ],
        [
         "14",
         "58",
         "7770",
         "Wonder Mountain's Guardian",
         "Canada's Wonderland",
         "Canada",
         "North America",
         "0"
        ],
        [
         "15",
         "58",
         "6649",
         "Yukon Striker",
         "Canada's Wonderland",
         "Canada",
         "North America",
         "0"
        ],
        [
         "16",
         "58",
         "10420",
         "Antique Carrousel",
         "Canada's Wonderland",
         "Canada",
         "North America",
         "0"
        ],
        [
         "17",
         "58",
         "6107",
         "Flying Canoes",
         "Canada's Wonderland",
         "Canada",
         "North America",
         "0"
        ],
        [
         "18",
         "58",
         "7685",
         "Flying Eagles",
         "Canada's Wonderland",
         "Canada",
         "North America",
         "0"
        ],
        [
         "19",
         "58",
         "7638",
         "Klockwerks",
         "Canada's Wonderland",
         "Canada",
         "North America",
         "0"
        ],
        [
         "20",
         "58",
         "7643",
         "Krachenwagen",
         "Canada's Wonderland",
         "Canada",
         "North America",
         "0"
        ],
        [
         "21",
         "58",
         "11811",
         "Snoopys Racing Railway",
         "Canada's Wonderland",
         "Canada",
         "North America",
         "0"
        ],
        [
         "22",
         "58",
         "7636",
         "Spinovator",
         "Canada's Wonderland",
         "Canada",
         "North America",
         "0"
        ],
        [
         "23",
         "58",
         "5867",
         "Swing Of The Century",
         "Canada's Wonderland",
         "Canada",
         "North America",
         "0"
        ],
        [
         "24",
         "58",
         "7648",
         "Timberwolf Falls",
         "Canada's Wonderland",
         "Canada",
         "North America",
         "0"
        ],
        [
         "25",
         "58",
         "7632",
         "Viking's Rage",
         "Canada's Wonderland",
         "Canada",
         "North America",
         "0"
        ],
        [
         "26",
         "58",
         "7645",
         "White Water Canyon",
         "Canada's Wonderland",
         "Canada",
         "North America",
         "0"
        ],
        [
         "27",
         "58",
         "11158",
         "Beagle Brigade Airfield",
         "Canada's Wonderland",
         "Canada",
         "North America",
         "0"
        ],
        [
         "28",
         "58",
         "7687",
         "Blast Off!",
         "Canada's Wonderland",
         "Canada",
         "North America",
         "0"
        ],
        [
         "29",
         "58",
         "5868",
         "Boo Blasters on Boo Hill",
         "Canada's Wonderland",
         "Canada",
         "North America",
         "0"
        ],
        [
         "30",
         "58",
         "7667",
         "Character Carrousel",
         "Canada's Wonderland",
         "Canada",
         "North America",
         "0"
        ],
        [
         "31",
         "58",
         "7697",
         "Frequent Flyers",
         "Canada's Wonderland",
         "Canada",
         "North America",
         "0"
        ],
        [
         "32",
         "58",
         "7652",
         "Joe Cool's Dodgem School",
         "Canada's Wonderland",
         "Canada",
         "North America",
         "0"
        ],
        [
         "33",
         "58",
         "7704",
         "Jokey's Jalopies",
         "Canada's Wonderland",
         "Canada",
         "North America",
         "0"
        ],
        [
         "34",
         "58",
         "7719",
         "Jumpin' Jet",
         "Canada's Wonderland",
         "Canada",
         "North America",
         "0"
        ],
        [
         "35",
         "58",
         "7728",
         "KidZville Station",
         "Canada's Wonderland",
         "Canada",
         "North America",
         "0"
        ],
        [
         "36",
         "58",
         "7654",
         "Lucy's Tugboat",
         "Canada's Wonderland",
         "Canada",
         "North America",
         "0"
        ],
        [
         "37",
         "58",
         "7757",
         "Maple Park Tree House",
         "Canada's Wonderland",
         "Canada",
         "North America",
         "0"
        ],
        [
         "38",
         "58",
         "7634",
         "Peanuts 500",
         "Canada's Wonderland",
         "Canada",
         "North America",
         "0"
        ],
        [
         "39",
         "58",
         "7680",
         "Sallys Love Buggies",
         "Canada's Wonderland",
         "Canada",
         "North America",
         "0"
        ],
        [
         "40",
         "58",
         "7657",
         "Snoopy vs. Red Baron",
         "Canada's Wonderland",
         "Canada",
         "North America",
         "0"
        ],
        [
         "41",
         "58",
         "7659",
         "Snoopys Revolution",
         "Canada's Wonderland",
         "Canada",
         "North America",
         "0"
        ],
        [
         "42",
         "58",
         "7661",
         "Snoopys Space Race",
         "Canada's Wonderland",
         "Canada",
         "North America",
         "0"
        ],
        [
         "43",
         "58",
         "7692",
         "Sugar Shack",
         "Canada's Wonderland",
         "Canada",
         "North America",
         "0"
        ],
        [
         "44",
         "58",
         "7733",
         "Swan Lake",
         "Canada's Wonderland",
         "Canada",
         "North America",
         "0"
        ],
        [
         "45",
         "58",
         "7738",
         "Swing Time",
         "Canada's Wonderland",
         "Canada",
         "North America",
         "0"
        ],
        [
         "46",
         "58",
         "7663",
         "The Pumpkin Patch",
         "Canada's Wonderland",
         "Canada",
         "North America",
         "0"
        ],
        [
         "47",
         "58",
         "7690",
         "Treetop Adventure",
         "Canada's Wonderland",
         "Canada",
         "North America",
         "0"
        ],
        [
         "48",
         "58",
         "7664",
         "Woodstock Whirlybirds",
         "Canada's Wonderland",
         "Canada",
         "North America",
         "0"
        ],
        [
         "49",
         "58",
         "7677",
         "Drop Tower",
         "Canada's Wonderland",
         "Canada",
         "North America",
         "0"
        ]
       ],
       "shape": {
        "columns": 7,
        "rows": 28768
       }
      },
      "text/html": [
       "<div>\n",
       "<style scoped>\n",
       "    .dataframe tbody tr th:only-of-type {\n",
       "        vertical-align: middle;\n",
       "    }\n",
       "\n",
       "    .dataframe tbody tr th {\n",
       "        vertical-align: top;\n",
       "    }\n",
       "\n",
       "    .dataframe thead th {\n",
       "        text-align: right;\n",
       "    }\n",
       "</style>\n",
       "<table border=\"1\" class=\"dataframe\">\n",
       "  <thead>\n",
       "    <tr style=\"text-align: right;\">\n",
       "      <th></th>\n",
       "      <th>park_id</th>\n",
       "      <th>ride_id</th>\n",
       "      <th>ride_name</th>\n",
       "      <th>park_name</th>\n",
       "      <th>country</th>\n",
       "      <th>continent</th>\n",
       "      <th>avg_wait_time</th>\n",
       "    </tr>\n",
       "  </thead>\n",
       "  <tbody>\n",
       "    <tr>\n",
       "      <th>0</th>\n",
       "      <td>58</td>\n",
       "      <td>7682</td>\n",
       "      <td>Backlot Stunt Coaster</td>\n",
       "      <td>Canada's Wonderland</td>\n",
       "      <td>Canada</td>\n",
       "      <td>North America</td>\n",
       "      <td>0</td>\n",
       "    </tr>\n",
       "    <tr>\n",
       "      <th>1</th>\n",
       "      <td>58</td>\n",
       "      <td>5860</td>\n",
       "      <td>Behemoth</td>\n",
       "      <td>Canada's Wonderland</td>\n",
       "      <td>Canada</td>\n",
       "      <td>North America</td>\n",
       "      <td>0</td>\n",
       "    </tr>\n",
       "    <tr>\n",
       "      <th>2</th>\n",
       "      <td>58</td>\n",
       "      <td>5866</td>\n",
       "      <td>Dragon Fyre</td>\n",
       "      <td>Canada's Wonderland</td>\n",
       "      <td>Canada</td>\n",
       "      <td>North America</td>\n",
       "      <td>0</td>\n",
       "    </tr>\n",
       "    <tr>\n",
       "      <th>3</th>\n",
       "      <td>58</td>\n",
       "      <td>7805</td>\n",
       "      <td>Flight Deck</td>\n",
       "      <td>Canada's Wonderland</td>\n",
       "      <td>Canada</td>\n",
       "      <td>North America</td>\n",
       "      <td>0</td>\n",
       "    </tr>\n",
       "    <tr>\n",
       "      <th>4</th>\n",
       "      <td>58</td>\n",
       "      <td>7640</td>\n",
       "      <td>Ghoster Coaster</td>\n",
       "      <td>Canada's Wonderland</td>\n",
       "      <td>Canada</td>\n",
       "      <td>North America</td>\n",
       "      <td>0</td>\n",
       "    </tr>\n",
       "    <tr>\n",
       "      <th>...</th>\n",
       "      <td>...</td>\n",
       "      <td>...</td>\n",
       "      <td>...</td>\n",
       "      <td>...</td>\n",
       "      <td>...</td>\n",
       "      <td>...</td>\n",
       "      <td>...</td>\n",
       "    </tr>\n",
       "    <tr>\n",
       "      <th>28763</th>\n",
       "      <td>28</td>\n",
       "      <td>34</td>\n",
       "      <td>RC Racer</td>\n",
       "      <td>Walt Disney Studios Paris</td>\n",
       "      <td>France</td>\n",
       "      <td>Europe</td>\n",
       "      <td>20</td>\n",
       "    </tr>\n",
       "    <tr>\n",
       "      <th>28764</th>\n",
       "      <td>28</td>\n",
       "      <td>7280</td>\n",
       "      <td>RC Racer Single Rider</td>\n",
       "      <td>Walt Disney Studios Paris</td>\n",
       "      <td>France</td>\n",
       "      <td>Europe</td>\n",
       "      <td>13</td>\n",
       "    </tr>\n",
       "    <tr>\n",
       "      <th>28765</th>\n",
       "      <td>28</td>\n",
       "      <td>36</td>\n",
       "      <td>Slinky® Dog Zigzag Spin</td>\n",
       "      <td>Walt Disney Studios Paris</td>\n",
       "      <td>France</td>\n",
       "      <td>Europe</td>\n",
       "      <td>12</td>\n",
       "    </tr>\n",
       "    <tr>\n",
       "      <th>28766</th>\n",
       "      <td>28</td>\n",
       "      <td>35</td>\n",
       "      <td>Toy Soldiers Parachute Drop</td>\n",
       "      <td>Walt Disney Studios Paris</td>\n",
       "      <td>France</td>\n",
       "      <td>Europe</td>\n",
       "      <td>36</td>\n",
       "    </tr>\n",
       "    <tr>\n",
       "      <th>28767</th>\n",
       "      <td>28</td>\n",
       "      <td>7281</td>\n",
       "      <td>Toy Soldiers Parachute Drop Single Rider</td>\n",
       "      <td>Walt Disney Studios Paris</td>\n",
       "      <td>France</td>\n",
       "      <td>Europe</td>\n",
       "      <td>12</td>\n",
       "    </tr>\n",
       "  </tbody>\n",
       "</table>\n",
       "<p>28768 rows × 7 columns</p>\n",
       "</div>"
      ],
      "text/plain": [
       "       park_id  ride_id                                 ride_name  \\\n",
       "0           58     7682                     Backlot Stunt Coaster   \n",
       "1           58     5860                                  Behemoth   \n",
       "2           58     5866                               Dragon Fyre   \n",
       "3           58     7805                               Flight Deck   \n",
       "4           58     7640                           Ghoster Coaster   \n",
       "...        ...      ...                                       ...   \n",
       "28763       28       34                                  RC Racer   \n",
       "28764       28     7280                     RC Racer Single Rider   \n",
       "28765       28       36                   Slinky® Dog Zigzag Spin   \n",
       "28766       28       35               Toy Soldiers Parachute Drop   \n",
       "28767       28     7281  Toy Soldiers Parachute Drop Single Rider   \n",
       "\n",
       "                       park_name country      continent  avg_wait_time  \n",
       "0            Canada's Wonderland  Canada  North America              0  \n",
       "1            Canada's Wonderland  Canada  North America              0  \n",
       "2            Canada's Wonderland  Canada  North America              0  \n",
       "3            Canada's Wonderland  Canada  North America              0  \n",
       "4            Canada's Wonderland  Canada  North America              0  \n",
       "...                          ...     ...            ...            ...  \n",
       "28763  Walt Disney Studios Paris  France         Europe             20  \n",
       "28764  Walt Disney Studios Paris  France         Europe             13  \n",
       "28765  Walt Disney Studios Paris  France         Europe             12  \n",
       "28766  Walt Disney Studios Paris  France         Europe             36  \n",
       "28767  Walt Disney Studios Paris  France         Europe             12  \n",
       "\n",
       "[28768 rows x 7 columns]"
      ]
     },
     "execution_count": 7,
     "metadata": {},
     "output_type": "execute_result"
    }
   ],
   "source": [
    "df = pd.read_csv(\"../etl/data/outputs/average_wait.csv\")\n",
    "df"
   ]
  }
 ],
 "metadata": {
  "kernelspec": {
   "display_name": ".venv",
   "language": "python",
   "name": "python3"
  },
  "language_info": {
   "codemirror_mode": {
    "name": "ipython",
    "version": 3
   },
   "file_extension": ".py",
   "mimetype": "text/x-python",
   "name": "python",
   "nbconvert_exporter": "python",
   "pygments_lexer": "ipython3",
   "version": "3.13.2"
  }
 },
 "nbformat": 4,
 "nbformat_minor": 5
}
