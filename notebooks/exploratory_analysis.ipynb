{
 "cells": [
  {
   "cell_type": "code",
   "execution_count": 238,
   "id": "32505508",
   "metadata": {},
   "outputs": [
    {
     "data": {
      "application/vnd.microsoft.datawrangler.viewer.v0+json": {
       "columns": [
        {
         "name": "park_id",
         "rawType": "int64",
         "type": "integer"
        },
        {
         "name": "park_name",
         "rawType": "object",
         "type": "string"
        },
        {
         "name": "country",
         "rawType": "object",
         "type": "string"
        },
        {
         "name": "continent",
         "rawType": "object",
         "type": "string"
        },
        {
         "name": "latitude",
         "rawType": "object",
         "type": "string"
        },
        {
         "name": "longitude",
         "rawType": "object",
         "type": "string"
        }
       ],
       "conversionMethod": "pd.DataFrame",
       "ref": "543f314b-f90c-4f7a-a521-8da5799d21c0",
       "rows": [
        [
         "57",
         "California's Great America",
         "United States",
         "North America",
         "37.397799",
         "-121.974717"
        ],
        [
         "58",
         "Canada's Wonderland",
         "Canada",
         "North America",
         "43.843",
         "-79.539"
        ],
        [
         "59",
         "Carowinds",
         "United States",
         "North America",
         "35.1045",
         "-80.9394"
        ],
        [
         "50",
         "Cedar Point",
         "United States",
         "North America",
         "41.4822",
         "-82.6835"
        ],
        [
         "69",
         "Dorney Park",
         "United States",
         "North America",
         "40.577942",
         "-75.531528"
        ],
        [
         "62",
         "Kings Dominion",
         "United States",
         "North America",
         "37.84",
         "-77.445"
        ],
        [
         "60",
         "Kings Island",
         "United States",
         "North America",
         "39.3447",
         "-84.2686"
        ],
        [
         "61",
         "Knott's Berry Farm",
         "United States",
         "North America",
         "33.8442",
         "-117.9986"
        ],
        [
         "70",
         "Michigan's Adventure",
         "United States",
         "North America",
         "43.3474",
         "-86.2789"
        ],
        [
         "68",
         "Valleyfair",
         "United States",
         "North America",
         "44.798742",
         "-93.453369"
        ],
        [
         "63",
         "Worlds of Fun",
         "United States",
         "North America",
         "39.177333",
         "-94.489028"
        ],
        [
         "331",
         "Chimelong Birds Park",
         "China",
         "Asia",
         "23.025",
         "113.277"
        ],
        [
         "123",
         "Chimelong Ocean Kingdom",
         "China",
         "Asia",
         "22.101",
         "113.534"
        ],
        [
         "130",
         "Chimelong Paradise",
         "China",
         "Asia",
         "23.005",
         "113.327"
        ],
        [
         "330",
         "Chimelong Safari Park",
         "China",
         "Asia",
         "23.009",
         "113.309"
        ],
        [
         "332",
         "Chimelong Spaceship",
         "China",
         "Asia",
         "22.097",
         "113.535"
        ],
        [
         "139",
         "Chimelong Water Park",
         "China",
         "Asia",
         "23.004",
         "113.318"
        ],
        [
         "276",
         "Bellewaerde",
         "Belgium",
         "Europe",
         "50.846996",
         "2.947948"
        ],
        [
         "322",
         "Familypark",
         "Austria",
         "Europe",
         "47.801597",
         "16.646089"
        ],
        [
         "291",
         "Futuroscope",
         "France",
         "Europe",
         "46.669167",
         "0.368889"
        ],
        [
         "9",
         "Parc Astérix",
         "France",
         "Europe",
         "49.1341839",
         "2.5712301"
        ],
        [
         "14",
         "Walibi Belgium",
         "Belgium",
         "Europe",
         "50.7018603",
         "4.5940362"
        ],
        [
         "53",
         "Walibi Holland",
         "Netherlands",
         "Europe",
         "52.44",
         "5.7625"
        ],
        [
         "301",
         "Walibi Rhône-Alpes",
         "France",
         "Europe",
         "45.621389",
         "5.570278"
        ],
        [
         "51",
         "Europa Park",
         "Germany",
         "Europe",
         "48.268333",
         "7.720833"
        ],
        [
         "309",
         "Rulantica",
         "Germany",
         "Europe",
         "48.26082436",
         "7.7400571"
        ],
        [
         "55",
         "Dollywood",
         "United States",
         "North America",
         "35.805702",
         "-83.528838"
        ],
        [
         "10",
         "Silver Dollar City",
         "United States",
         "North America",
         "36.6704749",
         "-93.3370854"
        ],
        [
         "323",
         "Avonturenpark Hellendoorn",
         "Netherlands",
         "Europe",
         "52.389444",
         "6.435833"
        ],
        [
         "1",
         "Alton Towers",
         "England",
         "Europe",
         "52.9874651",
         "-1.8864769"
        ],
        [
         "3",
         "Chessington World of Adventures",
         "England",
         "Europe",
         "51.3478981",
         "-0.3173283"
        ],
        [
         "12",
         "Gardaland",
         "Italy",
         "Europe",
         "45.4550142",
         "10.7137527"
        ],
        [
         "25",
         "Heide Park",
         "Germany",
         "Europe",
         "53.0236683",
         "9.8781907"
        ],
        [
         "52",
         "Legoland Billund",
         "Denmark",
         "Europe",
         "55.735556",
         "9.126111"
        ],
        [
         "279",
         "Legoland California",
         "United States",
         "North America",
         "33.126667",
         "-117.311111"
        ],
        [
         "278",
         "Legoland Deutschland",
         "Germany",
         "Europe",
         "48.424444",
         "10.299722"
        ],
        [
         "280",
         "Legoland Florida",
         "United States",
         "North America",
         "27.989172",
         "-81.689936"
        ],
        [
         "285",
         "Legoland Japan",
         "Japan",
         "Asia",
         "35.050556",
         "136.843333"
        ],
        [
         "315",
         "Legoland Korea",
         "South Korea",
         "Asia",
         "37.88380399",
         "127.6974658"
        ],
        [
         "299",
         "Legoland New York",
         "United States",
         "North America",
         "41.37855043",
         "-74.31297395"
        ],
        [
         "27",
         "Legoland Windsor",
         "England",
         "Europe",
         "51.4634423",
         "-0.649915"
        ],
        [
         "316",
         "Peppa Pig Theme Park Florida",
         "United States",
         "North America",
         "27.98688038",
         "-81.6883981"
        ],
        [
         "2",
         "Thorpe Park",
         "England",
         "Europe",
         "51.4039456",
         "-0.5143332"
        ],
        [
         "319",
         "Beto Carrero World",
         "Brazil",
         "South America",
         "-26.802481",
         "-48.614367"
        ],
        [
         "273",
         "Blackpool Pleasure Beach",
         "England",
         "Europe",
         "53.790278",
         "-3.055556"
        ],
        [
         "318",
         "Cinecittà World",
         "Italy",
         "Europe",
         "41.709032",
         "12.44673"
        ],
        [
         "290",
         "Djurs Sommerland",
         "Denmark",
         "Europe",
         "56.425933",
         "10.550564"
        ],
        [
         "160",
         "Efteling",
         "Netherlands",
         "Europe",
         "51.650278",
         "5.048056"
        ],
        [
         "317",
         "Energylandia",
         "Poland",
         "Europe",
         "50.000115",
         "19.409078"
        ],
        [
         "18",
         "Fårup Sommerland",
         "Denmark",
         "Europe",
         "57.2713353",
         "9.6505668"
        ]
       ],
       "shape": {
        "columns": 5,
        "rows": 133
       }
      },
      "text/html": [
       "<div>\n",
       "<style scoped>\n",
       "    .dataframe tbody tr th:only-of-type {\n",
       "        vertical-align: middle;\n",
       "    }\n",
       "\n",
       "    .dataframe tbody tr th {\n",
       "        vertical-align: top;\n",
       "    }\n",
       "\n",
       "    .dataframe thead th {\n",
       "        text-align: right;\n",
       "    }\n",
       "</style>\n",
       "<table border=\"1\" class=\"dataframe\">\n",
       "  <thead>\n",
       "    <tr style=\"text-align: right;\">\n",
       "      <th></th>\n",
       "      <th>park_name</th>\n",
       "      <th>country</th>\n",
       "      <th>continent</th>\n",
       "      <th>latitude</th>\n",
       "      <th>longitude</th>\n",
       "    </tr>\n",
       "    <tr>\n",
       "      <th>park_id</th>\n",
       "      <th></th>\n",
       "      <th></th>\n",
       "      <th></th>\n",
       "      <th></th>\n",
       "      <th></th>\n",
       "    </tr>\n",
       "  </thead>\n",
       "  <tbody>\n",
       "    <tr>\n",
       "      <th>57</th>\n",
       "      <td>California's Great America</td>\n",
       "      <td>United States</td>\n",
       "      <td>North America</td>\n",
       "      <td>37.397799</td>\n",
       "      <td>-121.974717</td>\n",
       "    </tr>\n",
       "    <tr>\n",
       "      <th>58</th>\n",
       "      <td>Canada's Wonderland</td>\n",
       "      <td>Canada</td>\n",
       "      <td>North America</td>\n",
       "      <td>43.843</td>\n",
       "      <td>-79.539</td>\n",
       "    </tr>\n",
       "    <tr>\n",
       "      <th>59</th>\n",
       "      <td>Carowinds</td>\n",
       "      <td>United States</td>\n",
       "      <td>North America</td>\n",
       "      <td>35.1045</td>\n",
       "      <td>-80.9394</td>\n",
       "    </tr>\n",
       "    <tr>\n",
       "      <th>50</th>\n",
       "      <td>Cedar Point</td>\n",
       "      <td>United States</td>\n",
       "      <td>North America</td>\n",
       "      <td>41.4822</td>\n",
       "      <td>-82.6835</td>\n",
       "    </tr>\n",
       "    <tr>\n",
       "      <th>69</th>\n",
       "      <td>Dorney Park</td>\n",
       "      <td>United States</td>\n",
       "      <td>North America</td>\n",
       "      <td>40.577942</td>\n",
       "      <td>-75.531528</td>\n",
       "    </tr>\n",
       "    <tr>\n",
       "      <th>...</th>\n",
       "      <td>...</td>\n",
       "      <td>...</td>\n",
       "      <td>...</td>\n",
       "      <td>...</td>\n",
       "      <td>...</td>\n",
       "    </tr>\n",
       "    <tr>\n",
       "      <th>5</th>\n",
       "      <td>Epcot</td>\n",
       "      <td>United States</td>\n",
       "      <td>North America</td>\n",
       "      <td>28.374694</td>\n",
       "      <td>-81.549404</td>\n",
       "    </tr>\n",
       "    <tr>\n",
       "      <th>30</th>\n",
       "      <td>Shanghai Disney Resort</td>\n",
       "      <td>China</td>\n",
       "      <td>Asia</td>\n",
       "      <td>31.144</td>\n",
       "      <td>121.657</td>\n",
       "    </tr>\n",
       "    <tr>\n",
       "      <th>274</th>\n",
       "      <td>Tokyo Disneyland</td>\n",
       "      <td>Japan</td>\n",
       "      <td>Asia</td>\n",
       "      <td>35.634848</td>\n",
       "      <td>139.879295</td>\n",
       "    </tr>\n",
       "    <tr>\n",
       "      <th>275</th>\n",
       "      <td>Tokyo DisneySea</td>\n",
       "      <td>Japan</td>\n",
       "      <td>Asia</td>\n",
       "      <td>35.627055</td>\n",
       "      <td>139.889097</td>\n",
       "    </tr>\n",
       "    <tr>\n",
       "      <th>28</th>\n",
       "      <td>Walt Disney Studios Paris</td>\n",
       "      <td>France</td>\n",
       "      <td>Europe</td>\n",
       "      <td>48.8673</td>\n",
       "      <td>2.779008</td>\n",
       "    </tr>\n",
       "  </tbody>\n",
       "</table>\n",
       "<p>133 rows × 5 columns</p>\n",
       "</div>"
      ],
      "text/plain": [
       "                          park_name        country      continent   latitude  \\\n",
       "park_id                                                                        \n",
       "57       California's Great America  United States  North America  37.397799   \n",
       "58              Canada's Wonderland         Canada  North America     43.843   \n",
       "59                        Carowinds  United States  North America    35.1045   \n",
       "50                      Cedar Point  United States  North America    41.4822   \n",
       "69                      Dorney Park  United States  North America  40.577942   \n",
       "...                             ...            ...            ...        ...   \n",
       "5                             Epcot  United States  North America  28.374694   \n",
       "30           Shanghai Disney Resort          China           Asia     31.144   \n",
       "274                Tokyo Disneyland          Japan           Asia  35.634848   \n",
       "275                 Tokyo DisneySea          Japan           Asia  35.627055   \n",
       "28        Walt Disney Studios Paris         France         Europe    48.8673   \n",
       "\n",
       "           longitude  \n",
       "park_id               \n",
       "57       -121.974717  \n",
       "58           -79.539  \n",
       "59          -80.9394  \n",
       "50          -82.6835  \n",
       "69        -75.531528  \n",
       "...              ...  \n",
       "5         -81.549404  \n",
       "30           121.657  \n",
       "274       139.879295  \n",
       "275       139.889097  \n",
       "28          2.779008  \n",
       "\n",
       "[133 rows x 5 columns]"
      ]
     },
     "execution_count": 238,
     "metadata": {},
     "output_type": "execute_result"
    }
   ],
   "source": [
    "import pandas as pd\n",
    "import json\n",
    "\n",
    "# Load the JSON file\n",
    "with open(\"../etl/extract/data/raw/parks.json\", \"r\") as f:\n",
    "    parks_data = json.load(f)\n",
    "# Normalize the parks list\n",
    "parks_df = pd.json_normalize(\n",
    "    parks_data,\n",
    "    record_path='parks',          # list of parks\n",
    "    meta=['id', 'name'],          # top-level company metadata\n",
    "    meta_prefix='company_'        # add prefix to top-level metadata\n",
    ")\n",
    "# Rename columns for clarity\n",
    "parks_df = parks_df.rename(columns={\n",
    "    'id': 'park_id',\n",
    "    'name': 'park_name'\n",
    "})\n",
    "# Drop unnecessary columns\n",
    "parks_df = parks_df.drop(columns=['company_id', 'company_name', 'timezone'])\n",
    "\n",
    "# Set index if 'park_id' exists\n",
    "#if 'id' in parks_df.columns:\n",
    "parks_df.set_index('park_id', inplace=True)\n",
    "\n",
    "parks_df"
   ]
  },
  {
   "cell_type": "code",
   "execution_count": null,
   "id": "be46a335",
   "metadata": {},
   "outputs": [],
   "source": []
  },
  {
   "cell_type": "code",
   "execution_count": null,
   "id": "f8f4cf66",
   "metadata": {},
   "outputs": [],
   "source": [
    "park_location_df = parks_df.filter(['park_id', 'park_name', 'continent'])\n",
    "park_location_df.drop_duplicates(subset=['park_name'], inplace=True)\n",
    "park_location_df = park_location_df.groupby(['continent']).agg(num_of_parks=('park_name', 'count'))\n",
    "park_location_df.to_csv('parks_by_continent.csv', index=True)\n",
    "\n"
   ]
  },
  {
   "cell_type": "code",
   "execution_count": 275,
   "id": "734ebb03",
   "metadata": {},
   "outputs": [
    {
     "data": {
      "application/vnd.microsoft.datawrangler.viewer.v0+json": {
       "columns": [
        {
         "name": "continent",
         "rawType": "object",
         "type": "string"
        },
        {
         "name": "num_of_parks",
         "rawType": "int64",
         "type": "integer"
        }
       ],
       "conversionMethod": "pd.DataFrame",
       "ref": "2b712160-1b06-4b1d-87ee-6a0c7a171c70",
       "rows": [
        [
         "Asia",
         "15"
        ],
        [
         "Europe",
         "41"
        ],
        [
         "North America",
         "64"
        ],
        [
         "South America",
         "1"
        ]
       ],
       "shape": {
        "columns": 1,
        "rows": 4
       }
      },
      "text/html": [
       "<div>\n",
       "<style scoped>\n",
       "    .dataframe tbody tr th:only-of-type {\n",
       "        vertical-align: middle;\n",
       "    }\n",
       "\n",
       "    .dataframe tbody tr th {\n",
       "        vertical-align: top;\n",
       "    }\n",
       "\n",
       "    .dataframe thead th {\n",
       "        text-align: right;\n",
       "    }\n",
       "</style>\n",
       "<table border=\"1\" class=\"dataframe\">\n",
       "  <thead>\n",
       "    <tr style=\"text-align: right;\">\n",
       "      <th></th>\n",
       "      <th>num_of_parks</th>\n",
       "    </tr>\n",
       "    <tr>\n",
       "      <th>continent</th>\n",
       "      <th></th>\n",
       "    </tr>\n",
       "  </thead>\n",
       "  <tbody>\n",
       "    <tr>\n",
       "      <th>Asia</th>\n",
       "      <td>15</td>\n",
       "    </tr>\n",
       "    <tr>\n",
       "      <th>Europe</th>\n",
       "      <td>41</td>\n",
       "    </tr>\n",
       "    <tr>\n",
       "      <th>North America</th>\n",
       "      <td>64</td>\n",
       "    </tr>\n",
       "    <tr>\n",
       "      <th>South America</th>\n",
       "      <td>1</td>\n",
       "    </tr>\n",
       "  </tbody>\n",
       "</table>\n",
       "</div>"
      ],
      "text/plain": [
       "               num_of_parks\n",
       "continent                  \n",
       "Asia                     15\n",
       "Europe                   41\n",
       "North America            64\n",
       "South America             1"
      ]
     },
     "execution_count": 275,
     "metadata": {},
     "output_type": "execute_result"
    }
   ],
   "source": [
    "park_location_df = full_df.filter(['park_id', 'continent']).reset_index()\n",
    "park_location_df.drop_duplicates(subset=['park_id'], inplace=True)\n",
    "park_location_df = park_location_df.groupby(['continent']).agg(num_of_parks=('park_id', 'count'))\n",
    "park_location_df\n",
    "\n"
   ]
  },
  {
   "cell_type": "code",
   "execution_count": 229,
   "id": "27ad567e",
   "metadata": {},
   "outputs": [
    {
     "data": {
      "application/vnd.microsoft.datawrangler.viewer.v0+json": {
       "columns": [
        {
         "name": "index",
         "rawType": "int64",
         "type": "integer"
        },
        {
         "name": "timestamp",
         "rawType": "datetime64[ns, UTC]",
         "type": "unknown"
        },
        {
         "name": "park_id",
         "rawType": "int64",
         "type": "integer"
        },
        {
         "name": "ride_id",
         "rawType": "int64",
         "type": "integer"
        },
        {
         "name": "ride_name",
         "rawType": "object",
         "type": "string"
        },
        {
         "name": "is_open",
         "rawType": "bool",
         "type": "boolean"
        },
        {
         "name": "wait_time",
         "rawType": "int64",
         "type": "integer"
        },
        {
         "name": "last_updated",
         "rawType": "object",
         "type": "string"
        },
        {
         "name": "land_id",
         "rawType": "float64",
         "type": "float"
        },
        {
         "name": "land_name",
         "rawType": "object",
         "type": "unknown"
        }
       ],
       "conversionMethod": "pd.DataFrame",
       "ref": "4995f694-600b-46ee-8e37-4d7757cfbf16",
       "rows": [
        [
         "0",
         "2025-05-13 18:41:52.601463+00:00",
         "57",
         "5852",
         "RailBlazer",
         "False",
         "0",
         "2025-05-13T18:40:22.000Z",
         "9.0",
         "Coasters"
        ],
        [
         "1",
         "2025-05-13 18:41:52.601463+00:00",
         "57",
         "7720",
         "Woodstock Express",
         "False",
         "0",
         "2025-05-13T18:40:22.000Z",
         "11.0",
         "Family"
        ],
        [
         "2",
         "2025-05-13 18:41:52.601463+00:00",
         "57",
         "7660",
         "The Pumpkin Patch",
         "False",
         "0",
         "2025-05-13T18:40:22.000Z",
         "13.0",
         "Kids"
        ],
        [
         "3",
         "2025-05-13 18:41:52.601463+00:00",
         "57",
         "7668",
         "Xtreme Skyflyer",
         "False",
         "0",
         "2025-05-13T18:40:22.000Z",
         "10.0",
         "Thrill"
        ],
        [
         "4",
         "2025-05-13 18:41:52.601463+00:00",
         "57",
         "13057",
         "Tide Pool Slides",
         "False",
         "0",
         "2025-05-13T18:40:22.000Z",
         "14.0",
         "Water Park"
        ],
        [
         "5",
         "2025-05-13 18:41:52.726123+00:00",
         "58",
         "6649",
         "Yukon Striker",
         "True",
         "0",
         "2025-05-13T18:40:45.000Z",
         "18.0",
         "Coasters"
        ],
        [
         "6",
         "2025-05-13 18:41:52.726123+00:00",
         "58",
         "7645",
         "White Water Canyon",
         "True",
         "0",
         "2025-05-13T18:40:45.000Z",
         "17.0",
         "Family"
        ],
        [
         "7",
         "2025-05-13 18:41:52.726123+00:00",
         "58",
         "7664",
         "Woodstock Whirlybirds",
         "True",
         "0",
         "2025-05-13T18:40:45.000Z",
         "19.0",
         "Kids"
        ],
        [
         "8",
         "2025-05-13 18:41:52.726123+00:00",
         "58",
         "5870",
         "WindSeeker",
         "True",
         "0",
         "2025-05-13T18:40:45.000Z",
         "21.0",
         "Thrill"
        ],
        [
         "9",
         "2025-05-13 18:41:52.726123+00:00",
         "58",
         "7672",
         "White Water Bay",
         "True",
         "0",
         "2025-05-13T18:40:45.000Z",
         "22.0",
         "Water Park"
        ],
        [
         "10",
         "2025-05-13 18:41:52.865116+00:00",
         "59",
         "5886",
         "Vortex",
         "False",
         "0",
         "2025-05-13T18:40:59.000Z",
         "25.0",
         "Coasters"
        ],
        [
         "11",
         "2025-05-13 18:41:52.865116+00:00",
         "59",
         "5891",
         "Zephyr",
         "False",
         "0",
         "2025-05-13T18:40:59.000Z",
         "23.0",
         "Family"
        ],
        [
         "12",
         "2025-05-13 18:41:52.865116+00:00",
         "59",
         "6436",
         "Woodstock Whirlybirds",
         "False",
         "0",
         "2025-05-13T18:40:59.000Z",
         "24.0",
         "Kids"
        ],
        [
         "13",
         "2025-05-13 18:41:52.865116+00:00",
         "59",
         "5887",
         "WindSeeker",
         "False",
         "0",
         "2025-05-13T18:40:59.000Z",
         "26.0",
         "Thrill"
        ],
        [
         "14",
         "2025-05-13 18:41:53.000656+00:00",
         "50",
         "4647",
         "Woodstock Express",
         "False",
         "0",
         "2025-05-13T18:40:14.000Z",
         "1.0",
         "Coasters"
        ],
        [
         "15",
         "2025-05-13 18:41:53.000656+00:00",
         "50",
         "4661",
         "Snoopys Express Railroad",
         "False",
         "0",
         "2025-05-13T18:40:14.000Z",
         "3.0",
         "Family"
        ],
        [
         "16",
         "2025-05-13 18:41:53.000656+00:00",
         "50",
         "12861",
         "Woodstocks Whirlybirds",
         "False",
         "0",
         "2025-05-13T18:40:14.000Z",
         "4.0",
         "Kids"
        ],
        [
         "17",
         "2025-05-13 18:41:53.000656+00:00",
         "50",
         "3777",
         "WindSeeker",
         "False",
         "0",
         "2025-05-13T18:40:14.000Z",
         "2.0",
         "Thrill"
        ],
        [
         "18",
         "2025-05-13 18:41:53.000656+00:00",
         "50",
         "12871",
         "Plunge Slide",
         "False",
         "0",
         "2025-05-13T18:40:14.000Z",
         "7.0",
         "Water Park"
        ],
        [
         "19",
         "2025-05-13 18:41:53.140688+00:00",
         "69",
         "6664",
         "Wild Mouse",
         "False",
         "0",
         "2025-05-13T18:37:26.000Z",
         "31.0",
         "Coasters"
        ],
        [
         "20",
         "2025-05-13 18:41:53.140688+00:00",
         "69",
         "7792",
         "Zephyr",
         "False",
         "0",
         "2025-05-13T18:37:26.000Z",
         "32.0",
         "Family"
        ],
        [
         "21",
         "2025-05-13 18:41:53.140688+00:00",
         "69",
         "7780",
         "PS - Woodstocks Wagon Wheel",
         "False",
         "0",
         "2025-05-13T18:37:26.000Z",
         "30.0",
         "Kids"
        ],
        [
         "22",
         "2025-05-13 18:41:53.140688+00:00",
         "69",
         "6663",
         "White Water Landing",
         "False",
         "0",
         "2025-05-13T18:37:26.000Z",
         "33.0",
         "Thrill"
        ],
        [
         "23",
         "2025-05-13 18:41:53.140688+00:00",
         "69",
         "6665",
         "Wildwater River",
         "False",
         "0",
         "2025-05-13T18:37:26.000Z",
         "238.0",
         "Wildwater Kingdom"
        ],
        [
         "24",
         "2025-05-13 18:41:53.279542+00:00",
         "62",
         "5937",
         "Twisted Timbers",
         "False",
         "0",
         "2025-05-13T18:36:45.000Z",
         "35.0",
         "Coasters"
        ],
        [
         "25",
         "2025-05-13 18:41:53.279542+00:00",
         "62",
         "7740",
         "Woodstock Express",
         "False",
         "0",
         "2025-05-13T18:36:45.000Z",
         "36.0",
         "Family"
        ],
        [
         "26",
         "2025-05-13 18:41:53.279542+00:00",
         "62",
         "7777",
         "Woodstock Whirlybirds",
         "False",
         "0",
         "2025-05-13T18:36:45.000Z",
         "38.0",
         "Kids"
        ],
        [
         "27",
         "2025-05-13 18:41:53.279542+00:00",
         "62",
         "12663",
         "Xtreme SkyFlyer - Delta",
         "False",
         "0",
         "2025-05-13T18:36:45.000Z",
         "34.0",
         "Thrill"
        ],
        [
         "28",
         "2025-05-13 18:41:53.424365+00:00",
         "60",
         "12706",
         "Racer Red",
         "False",
         "0",
         "2025-05-13T18:41:05.000Z",
         "41.0",
         "Coasters"
        ],
        [
         "29",
         "2025-05-13 18:41:53.424365+00:00",
         "60",
         "7603",
         "Zephyr",
         "False",
         "0",
         "2025-05-13T18:36:09.000Z",
         "42.0",
         "Family"
        ],
        [
         "30",
         "2025-05-13 18:41:53.424365+00:00",
         "60",
         "7608",
         "Woodstock's Whirlybirds",
         "False",
         "0",
         "2025-05-13T18:36:09.000Z",
         "44.0",
         "Kids"
        ],
        [
         "31",
         "2025-05-13 18:41:53.424365+00:00",
         "60",
         "7618",
         "WindSeeker",
         "False",
         "0",
         "2025-05-13T18:36:09.000Z",
         "43.0",
         "Thrill"
        ],
        [
         "32",
         "2025-05-13 18:41:53.580181+00:00",
         "61",
         "5918",
         "Xcelerator The Ride",
         "True",
         "20",
         "2025-05-13T18:36:26.000Z",
         "50.0",
         "Coasters"
        ],
        [
         "33",
         "2025-05-13 18:41:53.580181+00:00",
         "61",
         "12572",
         "Wipeout",
         "True",
         "0",
         "2025-05-13T18:36:26.000Z",
         "48.0",
         "Family"
        ],
        [
         "34",
         "2025-05-13 18:41:53.580181+00:00",
         "61",
         "7750",
         "Rapid River Run",
         "True",
         "0",
         "2025-05-13T18:36:26.000Z",
         "51.0",
         "Kids"
        ],
        [
         "35",
         "2025-05-13 18:41:53.580181+00:00",
         "61",
         "5921",
         "Supreme Scream",
         "True",
         "5",
         "2025-05-13T18:36:26.000Z",
         "47.0",
         "Thrill"
        ],
        [
         "36",
         "2025-05-13 18:41:53.580181+00:00",
         "61",
         "13615",
         "Wedge",
         "False",
         "0",
         "2025-05-13T18:36:26.000Z",
         "240.0",
         "Water Park"
        ],
        [
         "37",
         "2025-05-13 18:41:53.718044+00:00",
         "70",
         "8754",
         "Zach's Zoomer",
         "False",
         "0",
         "2025-05-13T18:37:08.000Z",
         "55.0",
         "Coasters"
        ],
        [
         "38",
         "2025-05-13 18:41:53.718044+00:00",
         "70",
         "8753",
         "Winky The Whale",
         "False",
         "0",
         "2025-05-13T18:37:08.000Z",
         "54.0",
         "Family"
        ],
        [
         "39",
         "2025-05-13 18:41:53.718044+00:00",
         "70",
         "8742",
         "Motorcycles",
         "False",
         "0",
         "2025-05-13T18:37:08.000Z",
         "58.0",
         "Kids"
        ],
        [
         "40",
         "2025-05-13 18:41:53.718044+00:00",
         "70",
         "8743",
         "RipCord",
         "False",
         "0",
         "2025-05-13T18:37:08.000Z",
         "57.0",
         "Thrill"
        ],
        [
         "41",
         "2025-05-13 18:41:53.718044+00:00",
         "70",
         "13554",
         "Wild Slide/Ridge Rider",
         "False",
         "0",
         "2025-05-13T18:37:08.000Z",
         "56.0",
         "Wildwater Adventure"
        ],
        [
         "42",
         "2025-05-13 18:41:53.839341+00:00",
         "68",
         "7879",
         "Wheel of Fortune",
         "False",
         "0",
         "2025-05-13T18:37:37.000Z",
         "64.0",
         "Family"
        ],
        [
         "43",
         "2025-05-13 18:41:53.839341+00:00",
         "68",
         "7877",
         "Woodstock Whirlybirds",
         "False",
         "0",
         "2025-05-13T18:37:37.000Z",
         "63.0",
         "Kids"
        ],
        [
         "44",
         "2025-05-13 18:41:53.839341+00:00",
         "68",
         "7218",
         "Undertakers",
         "False",
         "0",
         "2025-05-13T18:37:37.000Z",
         "59.0",
         "Other Rides"
        ],
        [
         "45",
         "2025-05-13 18:41:53.839341+00:00",
         "68",
         "7886",
         "Tilter",
         "False",
         "0",
         "2025-05-13T18:37:37.000Z",
         "60.0",
         "Route 76"
        ],
        [
         "46",
         "2025-05-13 18:41:53.839341+00:00",
         "68",
         "6580",
         "Xtreme Swing",
         "False",
         "0",
         "2025-05-13T18:37:37.000Z",
         "61.0",
         "Thrill"
        ],
        [
         "47",
         "2025-05-13 18:41:53.839341+00:00",
         "68",
         "14043",
         "Toxicity",
         "False",
         "0",
         "2025-05-13T18:37:37.000Z",
         "245.0",
         "Halloween"
        ],
        [
         "48",
         "2025-05-13 18:41:53.839341+00:00",
         "68",
         "7866",
         "Splash Station",
         "False",
         "0",
         "2025-05-10T18:37:35.000Z",
         "62.0",
         "Soak City"
        ],
        [
         "49",
         "2025-05-13 18:41:53.973227+00:00",
         "63",
         "6556",
         "Worlds of Fun Railroad",
         "False",
         "0",
         "2025-05-13T18:36:55.000Z",
         "66.0",
         "Family"
        ]
       ],
       "shape": {
        "columns": 9,
        "rows": 9520
       }
      },
      "text/html": [
       "<div>\n",
       "<style scoped>\n",
       "    .dataframe tbody tr th:only-of-type {\n",
       "        vertical-align: middle;\n",
       "    }\n",
       "\n",
       "    .dataframe tbody tr th {\n",
       "        vertical-align: top;\n",
       "    }\n",
       "\n",
       "    .dataframe thead th {\n",
       "        text-align: right;\n",
       "    }\n",
       "</style>\n",
       "<table border=\"1\" class=\"dataframe\">\n",
       "  <thead>\n",
       "    <tr style=\"text-align: right;\">\n",
       "      <th></th>\n",
       "      <th>timestamp</th>\n",
       "      <th>park_id</th>\n",
       "      <th>ride_id</th>\n",
       "      <th>ride_name</th>\n",
       "      <th>is_open</th>\n",
       "      <th>wait_time</th>\n",
       "      <th>last_updated</th>\n",
       "      <th>land_id</th>\n",
       "      <th>land_name</th>\n",
       "    </tr>\n",
       "  </thead>\n",
       "  <tbody>\n",
       "    <tr>\n",
       "      <th>0</th>\n",
       "      <td>2025-05-13 18:41:52.601463+00:00</td>\n",
       "      <td>57</td>\n",
       "      <td>5852</td>\n",
       "      <td>RailBlazer</td>\n",
       "      <td>False</td>\n",
       "      <td>0</td>\n",
       "      <td>2025-05-13T18:40:22.000Z</td>\n",
       "      <td>9.0</td>\n",
       "      <td>Coasters</td>\n",
       "    </tr>\n",
       "    <tr>\n",
       "      <th>1</th>\n",
       "      <td>2025-05-13 18:41:52.601463+00:00</td>\n",
       "      <td>57</td>\n",
       "      <td>7720</td>\n",
       "      <td>Woodstock Express</td>\n",
       "      <td>False</td>\n",
       "      <td>0</td>\n",
       "      <td>2025-05-13T18:40:22.000Z</td>\n",
       "      <td>11.0</td>\n",
       "      <td>Family</td>\n",
       "    </tr>\n",
       "    <tr>\n",
       "      <th>2</th>\n",
       "      <td>2025-05-13 18:41:52.601463+00:00</td>\n",
       "      <td>57</td>\n",
       "      <td>7660</td>\n",
       "      <td>The Pumpkin Patch</td>\n",
       "      <td>False</td>\n",
       "      <td>0</td>\n",
       "      <td>2025-05-13T18:40:22.000Z</td>\n",
       "      <td>13.0</td>\n",
       "      <td>Kids</td>\n",
       "    </tr>\n",
       "    <tr>\n",
       "      <th>3</th>\n",
       "      <td>2025-05-13 18:41:52.601463+00:00</td>\n",
       "      <td>57</td>\n",
       "      <td>7668</td>\n",
       "      <td>Xtreme Skyflyer</td>\n",
       "      <td>False</td>\n",
       "      <td>0</td>\n",
       "      <td>2025-05-13T18:40:22.000Z</td>\n",
       "      <td>10.0</td>\n",
       "      <td>Thrill</td>\n",
       "    </tr>\n",
       "    <tr>\n",
       "      <th>4</th>\n",
       "      <td>2025-05-13 18:41:52.601463+00:00</td>\n",
       "      <td>57</td>\n",
       "      <td>13057</td>\n",
       "      <td>Tide Pool Slides</td>\n",
       "      <td>False</td>\n",
       "      <td>0</td>\n",
       "      <td>2025-05-13T18:40:22.000Z</td>\n",
       "      <td>14.0</td>\n",
       "      <td>Water Park</td>\n",
       "    </tr>\n",
       "    <tr>\n",
       "      <th>...</th>\n",
       "      <td>...</td>\n",
       "      <td>...</td>\n",
       "      <td>...</td>\n",
       "      <td>...</td>\n",
       "      <td>...</td>\n",
       "      <td>...</td>\n",
       "      <td>...</td>\n",
       "      <td>...</td>\n",
       "      <td>...</td>\n",
       "    </tr>\n",
       "    <tr>\n",
       "      <th>9515</th>\n",
       "      <td>2025-05-14 12:12:39.894646+00:00</td>\n",
       "      <td>274</td>\n",
       "      <td>7991</td>\n",
       "      <td>Westernland Shootin' Gallery</td>\n",
       "      <td>False</td>\n",
       "      <td>0</td>\n",
       "      <td>2025-05-14T12:07:54.000Z</td>\n",
       "      <td>NaN</td>\n",
       "      <td>None</td>\n",
       "    </tr>\n",
       "    <tr>\n",
       "      <th>9516</th>\n",
       "      <td>2025-05-14 12:12:40.026123+00:00</td>\n",
       "      <td>275</td>\n",
       "      <td>8034</td>\n",
       "      <td>Venetian Gondolas</td>\n",
       "      <td>False</td>\n",
       "      <td>0</td>\n",
       "      <td>2025-05-14T12:08:09.000Z</td>\n",
       "      <td>NaN</td>\n",
       "      <td>None</td>\n",
       "    </tr>\n",
       "    <tr>\n",
       "      <th>9517</th>\n",
       "      <td>2025-05-14 12:12:40.172345+00:00</td>\n",
       "      <td>28</td>\n",
       "      <td>10846</td>\n",
       "      <td>Spider-Man W.E.B. Adventure Single Rider</td>\n",
       "      <td>True</td>\n",
       "      <td>5</td>\n",
       "      <td>2025-05-14T12:10:04.000Z</td>\n",
       "      <td>906.0</td>\n",
       "      <td>Marvel Avengers Campus</td>\n",
       "    </tr>\n",
       "    <tr>\n",
       "      <th>9518</th>\n",
       "      <td>2025-05-14 12:12:40.172345+00:00</td>\n",
       "      <td>28</td>\n",
       "      <td>40</td>\n",
       "      <td>The Twilight Zone Tower of Terror</td>\n",
       "      <td>True</td>\n",
       "      <td>30</td>\n",
       "      <td>2025-05-14T12:10:04.000Z</td>\n",
       "      <td>26.0</td>\n",
       "      <td>Production Courtyard</td>\n",
       "    </tr>\n",
       "    <tr>\n",
       "      <th>9519</th>\n",
       "      <td>2025-05-14 12:12:40.172345+00:00</td>\n",
       "      <td>28</td>\n",
       "      <td>7281</td>\n",
       "      <td>Toy Soldiers Parachute Drop Single Rider</td>\n",
       "      <td>True</td>\n",
       "      <td>15</td>\n",
       "      <td>2025-05-14T12:10:04.000Z</td>\n",
       "      <td>27.0</td>\n",
       "      <td>Toon Studio</td>\n",
       "    </tr>\n",
       "  </tbody>\n",
       "</table>\n",
       "<p>9520 rows × 9 columns</p>\n",
       "</div>"
      ],
      "text/plain": [
       "                            timestamp  park_id  ride_id  \\\n",
       "0    2025-05-13 18:41:52.601463+00:00       57     5852   \n",
       "1    2025-05-13 18:41:52.601463+00:00       57     7720   \n",
       "2    2025-05-13 18:41:52.601463+00:00       57     7660   \n",
       "3    2025-05-13 18:41:52.601463+00:00       57     7668   \n",
       "4    2025-05-13 18:41:52.601463+00:00       57    13057   \n",
       "...                               ...      ...      ...   \n",
       "9515 2025-05-14 12:12:39.894646+00:00      274     7991   \n",
       "9516 2025-05-14 12:12:40.026123+00:00      275     8034   \n",
       "9517 2025-05-14 12:12:40.172345+00:00       28    10846   \n",
       "9518 2025-05-14 12:12:40.172345+00:00       28       40   \n",
       "9519 2025-05-14 12:12:40.172345+00:00       28     7281   \n",
       "\n",
       "                                     ride_name  is_open  wait_time  \\\n",
       "0                                   RailBlazer    False          0   \n",
       "1                            Woodstock Express    False          0   \n",
       "2                            The Pumpkin Patch    False          0   \n",
       "3                              Xtreme Skyflyer    False          0   \n",
       "4                             Tide Pool Slides    False          0   \n",
       "...                                        ...      ...        ...   \n",
       "9515              Westernland Shootin' Gallery    False          0   \n",
       "9516                         Venetian Gondolas    False          0   \n",
       "9517  Spider-Man W.E.B. Adventure Single Rider     True          5   \n",
       "9518         The Twilight Zone Tower of Terror     True         30   \n",
       "9519  Toy Soldiers Parachute Drop Single Rider     True         15   \n",
       "\n",
       "                  last_updated  land_id               land_name  \n",
       "0     2025-05-13T18:40:22.000Z      9.0                Coasters  \n",
       "1     2025-05-13T18:40:22.000Z     11.0                  Family  \n",
       "2     2025-05-13T18:40:22.000Z     13.0                    Kids  \n",
       "3     2025-05-13T18:40:22.000Z     10.0                  Thrill  \n",
       "4     2025-05-13T18:40:22.000Z     14.0              Water Park  \n",
       "...                        ...      ...                     ...  \n",
       "9515  2025-05-14T12:07:54.000Z      NaN                    None  \n",
       "9516  2025-05-14T12:08:09.000Z      NaN                    None  \n",
       "9517  2025-05-14T12:10:04.000Z    906.0  Marvel Avengers Campus  \n",
       "9518  2025-05-14T12:10:04.000Z     26.0    Production Courtyard  \n",
       "9519  2025-05-14T12:10:04.000Z     27.0             Toon Studio  \n",
       "\n",
       "[9520 rows x 9 columns]"
      ]
     },
     "execution_count": 229,
     "metadata": {},
     "output_type": "execute_result"
    }
   ],
   "source": [
    "\n",
    "# Load the JSONL queue times file\n",
    "\n",
    "file_path = \"../etl/extract/data/raw/queue_times_log.jsonl\"\n",
    "df_raw = pd.read_json(file_path, lines=True)\n",
    "records = []\n",
    "\n",
    "for _, row in df_raw.iterrows():\n",
    "    timestamp = row[\"timestamp\"]\n",
    "    park_id = row[\"park_id\"]\n",
    "    data = row[\"data\"]\n",
    "\n",
    "    if data[\"lands\"] == []:\n",
    "        for ride in data.get(\"rides\", []):\n",
    "            record = {\n",
    "                \"timestamp\": timestamp,\n",
    "                \"park_id\": park_id,\n",
    "                \"ride_id\": ride.get(\"id\"),\n",
    "                \"ride_name\": ride.get(\"name\"),\n",
    "                \"is_open\": ride.get(\"is_open\"),\n",
    "                \"wait_time\": ride.get(\"wait_time\"),\n",
    "                \"last_updated\": ride.get(\"last_updated\"),\n",
    "                \"land_id\": None,\n",
    "                \"land_name\": None\n",
    "            }\n",
    "        records.append(record)\n",
    "    else:\n",
    "        for land in data.get(\"lands\", []):\n",
    "         \n",
    "            land_id = land.get(\"id\")\n",
    "            land_name = land.get(\"name\")\n",
    "            for ride in land.get(\"rides\", []):\n",
    "                record = {\n",
    "                    \"timestamp\": timestamp,\n",
    "                    \"park_id\": park_id,\n",
    "                    \"ride_id\": ride.get(\"id\"),\n",
    "                    \"ride_name\": ride.get(\"name\"),\n",
    "                    \"is_open\": ride.get(\"is_open\"),\n",
    "                    \"wait_time\": ride.get(\"wait_time\"),\n",
    "                    \"last_updated\": ride.get(\"last_updated\"),\n",
    "                    \"land_id\": land_id,\n",
    "                    \"land_name\": land_name\n",
    "                }\n",
    "            records.append(record)\n",
    "\n",
    "df_rides = pd.DataFrame(records)\n",
    "df_rides"
   ]
  },
  {
   "cell_type": "code",
   "execution_count": 239,
   "id": "0a18a353",
   "metadata": {},
   "outputs": [
    {
     "data": {
      "application/vnd.microsoft.datawrangler.viewer.v0+json": {
       "columns": [
        {
         "name": "index",
         "rawType": "int64",
         "type": "integer"
        },
        {
         "name": "timestamp",
         "rawType": "datetime64[ns, UTC]",
         "type": "unknown"
        },
        {
         "name": "park_id",
         "rawType": "int64",
         "type": "integer"
        },
        {
         "name": "ride_id",
         "rawType": "int64",
         "type": "integer"
        },
        {
         "name": "ride_name",
         "rawType": "object",
         "type": "string"
        },
        {
         "name": "is_open",
         "rawType": "bool",
         "type": "boolean"
        },
        {
         "name": "wait_time",
         "rawType": "int64",
         "type": "integer"
        },
        {
         "name": "last_updated",
         "rawType": "object",
         "type": "string"
        },
        {
         "name": "park_name",
         "rawType": "object",
         "type": "string"
        },
        {
         "name": "country",
         "rawType": "object",
         "type": "string"
        },
        {
         "name": "continent",
         "rawType": "object",
         "type": "string"
        },
        {
         "name": "latitude",
         "rawType": "object",
         "type": "string"
        },
        {
         "name": "longitude",
         "rawType": "object",
         "type": "string"
        }
       ],
       "conversionMethod": "pd.DataFrame",
       "ref": "bc4a692d-1641-47df-99d1-dbd5cd11a557",
       "rows": [
        [
         "0",
         "2025-05-13 18:41:52.601463+00:00",
         "57",
         "5852",
         "RailBlazer",
         "False",
         "0",
         "2025-05-13T18:40:22.000Z",
         "California's Great America",
         "United States",
         "North America",
         "37.397799",
         "-121.974717"
        ],
        [
         "1",
         "2025-05-13 18:41:52.601463+00:00",
         "57",
         "7720",
         "Woodstock Express",
         "False",
         "0",
         "2025-05-13T18:40:22.000Z",
         "California's Great America",
         "United States",
         "North America",
         "37.397799",
         "-121.974717"
        ],
        [
         "2",
         "2025-05-13 18:41:52.601463+00:00",
         "57",
         "7660",
         "The Pumpkin Patch",
         "False",
         "0",
         "2025-05-13T18:40:22.000Z",
         "California's Great America",
         "United States",
         "North America",
         "37.397799",
         "-121.974717"
        ],
        [
         "3",
         "2025-05-13 18:41:52.601463+00:00",
         "57",
         "7668",
         "Xtreme Skyflyer",
         "False",
         "0",
         "2025-05-13T18:40:22.000Z",
         "California's Great America",
         "United States",
         "North America",
         "37.397799",
         "-121.974717"
        ],
        [
         "4",
         "2025-05-13 18:41:52.601463+00:00",
         "57",
         "13057",
         "Tide Pool Slides",
         "False",
         "0",
         "2025-05-13T18:40:22.000Z",
         "California's Great America",
         "United States",
         "North America",
         "37.397799",
         "-121.974717"
        ],
        [
         "5",
         "2025-05-13 18:41:52.726123+00:00",
         "58",
         "6649",
         "Yukon Striker",
         "True",
         "0",
         "2025-05-13T18:40:45.000Z",
         "Canada's Wonderland",
         "Canada",
         "North America",
         "43.843",
         "-79.539"
        ],
        [
         "6",
         "2025-05-13 18:41:52.726123+00:00",
         "58",
         "7645",
         "White Water Canyon",
         "True",
         "0",
         "2025-05-13T18:40:45.000Z",
         "Canada's Wonderland",
         "Canada",
         "North America",
         "43.843",
         "-79.539"
        ],
        [
         "7",
         "2025-05-13 18:41:52.726123+00:00",
         "58",
         "7664",
         "Woodstock Whirlybirds",
         "True",
         "0",
         "2025-05-13T18:40:45.000Z",
         "Canada's Wonderland",
         "Canada",
         "North America",
         "43.843",
         "-79.539"
        ],
        [
         "8",
         "2025-05-13 18:41:52.726123+00:00",
         "58",
         "5870",
         "WindSeeker",
         "True",
         "0",
         "2025-05-13T18:40:45.000Z",
         "Canada's Wonderland",
         "Canada",
         "North America",
         "43.843",
         "-79.539"
        ],
        [
         "9",
         "2025-05-13 18:41:52.726123+00:00",
         "58",
         "7672",
         "White Water Bay",
         "True",
         "0",
         "2025-05-13T18:40:45.000Z",
         "Canada's Wonderland",
         "Canada",
         "North America",
         "43.843",
         "-79.539"
        ],
        [
         "10",
         "2025-05-13 18:41:52.865116+00:00",
         "59",
         "5886",
         "Vortex",
         "False",
         "0",
         "2025-05-13T18:40:59.000Z",
         "Carowinds",
         "United States",
         "North America",
         "35.1045",
         "-80.9394"
        ],
        [
         "11",
         "2025-05-13 18:41:52.865116+00:00",
         "59",
         "5891",
         "Zephyr",
         "False",
         "0",
         "2025-05-13T18:40:59.000Z",
         "Carowinds",
         "United States",
         "North America",
         "35.1045",
         "-80.9394"
        ],
        [
         "12",
         "2025-05-13 18:41:52.865116+00:00",
         "59",
         "6436",
         "Woodstock Whirlybirds",
         "False",
         "0",
         "2025-05-13T18:40:59.000Z",
         "Carowinds",
         "United States",
         "North America",
         "35.1045",
         "-80.9394"
        ],
        [
         "13",
         "2025-05-13 18:41:52.865116+00:00",
         "59",
         "5887",
         "WindSeeker",
         "False",
         "0",
         "2025-05-13T18:40:59.000Z",
         "Carowinds",
         "United States",
         "North America",
         "35.1045",
         "-80.9394"
        ],
        [
         "14",
         "2025-05-13 18:41:53.000656+00:00",
         "50",
         "4647",
         "Woodstock Express",
         "False",
         "0",
         "2025-05-13T18:40:14.000Z",
         "Cedar Point",
         "United States",
         "North America",
         "41.4822",
         "-82.6835"
        ],
        [
         "15",
         "2025-05-13 18:41:53.000656+00:00",
         "50",
         "4661",
         "Snoopys Express Railroad",
         "False",
         "0",
         "2025-05-13T18:40:14.000Z",
         "Cedar Point",
         "United States",
         "North America",
         "41.4822",
         "-82.6835"
        ],
        [
         "16",
         "2025-05-13 18:41:53.000656+00:00",
         "50",
         "12861",
         "Woodstocks Whirlybirds",
         "False",
         "0",
         "2025-05-13T18:40:14.000Z",
         "Cedar Point",
         "United States",
         "North America",
         "41.4822",
         "-82.6835"
        ],
        [
         "17",
         "2025-05-13 18:41:53.000656+00:00",
         "50",
         "3777",
         "WindSeeker",
         "False",
         "0",
         "2025-05-13T18:40:14.000Z",
         "Cedar Point",
         "United States",
         "North America",
         "41.4822",
         "-82.6835"
        ],
        [
         "18",
         "2025-05-13 18:41:53.000656+00:00",
         "50",
         "12871",
         "Plunge Slide",
         "False",
         "0",
         "2025-05-13T18:40:14.000Z",
         "Cedar Point",
         "United States",
         "North America",
         "41.4822",
         "-82.6835"
        ],
        [
         "19",
         "2025-05-13 18:41:53.140688+00:00",
         "69",
         "6664",
         "Wild Mouse",
         "False",
         "0",
         "2025-05-13T18:37:26.000Z",
         "Dorney Park",
         "United States",
         "North America",
         "40.577942",
         "-75.531528"
        ],
        [
         "20",
         "2025-05-13 18:41:53.140688+00:00",
         "69",
         "7792",
         "Zephyr",
         "False",
         "0",
         "2025-05-13T18:37:26.000Z",
         "Dorney Park",
         "United States",
         "North America",
         "40.577942",
         "-75.531528"
        ],
        [
         "21",
         "2025-05-13 18:41:53.140688+00:00",
         "69",
         "7780",
         "PS - Woodstocks Wagon Wheel",
         "False",
         "0",
         "2025-05-13T18:37:26.000Z",
         "Dorney Park",
         "United States",
         "North America",
         "40.577942",
         "-75.531528"
        ],
        [
         "22",
         "2025-05-13 18:41:53.140688+00:00",
         "69",
         "6663",
         "White Water Landing",
         "False",
         "0",
         "2025-05-13T18:37:26.000Z",
         "Dorney Park",
         "United States",
         "North America",
         "40.577942",
         "-75.531528"
        ],
        [
         "23",
         "2025-05-13 18:41:53.140688+00:00",
         "69",
         "6665",
         "Wildwater River",
         "False",
         "0",
         "2025-05-13T18:37:26.000Z",
         "Dorney Park",
         "United States",
         "North America",
         "40.577942",
         "-75.531528"
        ],
        [
         "24",
         "2025-05-13 18:41:53.279542+00:00",
         "62",
         "5937",
         "Twisted Timbers",
         "False",
         "0",
         "2025-05-13T18:36:45.000Z",
         "Kings Dominion",
         "United States",
         "North America",
         "37.84",
         "-77.445"
        ],
        [
         "25",
         "2025-05-13 18:41:53.279542+00:00",
         "62",
         "7740",
         "Woodstock Express",
         "False",
         "0",
         "2025-05-13T18:36:45.000Z",
         "Kings Dominion",
         "United States",
         "North America",
         "37.84",
         "-77.445"
        ],
        [
         "26",
         "2025-05-13 18:41:53.279542+00:00",
         "62",
         "7777",
         "Woodstock Whirlybirds",
         "False",
         "0",
         "2025-05-13T18:36:45.000Z",
         "Kings Dominion",
         "United States",
         "North America",
         "37.84",
         "-77.445"
        ],
        [
         "27",
         "2025-05-13 18:41:53.279542+00:00",
         "62",
         "12663",
         "Xtreme SkyFlyer - Delta",
         "False",
         "0",
         "2025-05-13T18:36:45.000Z",
         "Kings Dominion",
         "United States",
         "North America",
         "37.84",
         "-77.445"
        ],
        [
         "28",
         "2025-05-13 18:41:53.424365+00:00",
         "60",
         "12706",
         "Racer Red",
         "False",
         "0",
         "2025-05-13T18:41:05.000Z",
         "Kings Island",
         "United States",
         "North America",
         "39.3447",
         "-84.2686"
        ],
        [
         "29",
         "2025-05-13 18:41:53.424365+00:00",
         "60",
         "7603",
         "Zephyr",
         "False",
         "0",
         "2025-05-13T18:36:09.000Z",
         "Kings Island",
         "United States",
         "North America",
         "39.3447",
         "-84.2686"
        ],
        [
         "30",
         "2025-05-13 18:41:53.424365+00:00",
         "60",
         "7608",
         "Woodstock's Whirlybirds",
         "False",
         "0",
         "2025-05-13T18:36:09.000Z",
         "Kings Island",
         "United States",
         "North America",
         "39.3447",
         "-84.2686"
        ],
        [
         "31",
         "2025-05-13 18:41:53.424365+00:00",
         "60",
         "7618",
         "WindSeeker",
         "False",
         "0",
         "2025-05-13T18:36:09.000Z",
         "Kings Island",
         "United States",
         "North America",
         "39.3447",
         "-84.2686"
        ],
        [
         "32",
         "2025-05-13 18:41:53.580181+00:00",
         "61",
         "5918",
         "Xcelerator The Ride",
         "True",
         "20",
         "2025-05-13T18:36:26.000Z",
         "Knott's Berry Farm",
         "United States",
         "North America",
         "33.8442",
         "-117.9986"
        ],
        [
         "33",
         "2025-05-13 18:41:53.580181+00:00",
         "61",
         "12572",
         "Wipeout",
         "True",
         "0",
         "2025-05-13T18:36:26.000Z",
         "Knott's Berry Farm",
         "United States",
         "North America",
         "33.8442",
         "-117.9986"
        ],
        [
         "34",
         "2025-05-13 18:41:53.580181+00:00",
         "61",
         "7750",
         "Rapid River Run",
         "True",
         "0",
         "2025-05-13T18:36:26.000Z",
         "Knott's Berry Farm",
         "United States",
         "North America",
         "33.8442",
         "-117.9986"
        ],
        [
         "35",
         "2025-05-13 18:41:53.580181+00:00",
         "61",
         "5921",
         "Supreme Scream",
         "True",
         "5",
         "2025-05-13T18:36:26.000Z",
         "Knott's Berry Farm",
         "United States",
         "North America",
         "33.8442",
         "-117.9986"
        ],
        [
         "36",
         "2025-05-13 18:41:53.580181+00:00",
         "61",
         "13615",
         "Wedge",
         "False",
         "0",
         "2025-05-13T18:36:26.000Z",
         "Knott's Berry Farm",
         "United States",
         "North America",
         "33.8442",
         "-117.9986"
        ],
        [
         "37",
         "2025-05-13 18:41:53.718044+00:00",
         "70",
         "8754",
         "Zach's Zoomer",
         "False",
         "0",
         "2025-05-13T18:37:08.000Z",
         "Michigan's Adventure",
         "United States",
         "North America",
         "43.3474",
         "-86.2789"
        ],
        [
         "38",
         "2025-05-13 18:41:53.718044+00:00",
         "70",
         "8753",
         "Winky The Whale",
         "False",
         "0",
         "2025-05-13T18:37:08.000Z",
         "Michigan's Adventure",
         "United States",
         "North America",
         "43.3474",
         "-86.2789"
        ],
        [
         "39",
         "2025-05-13 18:41:53.718044+00:00",
         "70",
         "8742",
         "Motorcycles",
         "False",
         "0",
         "2025-05-13T18:37:08.000Z",
         "Michigan's Adventure",
         "United States",
         "North America",
         "43.3474",
         "-86.2789"
        ],
        [
         "40",
         "2025-05-13 18:41:53.718044+00:00",
         "70",
         "8743",
         "RipCord",
         "False",
         "0",
         "2025-05-13T18:37:08.000Z",
         "Michigan's Adventure",
         "United States",
         "North America",
         "43.3474",
         "-86.2789"
        ],
        [
         "41",
         "2025-05-13 18:41:53.718044+00:00",
         "70",
         "13554",
         "Wild Slide/Ridge Rider",
         "False",
         "0",
         "2025-05-13T18:37:08.000Z",
         "Michigan's Adventure",
         "United States",
         "North America",
         "43.3474",
         "-86.2789"
        ],
        [
         "42",
         "2025-05-13 18:41:53.839341+00:00",
         "68",
         "7879",
         "Wheel of Fortune",
         "False",
         "0",
         "2025-05-13T18:37:37.000Z",
         "Valleyfair",
         "United States",
         "North America",
         "44.798742",
         "-93.453369"
        ],
        [
         "43",
         "2025-05-13 18:41:53.839341+00:00",
         "68",
         "7877",
         "Woodstock Whirlybirds",
         "False",
         "0",
         "2025-05-13T18:37:37.000Z",
         "Valleyfair",
         "United States",
         "North America",
         "44.798742",
         "-93.453369"
        ],
        [
         "44",
         "2025-05-13 18:41:53.839341+00:00",
         "68",
         "7218",
         "Undertakers",
         "False",
         "0",
         "2025-05-13T18:37:37.000Z",
         "Valleyfair",
         "United States",
         "North America",
         "44.798742",
         "-93.453369"
        ],
        [
         "45",
         "2025-05-13 18:41:53.839341+00:00",
         "68",
         "7886",
         "Tilter",
         "False",
         "0",
         "2025-05-13T18:37:37.000Z",
         "Valleyfair",
         "United States",
         "North America",
         "44.798742",
         "-93.453369"
        ],
        [
         "46",
         "2025-05-13 18:41:53.839341+00:00",
         "68",
         "6580",
         "Xtreme Swing",
         "False",
         "0",
         "2025-05-13T18:37:37.000Z",
         "Valleyfair",
         "United States",
         "North America",
         "44.798742",
         "-93.453369"
        ],
        [
         "47",
         "2025-05-13 18:41:53.839341+00:00",
         "68",
         "14043",
         "Toxicity",
         "False",
         "0",
         "2025-05-13T18:37:37.000Z",
         "Valleyfair",
         "United States",
         "North America",
         "44.798742",
         "-93.453369"
        ],
        [
         "48",
         "2025-05-13 18:41:53.839341+00:00",
         "68",
         "7866",
         "Splash Station",
         "False",
         "0",
         "2025-05-10T18:37:35.000Z",
         "Valleyfair",
         "United States",
         "North America",
         "44.798742",
         "-93.453369"
        ],
        [
         "49",
         "2025-05-13 18:41:53.973227+00:00",
         "63",
         "6556",
         "Worlds of Fun Railroad",
         "False",
         "0",
         "2025-05-13T18:36:55.000Z",
         "Worlds of Fun",
         "United States",
         "North America",
         "39.177333",
         "-94.489028"
        ]
       ],
       "shape": {
        "columns": 12,
        "rows": 9520
       }
      },
      "text/html": [
       "<div>\n",
       "<style scoped>\n",
       "    .dataframe tbody tr th:only-of-type {\n",
       "        vertical-align: middle;\n",
       "    }\n",
       "\n",
       "    .dataframe tbody tr th {\n",
       "        vertical-align: top;\n",
       "    }\n",
       "\n",
       "    .dataframe thead th {\n",
       "        text-align: right;\n",
       "    }\n",
       "</style>\n",
       "<table border=\"1\" class=\"dataframe\">\n",
       "  <thead>\n",
       "    <tr style=\"text-align: right;\">\n",
       "      <th></th>\n",
       "      <th>timestamp</th>\n",
       "      <th>park_id</th>\n",
       "      <th>ride_id</th>\n",
       "      <th>ride_name</th>\n",
       "      <th>is_open</th>\n",
       "      <th>wait_time</th>\n",
       "      <th>last_updated</th>\n",
       "      <th>park_name</th>\n",
       "      <th>country</th>\n",
       "      <th>continent</th>\n",
       "      <th>latitude</th>\n",
       "      <th>longitude</th>\n",
       "    </tr>\n",
       "  </thead>\n",
       "  <tbody>\n",
       "    <tr>\n",
       "      <th>0</th>\n",
       "      <td>2025-05-13 18:41:52.601463+00:00</td>\n",
       "      <td>57</td>\n",
       "      <td>5852</td>\n",
       "      <td>RailBlazer</td>\n",
       "      <td>False</td>\n",
       "      <td>0</td>\n",
       "      <td>2025-05-13T18:40:22.000Z</td>\n",
       "      <td>California's Great America</td>\n",
       "      <td>United States</td>\n",
       "      <td>North America</td>\n",
       "      <td>37.397799</td>\n",
       "      <td>-121.974717</td>\n",
       "    </tr>\n",
       "    <tr>\n",
       "      <th>1</th>\n",
       "      <td>2025-05-13 18:41:52.601463+00:00</td>\n",
       "      <td>57</td>\n",
       "      <td>7720</td>\n",
       "      <td>Woodstock Express</td>\n",
       "      <td>False</td>\n",
       "      <td>0</td>\n",
       "      <td>2025-05-13T18:40:22.000Z</td>\n",
       "      <td>California's Great America</td>\n",
       "      <td>United States</td>\n",
       "      <td>North America</td>\n",
       "      <td>37.397799</td>\n",
       "      <td>-121.974717</td>\n",
       "    </tr>\n",
       "    <tr>\n",
       "      <th>2</th>\n",
       "      <td>2025-05-13 18:41:52.601463+00:00</td>\n",
       "      <td>57</td>\n",
       "      <td>7660</td>\n",
       "      <td>The Pumpkin Patch</td>\n",
       "      <td>False</td>\n",
       "      <td>0</td>\n",
       "      <td>2025-05-13T18:40:22.000Z</td>\n",
       "      <td>California's Great America</td>\n",
       "      <td>United States</td>\n",
       "      <td>North America</td>\n",
       "      <td>37.397799</td>\n",
       "      <td>-121.974717</td>\n",
       "    </tr>\n",
       "    <tr>\n",
       "      <th>3</th>\n",
       "      <td>2025-05-13 18:41:52.601463+00:00</td>\n",
       "      <td>57</td>\n",
       "      <td>7668</td>\n",
       "      <td>Xtreme Skyflyer</td>\n",
       "      <td>False</td>\n",
       "      <td>0</td>\n",
       "      <td>2025-05-13T18:40:22.000Z</td>\n",
       "      <td>California's Great America</td>\n",
       "      <td>United States</td>\n",
       "      <td>North America</td>\n",
       "      <td>37.397799</td>\n",
       "      <td>-121.974717</td>\n",
       "    </tr>\n",
       "    <tr>\n",
       "      <th>4</th>\n",
       "      <td>2025-05-13 18:41:52.601463+00:00</td>\n",
       "      <td>57</td>\n",
       "      <td>13057</td>\n",
       "      <td>Tide Pool Slides</td>\n",
       "      <td>False</td>\n",
       "      <td>0</td>\n",
       "      <td>2025-05-13T18:40:22.000Z</td>\n",
       "      <td>California's Great America</td>\n",
       "      <td>United States</td>\n",
       "      <td>North America</td>\n",
       "      <td>37.397799</td>\n",
       "      <td>-121.974717</td>\n",
       "    </tr>\n",
       "    <tr>\n",
       "      <th>...</th>\n",
       "      <td>...</td>\n",
       "      <td>...</td>\n",
       "      <td>...</td>\n",
       "      <td>...</td>\n",
       "      <td>...</td>\n",
       "      <td>...</td>\n",
       "      <td>...</td>\n",
       "      <td>...</td>\n",
       "      <td>...</td>\n",
       "      <td>...</td>\n",
       "      <td>...</td>\n",
       "      <td>...</td>\n",
       "    </tr>\n",
       "    <tr>\n",
       "      <th>9515</th>\n",
       "      <td>2025-05-14 12:12:39.894646+00:00</td>\n",
       "      <td>274</td>\n",
       "      <td>7991</td>\n",
       "      <td>Westernland Shootin' Gallery</td>\n",
       "      <td>False</td>\n",
       "      <td>0</td>\n",
       "      <td>2025-05-14T12:07:54.000Z</td>\n",
       "      <td>Tokyo Disneyland</td>\n",
       "      <td>Japan</td>\n",
       "      <td>Asia</td>\n",
       "      <td>35.634848</td>\n",
       "      <td>139.879295</td>\n",
       "    </tr>\n",
       "    <tr>\n",
       "      <th>9516</th>\n",
       "      <td>2025-05-14 12:12:40.026123+00:00</td>\n",
       "      <td>275</td>\n",
       "      <td>8034</td>\n",
       "      <td>Venetian Gondolas</td>\n",
       "      <td>False</td>\n",
       "      <td>0</td>\n",
       "      <td>2025-05-14T12:08:09.000Z</td>\n",
       "      <td>Tokyo DisneySea</td>\n",
       "      <td>Japan</td>\n",
       "      <td>Asia</td>\n",
       "      <td>35.627055</td>\n",
       "      <td>139.889097</td>\n",
       "    </tr>\n",
       "    <tr>\n",
       "      <th>9517</th>\n",
       "      <td>2025-05-14 12:12:40.172345+00:00</td>\n",
       "      <td>28</td>\n",
       "      <td>10846</td>\n",
       "      <td>Spider-Man W.E.B. Adventure Single Rider</td>\n",
       "      <td>True</td>\n",
       "      <td>5</td>\n",
       "      <td>2025-05-14T12:10:04.000Z</td>\n",
       "      <td>Walt Disney Studios Paris</td>\n",
       "      <td>France</td>\n",
       "      <td>Europe</td>\n",
       "      <td>48.8673</td>\n",
       "      <td>2.779008</td>\n",
       "    </tr>\n",
       "    <tr>\n",
       "      <th>9518</th>\n",
       "      <td>2025-05-14 12:12:40.172345+00:00</td>\n",
       "      <td>28</td>\n",
       "      <td>40</td>\n",
       "      <td>The Twilight Zone Tower of Terror</td>\n",
       "      <td>True</td>\n",
       "      <td>30</td>\n",
       "      <td>2025-05-14T12:10:04.000Z</td>\n",
       "      <td>Walt Disney Studios Paris</td>\n",
       "      <td>France</td>\n",
       "      <td>Europe</td>\n",
       "      <td>48.8673</td>\n",
       "      <td>2.779008</td>\n",
       "    </tr>\n",
       "    <tr>\n",
       "      <th>9519</th>\n",
       "      <td>2025-05-14 12:12:40.172345+00:00</td>\n",
       "      <td>28</td>\n",
       "      <td>7281</td>\n",
       "      <td>Toy Soldiers Parachute Drop Single Rider</td>\n",
       "      <td>True</td>\n",
       "      <td>15</td>\n",
       "      <td>2025-05-14T12:10:04.000Z</td>\n",
       "      <td>Walt Disney Studios Paris</td>\n",
       "      <td>France</td>\n",
       "      <td>Europe</td>\n",
       "      <td>48.8673</td>\n",
       "      <td>2.779008</td>\n",
       "    </tr>\n",
       "  </tbody>\n",
       "</table>\n",
       "<p>9520 rows × 12 columns</p>\n",
       "</div>"
      ],
      "text/plain": [
       "                            timestamp  park_id  ride_id  \\\n",
       "0    2025-05-13 18:41:52.601463+00:00       57     5852   \n",
       "1    2025-05-13 18:41:52.601463+00:00       57     7720   \n",
       "2    2025-05-13 18:41:52.601463+00:00       57     7660   \n",
       "3    2025-05-13 18:41:52.601463+00:00       57     7668   \n",
       "4    2025-05-13 18:41:52.601463+00:00       57    13057   \n",
       "...                               ...      ...      ...   \n",
       "9515 2025-05-14 12:12:39.894646+00:00      274     7991   \n",
       "9516 2025-05-14 12:12:40.026123+00:00      275     8034   \n",
       "9517 2025-05-14 12:12:40.172345+00:00       28    10846   \n",
       "9518 2025-05-14 12:12:40.172345+00:00       28       40   \n",
       "9519 2025-05-14 12:12:40.172345+00:00       28     7281   \n",
       "\n",
       "                                     ride_name  is_open  wait_time  \\\n",
       "0                                   RailBlazer    False          0   \n",
       "1                            Woodstock Express    False          0   \n",
       "2                            The Pumpkin Patch    False          0   \n",
       "3                              Xtreme Skyflyer    False          0   \n",
       "4                             Tide Pool Slides    False          0   \n",
       "...                                        ...      ...        ...   \n",
       "9515              Westernland Shootin' Gallery    False          0   \n",
       "9516                         Venetian Gondolas    False          0   \n",
       "9517  Spider-Man W.E.B. Adventure Single Rider     True          5   \n",
       "9518         The Twilight Zone Tower of Terror     True         30   \n",
       "9519  Toy Soldiers Parachute Drop Single Rider     True         15   \n",
       "\n",
       "                  last_updated                   park_name        country  \\\n",
       "0     2025-05-13T18:40:22.000Z  California's Great America  United States   \n",
       "1     2025-05-13T18:40:22.000Z  California's Great America  United States   \n",
       "2     2025-05-13T18:40:22.000Z  California's Great America  United States   \n",
       "3     2025-05-13T18:40:22.000Z  California's Great America  United States   \n",
       "4     2025-05-13T18:40:22.000Z  California's Great America  United States   \n",
       "...                        ...                         ...            ...   \n",
       "9515  2025-05-14T12:07:54.000Z            Tokyo Disneyland          Japan   \n",
       "9516  2025-05-14T12:08:09.000Z             Tokyo DisneySea          Japan   \n",
       "9517  2025-05-14T12:10:04.000Z   Walt Disney Studios Paris         France   \n",
       "9518  2025-05-14T12:10:04.000Z   Walt Disney Studios Paris         France   \n",
       "9519  2025-05-14T12:10:04.000Z   Walt Disney Studios Paris         France   \n",
       "\n",
       "          continent   latitude    longitude  \n",
       "0     North America  37.397799  -121.974717  \n",
       "1     North America  37.397799  -121.974717  \n",
       "2     North America  37.397799  -121.974717  \n",
       "3     North America  37.397799  -121.974717  \n",
       "4     North America  37.397799  -121.974717  \n",
       "...             ...        ...          ...  \n",
       "9515           Asia  35.634848   139.879295  \n",
       "9516           Asia  35.627055   139.889097  \n",
       "9517         Europe    48.8673     2.779008  \n",
       "9518         Europe    48.8673     2.779008  \n",
       "9519         Europe    48.8673     2.779008  \n",
       "\n",
       "[9520 rows x 12 columns]"
      ]
     },
     "execution_count": 239,
     "metadata": {},
     "output_type": "execute_result"
    }
   ],
   "source": [
    "full_df = df_rides.merge(parks_df, left_on='park_id', right_index=True, how='left')\n",
    "full_df = full_df.drop(columns=['land_id', 'land_name'])\n",
    "full_df"
   ]
  },
  {
   "cell_type": "code",
   "execution_count": 255,
   "id": "a4a0495f",
   "metadata": {},
   "outputs": [
    {
     "data": {
      "application/vnd.microsoft.datawrangler.viewer.v0+json": {
       "columns": [
        {
         "name": "index",
         "rawType": "int64",
         "type": "integer"
        },
        {
         "name": "ride_id",
         "rawType": "int64",
         "type": "integer"
        },
        {
         "name": "ride_name",
         "rawType": "object",
         "type": "string"
        },
        {
         "name": "park_name",
         "rawType": "object",
         "type": "string"
        },
        {
         "name": "country",
         "rawType": "object",
         "type": "string"
        },
        {
         "name": "wait_time",
         "rawType": "int64",
         "type": "integer"
        }
       ],
       "conversionMethod": "pd.DataFrame",
       "ref": "6034419c-05e3-4df8-b260-5eecc857d1d4",
       "rows": [
        [
         "5",
         "6649",
         "Yukon Striker",
         "Canada's Wonderland",
         "Canada",
         "0"
        ],
        [
         "6",
         "7645",
         "White Water Canyon",
         "Canada's Wonderland",
         "Canada",
         "0"
        ],
        [
         "7",
         "7664",
         "Woodstock Whirlybirds",
         "Canada's Wonderland",
         "Canada",
         "0"
        ],
        [
         "8",
         "5870",
         "WindSeeker",
         "Canada's Wonderland",
         "Canada",
         "0"
        ],
        [
         "9",
         "7672",
         "White Water Bay",
         "Canada's Wonderland",
         "Canada",
         "0"
        ],
        [
         "32",
         "5918",
         "Xcelerator The Ride",
         "Knott's Berry Farm",
         "United States",
         "20"
        ],
        [
         "33",
         "12572",
         "Wipeout",
         "Knott's Berry Farm",
         "United States",
         "0"
        ],
        [
         "34",
         "7750",
         "Rapid River Run",
         "Knott's Berry Farm",
         "United States",
         "0"
        ],
        [
         "35",
         "5921",
         "Supreme Scream",
         "Knott's Berry Farm",
         "United States",
         "5"
        ],
        [
         "60",
         "11946",
         "Ziegengaudi",
         "Familypark",
         "Austria",
         "0"
        ],
        [
         "62",
         "10215",
         "Viking Playground",
         "Parc Astérix",
         "France",
         "0"
        ],
        [
         "93",
         "7412",
         "Vinter Rytt",
         "Rulantica",
         "Germany",
         "5"
        ],
        [
         "105",
         "12291",
         "The Cove (HSL)",
         "Dollywood",
         "United States",
         "0"
        ],
        [
         "146",
         "6918",
         "Royal Joust",
         "Legoland California",
         "United States",
         "5"
        ],
        [
         "148",
         "6921",
         "Sky Patrol",
         "Legoland California",
         "United States",
         "5"
        ],
        [
         "149",
         "6914",
         "LEGO® Technic Coaster",
         "Legoland California",
         "United States",
         "5"
        ],
        [
         "150",
         "6915",
         "Lost Kingdom Adventure",
         "Legoland California",
         "United States",
         "5"
        ],
        [
         "152",
         "6902",
         "Coast Cruise",
         "Legoland California",
         "United States",
         "5"
        ],
        [
         "154",
         "8837",
         "Unikitty's Disco Drop",
         "Legoland California",
         "United States",
         "5"
        ],
        [
         "156",
         "6934",
         "Unikitty’s Disco Drop",
         "Legoland Florida",
         "United States",
         "5"
        ],
        [
         "178",
         "11231",
         "Mr. Bull's High Striker",
         "Peppa Pig Theme Park Florida",
         "United States",
         "5"
        ],
        [
         "182",
         "11373",
         "Xícaras Malucas",
         "Beto Carrero World",
         "Brazil",
         "5"
        ],
        [
         "189",
         "8235",
         "Badhuys indoor splash pool",
         "Efteling",
         "Netherlands",
         "0"
        ],
        [
         "194",
         "11276",
         "Zadra Rc",
         "Energylandia",
         "Poland",
         "0"
        ],
        [
         "206",
         "13590",
         "Underwater Planet",
         "Le Parc du Petit Prince",
         "France",
         "0"
        ],
        [
         "223",
         "12033",
         "Waterdwarf Alley",
         "Toverland",
         "Netherlands",
         "5"
        ],
        [
         "226",
         "9330",
         "Waku Waku",
         "Toverland",
         "Netherlands",
         "5"
        ],
        [
         "227",
         "9359",
         "Magiezijn",
         "Toverland",
         "Netherlands",
         "5"
        ],
        [
         "228",
         "9341",
         "Wirbelbaum",
         "Toverland",
         "Netherlands",
         "5"
        ],
        [
         "229",
         "9341",
         "Wirbelbaum",
         "Toverland",
         "Netherlands",
         "5"
        ],
        [
         "235",
         "11584",
         "Vértigo",
         "Parque de Atracciones Madrid",
         "Spain",
         "0"
        ],
        [
         "243",
         "6856",
         "Thrill Towers",
         "Ferrari Land",
         "Spain",
         "30"
        ],
        [
         "251",
         "6336",
         "Cheetah Hunt",
         "Busch Gardens Tampa",
         "United States",
         "30"
        ],
        [
         "254",
         "10516",
         "Iron Gwazi",
         "Busch Gardens Tampa",
         "United States",
         "30"
        ],
        [
         "256",
         "11593",
         "Serengeti Flyer",
         "Busch Gardens Tampa",
         "United States",
         "5"
        ],
        [
         "258",
         "7310",
         "Tigris",
         "Busch Gardens Tampa",
         "United States",
         "0"
        ],
        [
         "259",
         "6539",
         "Tempesto",
         "Busch Gardens Williamsburg",
         "United States",
         "0"
        ],
        [
         "260",
         "6540",
         "Griffon",
         "Busch Gardens Williamsburg",
         "United States",
         "0"
        ],
        [
         "261",
         "11596",
         "The Battering Ram",
         "Busch Gardens Williamsburg",
         "United States",
         "0"
        ],
        [
         "262",
         "6536",
         "Alpengeist",
         "Busch Gardens Williamsburg",
         "United States",
         "0"
        ],
        [
         "263",
         "6557",
         "Escape From Pompeii",
         "Busch Gardens Williamsburg",
         "United States",
         "30"
        ],
        [
         "264",
         "6565",
         "Finnegan's Flyer",
         "Busch Gardens Williamsburg",
         "United States",
         "0"
        ],
        [
         "265",
         "6338",
         "InvadR",
         "Busch Gardens Williamsburg",
         "United States",
         "0"
        ],
        [
         "266",
         "12372",
         "DarKoaster®",
         "Busch Gardens Williamsburg",
         "United States",
         "0"
        ],
        [
         "267",
         "6537",
         "Loch Ness Monster: The Legend Lives On",
         "Busch Gardens Williamsburg",
         "United States",
         "0"
        ],
        [
         "268",
         "6537",
         "Loch Ness Monster: The Legend Lives On",
         "Busch Gardens Williamsburg",
         "United States",
         "0"
        ],
        [
         "269",
         "6570",
         "Kraken®",
         "Seaworld Orlando",
         "United States",
         "15"
        ],
        [
         "270",
         "6571",
         "Mako®",
         "Seaworld Orlando",
         "United States",
         "10"
        ],
        [
         "271",
         "11876",
         "Pipeline: The Surf Coaster",
         "Seaworld Orlando",
         "United States",
         "15"
        ],
        [
         "272",
         "6569",
         "Manta",
         "Seaworld Orlando",
         "United States",
         "25"
        ]
       ],
       "shape": {
        "columns": 5,
        "rows": 3422
       }
      },
      "text/html": [
       "<div>\n",
       "<style scoped>\n",
       "    .dataframe tbody tr th:only-of-type {\n",
       "        vertical-align: middle;\n",
       "    }\n",
       "\n",
       "    .dataframe tbody tr th {\n",
       "        vertical-align: top;\n",
       "    }\n",
       "\n",
       "    .dataframe thead th {\n",
       "        text-align: right;\n",
       "    }\n",
       "</style>\n",
       "<table border=\"1\" class=\"dataframe\">\n",
       "  <thead>\n",
       "    <tr style=\"text-align: right;\">\n",
       "      <th></th>\n",
       "      <th>ride_id</th>\n",
       "      <th>ride_name</th>\n",
       "      <th>park_name</th>\n",
       "      <th>country</th>\n",
       "      <th>wait_time</th>\n",
       "    </tr>\n",
       "  </thead>\n",
       "  <tbody>\n",
       "    <tr>\n",
       "      <th>5</th>\n",
       "      <td>6649</td>\n",
       "      <td>Yukon Striker</td>\n",
       "      <td>Canada's Wonderland</td>\n",
       "      <td>Canada</td>\n",
       "      <td>0</td>\n",
       "    </tr>\n",
       "    <tr>\n",
       "      <th>6</th>\n",
       "      <td>7645</td>\n",
       "      <td>White Water Canyon</td>\n",
       "      <td>Canada's Wonderland</td>\n",
       "      <td>Canada</td>\n",
       "      <td>0</td>\n",
       "    </tr>\n",
       "    <tr>\n",
       "      <th>7</th>\n",
       "      <td>7664</td>\n",
       "      <td>Woodstock Whirlybirds</td>\n",
       "      <td>Canada's Wonderland</td>\n",
       "      <td>Canada</td>\n",
       "      <td>0</td>\n",
       "    </tr>\n",
       "    <tr>\n",
       "      <th>8</th>\n",
       "      <td>5870</td>\n",
       "      <td>WindSeeker</td>\n",
       "      <td>Canada's Wonderland</td>\n",
       "      <td>Canada</td>\n",
       "      <td>0</td>\n",
       "    </tr>\n",
       "    <tr>\n",
       "      <th>9</th>\n",
       "      <td>7672</td>\n",
       "      <td>White Water Bay</td>\n",
       "      <td>Canada's Wonderland</td>\n",
       "      <td>Canada</td>\n",
       "      <td>0</td>\n",
       "    </tr>\n",
       "    <tr>\n",
       "      <th>...</th>\n",
       "      <td>...</td>\n",
       "      <td>...</td>\n",
       "      <td>...</td>\n",
       "      <td>...</td>\n",
       "      <td>...</td>\n",
       "    </tr>\n",
       "    <tr>\n",
       "      <th>9513</th>\n",
       "      <td>2998</td>\n",
       "      <td>Siren's Revenge</td>\n",
       "      <td>Shanghai Disney Resort</td>\n",
       "      <td>China</td>\n",
       "      <td>5</td>\n",
       "    </tr>\n",
       "    <tr>\n",
       "      <th>9514</th>\n",
       "      <td>12392</td>\n",
       "      <td>Zootopia: Hot Pursuit</td>\n",
       "      <td>Shanghai Disney Resort</td>\n",
       "      <td>China</td>\n",
       "      <td>50</td>\n",
       "    </tr>\n",
       "    <tr>\n",
       "      <th>9517</th>\n",
       "      <td>10846</td>\n",
       "      <td>Spider-Man W.E.B. Adventure Single Rider</td>\n",
       "      <td>Walt Disney Studios Paris</td>\n",
       "      <td>France</td>\n",
       "      <td>5</td>\n",
       "    </tr>\n",
       "    <tr>\n",
       "      <th>9518</th>\n",
       "      <td>40</td>\n",
       "      <td>The Twilight Zone Tower of Terror</td>\n",
       "      <td>Walt Disney Studios Paris</td>\n",
       "      <td>France</td>\n",
       "      <td>30</td>\n",
       "    </tr>\n",
       "    <tr>\n",
       "      <th>9519</th>\n",
       "      <td>7281</td>\n",
       "      <td>Toy Soldiers Parachute Drop Single Rider</td>\n",
       "      <td>Walt Disney Studios Paris</td>\n",
       "      <td>France</td>\n",
       "      <td>15</td>\n",
       "    </tr>\n",
       "  </tbody>\n",
       "</table>\n",
       "<p>3422 rows × 5 columns</p>\n",
       "</div>"
      ],
      "text/plain": [
       "      ride_id                                 ride_name  \\\n",
       "5        6649                             Yukon Striker   \n",
       "6        7645                        White Water Canyon   \n",
       "7        7664                     Woodstock Whirlybirds   \n",
       "8        5870                                WindSeeker   \n",
       "9        7672                           White Water Bay   \n",
       "...       ...                                       ...   \n",
       "9513     2998                           Siren's Revenge   \n",
       "9514    12392                     Zootopia: Hot Pursuit   \n",
       "9517    10846  Spider-Man W.E.B. Adventure Single Rider   \n",
       "9518       40         The Twilight Zone Tower of Terror   \n",
       "9519     7281  Toy Soldiers Parachute Drop Single Rider   \n",
       "\n",
       "                      park_name country  wait_time  \n",
       "5           Canada's Wonderland  Canada          0  \n",
       "6           Canada's Wonderland  Canada          0  \n",
       "7           Canada's Wonderland  Canada          0  \n",
       "8           Canada's Wonderland  Canada          0  \n",
       "9           Canada's Wonderland  Canada          0  \n",
       "...                         ...     ...        ...  \n",
       "9513     Shanghai Disney Resort   China          5  \n",
       "9514     Shanghai Disney Resort   China         50  \n",
       "9517  Walt Disney Studios Paris  France          5  \n",
       "9518  Walt Disney Studios Paris  France         30  \n",
       "9519  Walt Disney Studios Paris  France         15  \n",
       "\n",
       "[3422 rows x 5 columns]"
      ]
     },
     "execution_count": 255,
     "metadata": {},
     "output_type": "execute_result"
    }
   ],
   "source": [
    "wait_time_df = full_df[full_df['is_open']].filter(['ride_id', 'ride_name', 'park_name', 'country', 'wait_time'])\n",
    "wait_time_df"
   ]
  },
  {
   "cell_type": "code",
   "execution_count": 248,
   "id": "fb2317b3",
   "metadata": {},
   "outputs": [
    {
     "data": {
      "application/vnd.microsoft.datawrangler.viewer.v0+json": {
       "columns": [
        {
         "name": "index",
         "rawType": "int64",
         "type": "integer"
        },
        {
         "name": "ride_id",
         "rawType": "int64",
         "type": "integer"
        },
        {
         "name": "wait_time",
         "rawType": "int64",
         "type": "integer"
        }
       ],
       "conversionMethod": "pd.DataFrame",
       "ref": "9ab07cfa-c885-429b-aa41-915ecea7187b",
       "rows": [
        [
         "0",
         "5852",
         "0"
        ],
        [
         "1",
         "7720",
         "0"
        ],
        [
         "2",
         "7660",
         "0"
        ],
        [
         "3",
         "7668",
         "0"
        ],
        [
         "4",
         "13057",
         "0"
        ],
        [
         "5",
         "6649",
         "0"
        ],
        [
         "6",
         "7645",
         "0"
        ],
        [
         "7",
         "7664",
         "0"
        ],
        [
         "8",
         "5870",
         "0"
        ],
        [
         "9",
         "7672",
         "0"
        ],
        [
         "10",
         "5886",
         "0"
        ],
        [
         "11",
         "5891",
         "0"
        ],
        [
         "12",
         "6436",
         "0"
        ],
        [
         "13",
         "5887",
         "0"
        ],
        [
         "14",
         "4647",
         "0"
        ],
        [
         "15",
         "4661",
         "0"
        ],
        [
         "16",
         "12861",
         "0"
        ],
        [
         "17",
         "3777",
         "0"
        ],
        [
         "18",
         "12871",
         "0"
        ],
        [
         "19",
         "6664",
         "0"
        ],
        [
         "20",
         "7792",
         "0"
        ],
        [
         "21",
         "7780",
         "0"
        ],
        [
         "22",
         "6663",
         "0"
        ],
        [
         "23",
         "6665",
         "0"
        ],
        [
         "24",
         "5937",
         "0"
        ],
        [
         "25",
         "7740",
         "0"
        ],
        [
         "26",
         "7777",
         "0"
        ],
        [
         "27",
         "12663",
         "0"
        ],
        [
         "28",
         "12706",
         "0"
        ],
        [
         "29",
         "7603",
         "0"
        ],
        [
         "30",
         "7608",
         "0"
        ],
        [
         "31",
         "7618",
         "0"
        ],
        [
         "32",
         "5918",
         "20"
        ],
        [
         "33",
         "12572",
         "0"
        ],
        [
         "34",
         "7750",
         "0"
        ],
        [
         "35",
         "5921",
         "5"
        ],
        [
         "36",
         "13615",
         "0"
        ],
        [
         "37",
         "8754",
         "0"
        ],
        [
         "38",
         "8753",
         "0"
        ],
        [
         "39",
         "8742",
         "0"
        ],
        [
         "40",
         "8743",
         "0"
        ],
        [
         "41",
         "13554",
         "0"
        ],
        [
         "42",
         "7879",
         "0"
        ],
        [
         "43",
         "7877",
         "0"
        ],
        [
         "44",
         "7218",
         "0"
        ],
        [
         "45",
         "7886",
         "0"
        ],
        [
         "46",
         "6580",
         "0"
        ],
        [
         "47",
         "14043",
         "0"
        ],
        [
         "48",
         "7866",
         "0"
        ],
        [
         "49",
         "6556",
         "0"
        ]
       ],
       "shape": {
        "columns": 2,
        "rows": 9520
       }
      },
      "text/html": [
       "<div>\n",
       "<style scoped>\n",
       "    .dataframe tbody tr th:only-of-type {\n",
       "        vertical-align: middle;\n",
       "    }\n",
       "\n",
       "    .dataframe tbody tr th {\n",
       "        vertical-align: top;\n",
       "    }\n",
       "\n",
       "    .dataframe thead th {\n",
       "        text-align: right;\n",
       "    }\n",
       "</style>\n",
       "<table border=\"1\" class=\"dataframe\">\n",
       "  <thead>\n",
       "    <tr style=\"text-align: right;\">\n",
       "      <th></th>\n",
       "      <th>ride_id</th>\n",
       "      <th>wait_time</th>\n",
       "    </tr>\n",
       "  </thead>\n",
       "  <tbody>\n",
       "    <tr>\n",
       "      <th>0</th>\n",
       "      <td>5852</td>\n",
       "      <td>0</td>\n",
       "    </tr>\n",
       "    <tr>\n",
       "      <th>1</th>\n",
       "      <td>7720</td>\n",
       "      <td>0</td>\n",
       "    </tr>\n",
       "    <tr>\n",
       "      <th>2</th>\n",
       "      <td>7660</td>\n",
       "      <td>0</td>\n",
       "    </tr>\n",
       "    <tr>\n",
       "      <th>3</th>\n",
       "      <td>7668</td>\n",
       "      <td>0</td>\n",
       "    </tr>\n",
       "    <tr>\n",
       "      <th>4</th>\n",
       "      <td>13057</td>\n",
       "      <td>0</td>\n",
       "    </tr>\n",
       "    <tr>\n",
       "      <th>...</th>\n",
       "      <td>...</td>\n",
       "      <td>...</td>\n",
       "    </tr>\n",
       "    <tr>\n",
       "      <th>9515</th>\n",
       "      <td>7991</td>\n",
       "      <td>0</td>\n",
       "    </tr>\n",
       "    <tr>\n",
       "      <th>9516</th>\n",
       "      <td>8034</td>\n",
       "      <td>0</td>\n",
       "    </tr>\n",
       "    <tr>\n",
       "      <th>9517</th>\n",
       "      <td>10846</td>\n",
       "      <td>5</td>\n",
       "    </tr>\n",
       "    <tr>\n",
       "      <th>9518</th>\n",
       "      <td>40</td>\n",
       "      <td>30</td>\n",
       "    </tr>\n",
       "    <tr>\n",
       "      <th>9519</th>\n",
       "      <td>7281</td>\n",
       "      <td>15</td>\n",
       "    </tr>\n",
       "  </tbody>\n",
       "</table>\n",
       "<p>9520 rows × 2 columns</p>\n",
       "</div>"
      ],
      "text/plain": [
       "      ride_id  wait_time\n",
       "0        5852          0\n",
       "1        7720          0\n",
       "2        7660          0\n",
       "3        7668          0\n",
       "4       13057          0\n",
       "...       ...        ...\n",
       "9515     7991          0\n",
       "9516     8034          0\n",
       "9517    10846          5\n",
       "9518       40         30\n",
       "9519     7281         15\n",
       "\n",
       "[9520 rows x 2 columns]"
      ]
     },
     "execution_count": 248,
     "metadata": {},
     "output_type": "execute_result"
    }
   ],
   "source": [
    "wait_time_df = full_df.filter(['ride_id', 'wait_time'])\n",
    "wait_time_df"
   ]
  },
  {
   "cell_type": "code",
   "execution_count": 253,
   "id": "605aadfb",
   "metadata": {},
   "outputs": [
    {
     "ename": "KeyError",
     "evalue": "'ride_id'",
     "output_type": "error",
     "traceback": [
      "\u001b[31m---------------------------------------------------------------------------\u001b[39m",
      "\u001b[31mKeyError\u001b[39m                                  Traceback (most recent call last)",
      "\u001b[36mCell\u001b[39m\u001b[36m \u001b[39m\u001b[32mIn[253]\u001b[39m\u001b[32m, line 2\u001b[39m\n\u001b[32m      1\u001b[39m wait_time_df.reset_index(drop=\u001b[38;5;28;01mTrue\u001b[39;00m, inplace=\u001b[38;5;28;01mTrue\u001b[39;00m)\n\u001b[32m----> \u001b[39m\u001b[32m2\u001b[39m wait_time_df = \u001b[43mwait_time_df\u001b[49m\u001b[43m.\u001b[49m\u001b[43mgroupby\u001b[49m\u001b[43m(\u001b[49m\u001b[43m[\u001b[49m\u001b[33;43m'\u001b[39;49m\u001b[33;43mride_id\u001b[39;49m\u001b[33;43m'\u001b[39;49m\u001b[43m]\u001b[49m\u001b[43m)\u001b[49m.agg(\n\u001b[32m      3\u001b[39m     avg_wait_time=(\u001b[33m'\u001b[39m\u001b[33mwait_time\u001b[39m\u001b[33m'\u001b[39m, \u001b[33m'\u001b[39m\u001b[33mmean\u001b[39m\u001b[33m'\u001b[39m),\n\u001b[32m      4\u001b[39m     min_wait_time=(\u001b[33m'\u001b[39m\u001b[33mwait_time\u001b[39m\u001b[33m'\u001b[39m, \u001b[33m'\u001b[39m\u001b[33mmin\u001b[39m\u001b[33m'\u001b[39m),\n\u001b[32m      5\u001b[39m     max_wait_time=(\u001b[33m'\u001b[39m\u001b[33mwait_time\u001b[39m\u001b[33m'\u001b[39m, \u001b[33m'\u001b[39m\u001b[33mmax\u001b[39m\u001b[33m'\u001b[39m)\n\u001b[32m      6\u001b[39m )\n\u001b[32m      7\u001b[39m wait_time_df\n",
      "\u001b[36mFile \u001b[39m\u001b[32m~/Development/etl_bs/etl-project-demo2/.venv/lib/python3.13/site-packages/pandas/core/frame.py:9183\u001b[39m, in \u001b[36mDataFrame.groupby\u001b[39m\u001b[34m(self, by, axis, level, as_index, sort, group_keys, observed, dropna)\u001b[39m\n\u001b[32m   9180\u001b[39m \u001b[38;5;28;01mif\u001b[39;00m level \u001b[38;5;129;01mis\u001b[39;00m \u001b[38;5;28;01mNone\u001b[39;00m \u001b[38;5;129;01mand\u001b[39;00m by \u001b[38;5;129;01mis\u001b[39;00m \u001b[38;5;28;01mNone\u001b[39;00m:\n\u001b[32m   9181\u001b[39m     \u001b[38;5;28;01mraise\u001b[39;00m \u001b[38;5;167;01mTypeError\u001b[39;00m(\u001b[33m\"\u001b[39m\u001b[33mYou have to supply one of \u001b[39m\u001b[33m'\u001b[39m\u001b[33mby\u001b[39m\u001b[33m'\u001b[39m\u001b[33m and \u001b[39m\u001b[33m'\u001b[39m\u001b[33mlevel\u001b[39m\u001b[33m'\u001b[39m\u001b[33m\"\u001b[39m)\n\u001b[32m-> \u001b[39m\u001b[32m9183\u001b[39m \u001b[38;5;28;01mreturn\u001b[39;00m \u001b[43mDataFrameGroupBy\u001b[49m\u001b[43m(\u001b[49m\n\u001b[32m   9184\u001b[39m \u001b[43m    \u001b[49m\u001b[43mobj\u001b[49m\u001b[43m=\u001b[49m\u001b[38;5;28;43mself\u001b[39;49m\u001b[43m,\u001b[49m\n\u001b[32m   9185\u001b[39m \u001b[43m    \u001b[49m\u001b[43mkeys\u001b[49m\u001b[43m=\u001b[49m\u001b[43mby\u001b[49m\u001b[43m,\u001b[49m\n\u001b[32m   9186\u001b[39m \u001b[43m    \u001b[49m\u001b[43maxis\u001b[49m\u001b[43m=\u001b[49m\u001b[43maxis\u001b[49m\u001b[43m,\u001b[49m\n\u001b[32m   9187\u001b[39m \u001b[43m    \u001b[49m\u001b[43mlevel\u001b[49m\u001b[43m=\u001b[49m\u001b[43mlevel\u001b[49m\u001b[43m,\u001b[49m\n\u001b[32m   9188\u001b[39m \u001b[43m    \u001b[49m\u001b[43mas_index\u001b[49m\u001b[43m=\u001b[49m\u001b[43mas_index\u001b[49m\u001b[43m,\u001b[49m\n\u001b[32m   9189\u001b[39m \u001b[43m    \u001b[49m\u001b[43msort\u001b[49m\u001b[43m=\u001b[49m\u001b[43msort\u001b[49m\u001b[43m,\u001b[49m\n\u001b[32m   9190\u001b[39m \u001b[43m    \u001b[49m\u001b[43mgroup_keys\u001b[49m\u001b[43m=\u001b[49m\u001b[43mgroup_keys\u001b[49m\u001b[43m,\u001b[49m\n\u001b[32m   9191\u001b[39m \u001b[43m    \u001b[49m\u001b[43mobserved\u001b[49m\u001b[43m=\u001b[49m\u001b[43mobserved\u001b[49m\u001b[43m,\u001b[49m\n\u001b[32m   9192\u001b[39m \u001b[43m    \u001b[49m\u001b[43mdropna\u001b[49m\u001b[43m=\u001b[49m\u001b[43mdropna\u001b[49m\u001b[43m,\u001b[49m\n\u001b[32m   9193\u001b[39m \u001b[43m\u001b[49m\u001b[43m)\u001b[49m\n",
      "\u001b[36mFile \u001b[39m\u001b[32m~/Development/etl_bs/etl-project-demo2/.venv/lib/python3.13/site-packages/pandas/core/groupby/groupby.py:1329\u001b[39m, in \u001b[36mGroupBy.__init__\u001b[39m\u001b[34m(self, obj, keys, axis, level, grouper, exclusions, selection, as_index, sort, group_keys, observed, dropna)\u001b[39m\n\u001b[32m   1326\u001b[39m \u001b[38;5;28mself\u001b[39m.dropna = dropna\n\u001b[32m   1328\u001b[39m \u001b[38;5;28;01mif\u001b[39;00m grouper \u001b[38;5;129;01mis\u001b[39;00m \u001b[38;5;28;01mNone\u001b[39;00m:\n\u001b[32m-> \u001b[39m\u001b[32m1329\u001b[39m     grouper, exclusions, obj = \u001b[43mget_grouper\u001b[49m\u001b[43m(\u001b[49m\n\u001b[32m   1330\u001b[39m \u001b[43m        \u001b[49m\u001b[43mobj\u001b[49m\u001b[43m,\u001b[49m\n\u001b[32m   1331\u001b[39m \u001b[43m        \u001b[49m\u001b[43mkeys\u001b[49m\u001b[43m,\u001b[49m\n\u001b[32m   1332\u001b[39m \u001b[43m        \u001b[49m\u001b[43maxis\u001b[49m\u001b[43m=\u001b[49m\u001b[43maxis\u001b[49m\u001b[43m,\u001b[49m\n\u001b[32m   1333\u001b[39m \u001b[43m        \u001b[49m\u001b[43mlevel\u001b[49m\u001b[43m=\u001b[49m\u001b[43mlevel\u001b[49m\u001b[43m,\u001b[49m\n\u001b[32m   1334\u001b[39m \u001b[43m        \u001b[49m\u001b[43msort\u001b[49m\u001b[43m=\u001b[49m\u001b[43msort\u001b[49m\u001b[43m,\u001b[49m\n\u001b[32m   1335\u001b[39m \u001b[43m        \u001b[49m\u001b[43mobserved\u001b[49m\u001b[43m=\u001b[49m\u001b[38;5;28;43;01mFalse\u001b[39;49;00m\u001b[43m \u001b[49m\u001b[38;5;28;43;01mif\u001b[39;49;00m\u001b[43m \u001b[49m\u001b[43mobserved\u001b[49m\u001b[43m \u001b[49m\u001b[38;5;129;43;01mis\u001b[39;49;00m\u001b[43m \u001b[49m\u001b[43mlib\u001b[49m\u001b[43m.\u001b[49m\u001b[43mno_default\u001b[49m\u001b[43m \u001b[49m\u001b[38;5;28;43;01melse\u001b[39;49;00m\u001b[43m \u001b[49m\u001b[43mobserved\u001b[49m\u001b[43m,\u001b[49m\n\u001b[32m   1336\u001b[39m \u001b[43m        \u001b[49m\u001b[43mdropna\u001b[49m\u001b[43m=\u001b[49m\u001b[38;5;28;43mself\u001b[39;49m\u001b[43m.\u001b[49m\u001b[43mdropna\u001b[49m\u001b[43m,\u001b[49m\n\u001b[32m   1337\u001b[39m \u001b[43m    \u001b[49m\u001b[43m)\u001b[49m\n\u001b[32m   1339\u001b[39m \u001b[38;5;28;01mif\u001b[39;00m observed \u001b[38;5;129;01mis\u001b[39;00m lib.no_default:\n\u001b[32m   1340\u001b[39m     \u001b[38;5;28;01mif\u001b[39;00m \u001b[38;5;28many\u001b[39m(ping._passed_categorical \u001b[38;5;28;01mfor\u001b[39;00m ping \u001b[38;5;129;01min\u001b[39;00m grouper.groupings):\n",
      "\u001b[36mFile \u001b[39m\u001b[32m~/Development/etl_bs/etl-project-demo2/.venv/lib/python3.13/site-packages/pandas/core/groupby/grouper.py:1043\u001b[39m, in \u001b[36mget_grouper\u001b[39m\u001b[34m(obj, key, axis, level, sort, observed, validate, dropna)\u001b[39m\n\u001b[32m   1041\u001b[39m         in_axis, level, gpr = \u001b[38;5;28;01mFalse\u001b[39;00m, gpr, \u001b[38;5;28;01mNone\u001b[39;00m\n\u001b[32m   1042\u001b[39m     \u001b[38;5;28;01melse\u001b[39;00m:\n\u001b[32m-> \u001b[39m\u001b[32m1043\u001b[39m         \u001b[38;5;28;01mraise\u001b[39;00m \u001b[38;5;167;01mKeyError\u001b[39;00m(gpr)\n\u001b[32m   1044\u001b[39m \u001b[38;5;28;01melif\u001b[39;00m \u001b[38;5;28misinstance\u001b[39m(gpr, Grouper) \u001b[38;5;129;01mand\u001b[39;00m gpr.key \u001b[38;5;129;01mis\u001b[39;00m \u001b[38;5;129;01mnot\u001b[39;00m \u001b[38;5;28;01mNone\u001b[39;00m:\n\u001b[32m   1045\u001b[39m     \u001b[38;5;66;03m# Add key to exclusions\u001b[39;00m\n\u001b[32m   1046\u001b[39m     exclusions.add(gpr.key)\n",
      "\u001b[31mKeyError\u001b[39m: 'ride_id'"
     ]
    }
   ],
   "source": [
    "wait_time_df.reset_index(drop=True, inplace=True)\n",
    "wait_time_df = wait_time_df.groupby(['ride_id']).agg(\n",
    "    avg_wait_time=('wait_time', 'mean'),\n",
    "    min_wait_time=('wait_time', 'min'),\n",
    "    max_wait_time=('wait_time', 'max')\n",
    ")\n",
    "wait_time_df\n"
   ]
  },
  {
   "cell_type": "code",
   "execution_count": 231,
   "id": "6c75cd8e",
   "metadata": {},
   "outputs": [
    {
     "data": {
      "application/vnd.microsoft.datawrangler.viewer.v0+json": {
       "columns": [
        {
         "name": "index",
         "rawType": "int64",
         "type": "integer"
        },
        {
         "name": "park_id",
         "rawType": "int64",
         "type": "integer"
        },
        {
         "name": "country",
         "rawType": "object",
         "type": "string"
        },
        {
         "name": "continent",
         "rawType": "object",
         "type": "string"
        }
       ],
       "conversionMethod": "pd.DataFrame",
       "ref": "f5965176-f554-4147-b748-7863f5d51959",
       "rows": [
        [
         "0",
         "57",
         "United States",
         "North America"
        ],
        [
         "1",
         "58",
         "Canada",
         "North America"
        ],
        [
         "2",
         "59",
         "United States",
         "North America"
        ],
        [
         "3",
         "50",
         "United States",
         "North America"
        ],
        [
         "4",
         "69",
         "United States",
         "North America"
        ],
        [
         "5",
         "62",
         "United States",
         "North America"
        ],
        [
         "6",
         "60",
         "United States",
         "North America"
        ],
        [
         "7",
         "61",
         "United States",
         "North America"
        ],
        [
         "8",
         "70",
         "United States",
         "North America"
        ],
        [
         "9",
         "68",
         "United States",
         "North America"
        ],
        [
         "10",
         "63",
         "United States",
         "North America"
        ],
        [
         "11",
         "331",
         "China",
         "Asia"
        ],
        [
         "12",
         "123",
         "China",
         "Asia"
        ],
        [
         "13",
         "130",
         "China",
         "Asia"
        ],
        [
         "14",
         "330",
         "China",
         "Asia"
        ],
        [
         "15",
         "332",
         "China",
         "Asia"
        ],
        [
         "16",
         "139",
         "China",
         "Asia"
        ],
        [
         "17",
         "276",
         "Belgium",
         "Europe"
        ],
        [
         "18",
         "322",
         "Austria",
         "Europe"
        ],
        [
         "19",
         "291",
         "France",
         "Europe"
        ],
        [
         "20",
         "9",
         "France",
         "Europe"
        ],
        [
         "21",
         "14",
         "Belgium",
         "Europe"
        ],
        [
         "22",
         "53",
         "Netherlands",
         "Europe"
        ],
        [
         "23",
         "301",
         "France",
         "Europe"
        ],
        [
         "24",
         "51",
         "Germany",
         "Europe"
        ],
        [
         "25",
         "309",
         "Germany",
         "Europe"
        ],
        [
         "26",
         "55",
         "United States",
         "North America"
        ],
        [
         "27",
         "10",
         "United States",
         "North America"
        ],
        [
         "28",
         "323",
         "Netherlands",
         "Europe"
        ],
        [
         "29",
         "1",
         "England",
         "Europe"
        ],
        [
         "30",
         "3",
         "England",
         "Europe"
        ],
        [
         "31",
         "12",
         "Italy",
         "Europe"
        ],
        [
         "32",
         "25",
         "Germany",
         "Europe"
        ],
        [
         "33",
         "52",
         "Denmark",
         "Europe"
        ],
        [
         "34",
         "279",
         "United States",
         "North America"
        ],
        [
         "35",
         "278",
         "Germany",
         "Europe"
        ],
        [
         "36",
         "280",
         "United States",
         "North America"
        ],
        [
         "37",
         "285",
         "Japan",
         "Asia"
        ],
        [
         "38",
         "315",
         "South Korea",
         "Asia"
        ],
        [
         "39",
         "299",
         "United States",
         "North America"
        ],
        [
         "40",
         "27",
         "England",
         "Europe"
        ],
        [
         "41",
         "316",
         "United States",
         "North America"
        ],
        [
         "42",
         "2",
         "England",
         "Europe"
        ],
        [
         "43",
         "319",
         "Brazil",
         "South America"
        ],
        [
         "44",
         "273",
         "England",
         "Europe"
        ],
        [
         "45",
         "318",
         "Italy",
         "Europe"
        ],
        [
         "46",
         "290",
         "Denmark",
         "Europe"
        ],
        [
         "47",
         "160",
         "Netherlands",
         "Europe"
        ],
        [
         "48",
         "317",
         "Poland",
         "Europe"
        ],
        [
         "49",
         "18",
         "Denmark",
         "Europe"
        ]
       ],
       "shape": {
        "columns": 3,
        "rows": 133
       }
      },
      "text/html": [
       "<div>\n",
       "<style scoped>\n",
       "    .dataframe tbody tr th:only-of-type {\n",
       "        vertical-align: middle;\n",
       "    }\n",
       "\n",
       "    .dataframe tbody tr th {\n",
       "        vertical-align: top;\n",
       "    }\n",
       "\n",
       "    .dataframe thead th {\n",
       "        text-align: right;\n",
       "    }\n",
       "</style>\n",
       "<table border=\"1\" class=\"dataframe\">\n",
       "  <thead>\n",
       "    <tr style=\"text-align: right;\">\n",
       "      <th></th>\n",
       "      <th>park_id</th>\n",
       "      <th>country</th>\n",
       "      <th>continent</th>\n",
       "    </tr>\n",
       "  </thead>\n",
       "  <tbody>\n",
       "    <tr>\n",
       "      <th>0</th>\n",
       "      <td>57</td>\n",
       "      <td>United States</td>\n",
       "      <td>North America</td>\n",
       "    </tr>\n",
       "    <tr>\n",
       "      <th>1</th>\n",
       "      <td>58</td>\n",
       "      <td>Canada</td>\n",
       "      <td>North America</td>\n",
       "    </tr>\n",
       "    <tr>\n",
       "      <th>2</th>\n",
       "      <td>59</td>\n",
       "      <td>United States</td>\n",
       "      <td>North America</td>\n",
       "    </tr>\n",
       "    <tr>\n",
       "      <th>3</th>\n",
       "      <td>50</td>\n",
       "      <td>United States</td>\n",
       "      <td>North America</td>\n",
       "    </tr>\n",
       "    <tr>\n",
       "      <th>4</th>\n",
       "      <td>69</td>\n",
       "      <td>United States</td>\n",
       "      <td>North America</td>\n",
       "    </tr>\n",
       "    <tr>\n",
       "      <th>...</th>\n",
       "      <td>...</td>\n",
       "      <td>...</td>\n",
       "      <td>...</td>\n",
       "    </tr>\n",
       "    <tr>\n",
       "      <th>128</th>\n",
       "      <td>5</td>\n",
       "      <td>United States</td>\n",
       "      <td>North America</td>\n",
       "    </tr>\n",
       "    <tr>\n",
       "      <th>129</th>\n",
       "      <td>30</td>\n",
       "      <td>China</td>\n",
       "      <td>Asia</td>\n",
       "    </tr>\n",
       "    <tr>\n",
       "      <th>130</th>\n",
       "      <td>274</td>\n",
       "      <td>Japan</td>\n",
       "      <td>Asia</td>\n",
       "    </tr>\n",
       "    <tr>\n",
       "      <th>131</th>\n",
       "      <td>275</td>\n",
       "      <td>Japan</td>\n",
       "      <td>Asia</td>\n",
       "    </tr>\n",
       "    <tr>\n",
       "      <th>132</th>\n",
       "      <td>28</td>\n",
       "      <td>France</td>\n",
       "      <td>Europe</td>\n",
       "    </tr>\n",
       "  </tbody>\n",
       "</table>\n",
       "<p>133 rows × 3 columns</p>\n",
       "</div>"
      ],
      "text/plain": [
       "     park_id        country      continent\n",
       "0         57  United States  North America\n",
       "1         58         Canada  North America\n",
       "2         59  United States  North America\n",
       "3         50  United States  North America\n",
       "4         69  United States  North America\n",
       "..       ...            ...            ...\n",
       "128        5  United States  North America\n",
       "129       30          China           Asia\n",
       "130      274          Japan           Asia\n",
       "131      275          Japan           Asia\n",
       "132       28         France         Europe\n",
       "\n",
       "[133 rows x 3 columns]"
      ]
     },
     "execution_count": 231,
     "metadata": {},
     "output_type": "execute_result"
    }
   ],
   "source": [
    "parks_by_country_df = parks_df.filter(['park_id', 'country', 'continent'])\n",
    "parks_by_country_df\n"
   ]
  },
  {
   "cell_type": "code",
   "execution_count": 232,
   "id": "755a9bca",
   "metadata": {},
   "outputs": [],
   "source": [
    "parks_by_country_df = parks_by_country_df.reset_index()\n",
    "parks_by_country_df = parks_by_country_df.groupby('country').agg({\n",
    "    'park_id': 'count',\n",
    "    'continent': lambda x: sorted(set(x))[0]\n",
    "}).rename(columns={'park_id': 'num_of_parks'}).reset_index()\n",
    "    \n",
    "parks_by_country_df.to_csv('parks_by_country.csv', index=False)\n"
   ]
  },
  {
   "cell_type": "code",
   "execution_count": 233,
   "id": "6ae87f4f",
   "metadata": {},
   "outputs": [
    {
     "ename": "KeyError",
     "evalue": "'name_number'",
     "output_type": "error",
     "traceback": [
      "\u001b[31m---------------------------------------------------------------------------\u001b[39m",
      "\u001b[31mKeyError\u001b[39m                                  Traceback (most recent call last)",
      "\u001b[36mFile \u001b[39m\u001b[32m~/Development/etl_bs/etl-project-demo2/.venv/lib/python3.13/site-packages/pandas/core/indexes/base.py:3805\u001b[39m, in \u001b[36mIndex.get_loc\u001b[39m\u001b[34m(self, key)\u001b[39m\n\u001b[32m   3804\u001b[39m \u001b[38;5;28;01mtry\u001b[39;00m:\n\u001b[32m-> \u001b[39m\u001b[32m3805\u001b[39m     \u001b[38;5;28;01mreturn\u001b[39;00m \u001b[38;5;28;43mself\u001b[39;49m\u001b[43m.\u001b[49m\u001b[43m_engine\u001b[49m\u001b[43m.\u001b[49m\u001b[43mget_loc\u001b[49m\u001b[43m(\u001b[49m\u001b[43mcasted_key\u001b[49m\u001b[43m)\u001b[49m\n\u001b[32m   3806\u001b[39m \u001b[38;5;28;01mexcept\u001b[39;00m \u001b[38;5;167;01mKeyError\u001b[39;00m \u001b[38;5;28;01mas\u001b[39;00m err:\n",
      "\u001b[36mFile \u001b[39m\u001b[32mindex.pyx:167\u001b[39m, in \u001b[36mpandas._libs.index.IndexEngine.get_loc\u001b[39m\u001b[34m()\u001b[39m\n",
      "\u001b[36mFile \u001b[39m\u001b[32mindex.pyx:196\u001b[39m, in \u001b[36mpandas._libs.index.IndexEngine.get_loc\u001b[39m\u001b[34m()\u001b[39m\n",
      "\u001b[36mFile \u001b[39m\u001b[32mpandas/_libs/hashtable_class_helper.pxi:7081\u001b[39m, in \u001b[36mpandas._libs.hashtable.PyObjectHashTable.get_item\u001b[39m\u001b[34m()\u001b[39m\n",
      "\u001b[36mFile \u001b[39m\u001b[32mpandas/_libs/hashtable_class_helper.pxi:7089\u001b[39m, in \u001b[36mpandas._libs.hashtable.PyObjectHashTable.get_item\u001b[39m\u001b[34m()\u001b[39m\n",
      "\u001b[31mKeyError\u001b[39m: 'name_number'",
      "\nThe above exception was the direct cause of the following exception:\n",
      "\u001b[31mKeyError\u001b[39m                                  Traceback (most recent call last)",
      "\u001b[36mCell\u001b[39m\u001b[36m \u001b[39m\u001b[32mIn[233]\u001b[39m\u001b[32m, line 1\u001b[39m\n\u001b[32m----> \u001b[39m\u001b[32m1\u001b[39m names_cols = \u001b[43mparks_by_country_df\u001b[49m\u001b[43m.\u001b[49m\u001b[43mpivot\u001b[49m\u001b[43m(\u001b[49m\u001b[43mindex\u001b[49m\u001b[43m=\u001b[49m\u001b[33;43m'\u001b[39;49m\u001b[33;43mcountry\u001b[39;49m\u001b[33;43m'\u001b[39;49m\u001b[43m,\u001b[49m\u001b[43m \u001b[49m\u001b[43mcolumns\u001b[49m\u001b[43m=\u001b[49m\u001b[33;43m'\u001b[39;49m\u001b[33;43mname_number\u001b[39;49m\u001b[33;43m'\u001b[39;49m\u001b[43m,\u001b[49m\u001b[43m \u001b[49m\u001b[43mvalues\u001b[49m\u001b[43m=\u001b[49m\u001b[33;43m'\u001b[39;49m\u001b[33;43mpark_name\u001b[39;49m\u001b[33;43m'\u001b[39;49m\u001b[43m)\u001b[49m\n\u001b[32m      2\u001b[39m names_cols.columns = [\u001b[33mf\u001b[39m\u001b[33m'\u001b[39m\u001b[33mpark_name_\u001b[39m\u001b[38;5;132;01m{\u001b[39;00mi\u001b[38;5;132;01m}\u001b[39;00m\u001b[33m'\u001b[39m \u001b[38;5;28;01mfor\u001b[39;00m i \u001b[38;5;129;01min\u001b[39;00m names_cols.columns]\n\u001b[32m      3\u001b[39m names_cols\n",
      "\u001b[36mFile \u001b[39m\u001b[32m~/Development/etl_bs/etl-project-demo2/.venv/lib/python3.13/site-packages/pandas/core/frame.py:9339\u001b[39m, in \u001b[36mDataFrame.pivot\u001b[39m\u001b[34m(self, columns, index, values)\u001b[39m\n\u001b[32m   9332\u001b[39m \u001b[38;5;129m@Substitution\u001b[39m(\u001b[33m\"\u001b[39m\u001b[33m\"\u001b[39m)\n\u001b[32m   9333\u001b[39m \u001b[38;5;129m@Appender\u001b[39m(_shared_docs[\u001b[33m\"\u001b[39m\u001b[33mpivot\u001b[39m\u001b[33m\"\u001b[39m])\n\u001b[32m   9334\u001b[39m \u001b[38;5;28;01mdef\u001b[39;00m\u001b[38;5;250m \u001b[39m\u001b[34mpivot\u001b[39m(\n\u001b[32m   9335\u001b[39m     \u001b[38;5;28mself\u001b[39m, *, columns, index=lib.no_default, values=lib.no_default\n\u001b[32m   9336\u001b[39m ) -> DataFrame:\n\u001b[32m   9337\u001b[39m     \u001b[38;5;28;01mfrom\u001b[39;00m\u001b[38;5;250m \u001b[39m\u001b[34;01mpandas\u001b[39;00m\u001b[34;01m.\u001b[39;00m\u001b[34;01mcore\u001b[39;00m\u001b[34;01m.\u001b[39;00m\u001b[34;01mreshape\u001b[39;00m\u001b[34;01m.\u001b[39;00m\u001b[34;01mpivot\u001b[39;00m\u001b[38;5;250m \u001b[39m\u001b[38;5;28;01mimport\u001b[39;00m pivot\n\u001b[32m-> \u001b[39m\u001b[32m9339\u001b[39m     \u001b[38;5;28;01mreturn\u001b[39;00m \u001b[43mpivot\u001b[49m\u001b[43m(\u001b[49m\u001b[38;5;28;43mself\u001b[39;49m\u001b[43m,\u001b[49m\u001b[43m \u001b[49m\u001b[43mindex\u001b[49m\u001b[43m=\u001b[49m\u001b[43mindex\u001b[49m\u001b[43m,\u001b[49m\u001b[43m \u001b[49m\u001b[43mcolumns\u001b[49m\u001b[43m=\u001b[49m\u001b[43mcolumns\u001b[49m\u001b[43m,\u001b[49m\u001b[43m \u001b[49m\u001b[43mvalues\u001b[49m\u001b[43m=\u001b[49m\u001b[43mvalues\u001b[49m\u001b[43m)\u001b[49m\n",
      "\u001b[36mFile \u001b[39m\u001b[32m~/Development/etl_bs/etl-project-demo2/.venv/lib/python3.13/site-packages/pandas/core/reshape/pivot.py:555\u001b[39m, in \u001b[36mpivot\u001b[39m\u001b[34m(data, columns, index, values)\u001b[39m\n\u001b[32m    552\u001b[39m \u001b[38;5;28;01melse\u001b[39;00m:\n\u001b[32m    553\u001b[39m     index_list = [data[idx] \u001b[38;5;28;01mfor\u001b[39;00m idx \u001b[38;5;129;01min\u001b[39;00m com.convert_to_list_like(index)]\n\u001b[32m--> \u001b[39m\u001b[32m555\u001b[39m data_columns = [\u001b[43mdata\u001b[49m\u001b[43m[\u001b[49m\u001b[43mcol\u001b[49m\u001b[43m]\u001b[49m \u001b[38;5;28;01mfor\u001b[39;00m col \u001b[38;5;129;01min\u001b[39;00m columns_listlike]\n\u001b[32m    556\u001b[39m index_list.extend(data_columns)\n\u001b[32m    557\u001b[39m multiindex = MultiIndex.from_arrays(index_list)\n",
      "\u001b[36mFile \u001b[39m\u001b[32m~/Development/etl_bs/etl-project-demo2/.venv/lib/python3.13/site-packages/pandas/core/frame.py:4102\u001b[39m, in \u001b[36mDataFrame.__getitem__\u001b[39m\u001b[34m(self, key)\u001b[39m\n\u001b[32m   4100\u001b[39m \u001b[38;5;28;01mif\u001b[39;00m \u001b[38;5;28mself\u001b[39m.columns.nlevels > \u001b[32m1\u001b[39m:\n\u001b[32m   4101\u001b[39m     \u001b[38;5;28;01mreturn\u001b[39;00m \u001b[38;5;28mself\u001b[39m._getitem_multilevel(key)\n\u001b[32m-> \u001b[39m\u001b[32m4102\u001b[39m indexer = \u001b[38;5;28;43mself\u001b[39;49m\u001b[43m.\u001b[49m\u001b[43mcolumns\u001b[49m\u001b[43m.\u001b[49m\u001b[43mget_loc\u001b[49m\u001b[43m(\u001b[49m\u001b[43mkey\u001b[49m\u001b[43m)\u001b[49m\n\u001b[32m   4103\u001b[39m \u001b[38;5;28;01mif\u001b[39;00m is_integer(indexer):\n\u001b[32m   4104\u001b[39m     indexer = [indexer]\n",
      "\u001b[36mFile \u001b[39m\u001b[32m~/Development/etl_bs/etl-project-demo2/.venv/lib/python3.13/site-packages/pandas/core/indexes/base.py:3812\u001b[39m, in \u001b[36mIndex.get_loc\u001b[39m\u001b[34m(self, key)\u001b[39m\n\u001b[32m   3807\u001b[39m     \u001b[38;5;28;01mif\u001b[39;00m \u001b[38;5;28misinstance\u001b[39m(casted_key, \u001b[38;5;28mslice\u001b[39m) \u001b[38;5;129;01mor\u001b[39;00m (\n\u001b[32m   3808\u001b[39m         \u001b[38;5;28misinstance\u001b[39m(casted_key, abc.Iterable)\n\u001b[32m   3809\u001b[39m         \u001b[38;5;129;01mand\u001b[39;00m \u001b[38;5;28many\u001b[39m(\u001b[38;5;28misinstance\u001b[39m(x, \u001b[38;5;28mslice\u001b[39m) \u001b[38;5;28;01mfor\u001b[39;00m x \u001b[38;5;129;01min\u001b[39;00m casted_key)\n\u001b[32m   3810\u001b[39m     ):\n\u001b[32m   3811\u001b[39m         \u001b[38;5;28;01mraise\u001b[39;00m InvalidIndexError(key)\n\u001b[32m-> \u001b[39m\u001b[32m3812\u001b[39m     \u001b[38;5;28;01mraise\u001b[39;00m \u001b[38;5;167;01mKeyError\u001b[39;00m(key) \u001b[38;5;28;01mfrom\u001b[39;00m\u001b[38;5;250m \u001b[39m\u001b[34;01merr\u001b[39;00m\n\u001b[32m   3813\u001b[39m \u001b[38;5;28;01mexcept\u001b[39;00m \u001b[38;5;167;01mTypeError\u001b[39;00m:\n\u001b[32m   3814\u001b[39m     \u001b[38;5;66;03m# If we have a listlike key, _check_indexing_error will raise\u001b[39;00m\n\u001b[32m   3815\u001b[39m     \u001b[38;5;66;03m#  InvalidIndexError. Otherwise we fall through and re-raise\u001b[39;00m\n\u001b[32m   3816\u001b[39m     \u001b[38;5;66;03m#  the TypeError.\u001b[39;00m\n\u001b[32m   3817\u001b[39m     \u001b[38;5;28mself\u001b[39m._check_indexing_error(key)\n",
      "\u001b[31mKeyError\u001b[39m: 'name_number'"
     ]
    }
   ],
   "source": [
    "names_cols = parks_by_country_df.pivot(index='country', columns='name_number', values='park_name')\n",
    "names_cols.columns = [f'park_name_{i}' for i in names_cols.columns]\n",
    "names_cols"
   ]
  },
  {
   "cell_type": "code",
   "execution_count": 210,
   "id": "ca3236c8",
   "metadata": {},
   "outputs": [
    {
     "data": {
      "application/vnd.microsoft.datawrangler.viewer.v0+json": {
       "columns": [
        {
         "name": "index",
         "rawType": "int64",
         "type": "integer"
        },
        {
         "name": "country",
         "rawType": "object",
         "type": "string"
        },
        {
         "name": "unique_id_count",
         "rawType": "int64",
         "type": "integer"
        },
        {
         "name": "continent",
         "rawType": "object",
         "type": "string"
        }
       ],
       "conversionMethod": "pd.DataFrame",
       "ref": "9b5ba6f1-ccc2-4335-8e66-1209b2450bed",
       "rows": [
        [
         "0",
         "Austria",
         "1",
         "Europe"
        ],
        [
         "1",
         "Belgium",
         "4",
         "Europe"
        ],
        [
         "2",
         "Brazil",
         "1",
         "South America"
        ],
        [
         "3",
         "Canada",
         "2",
         "North America"
        ],
        [
         "4",
         "China",
         "8",
         "Asia"
        ],
        [
         "5",
         "Denmark",
         "3",
         "Europe"
        ],
        [
         "6",
         "England",
         "8",
         "Europe"
        ],
        [
         "7",
         "France",
         "9",
         "Europe"
        ],
        [
         "8",
         "Germany",
         "8",
         "Europe"
        ],
        [
         "9",
         "Hong Kong",
         "1",
         "Asia"
        ],
        [
         "10",
         "Italy",
         "2",
         "Europe"
        ],
        [
         "11",
         "Japan",
         "4",
         "Asia"
        ],
        [
         "12",
         "Mexico",
         "1",
         "North America"
        ],
        [
         "13",
         "Netherlands",
         "4",
         "Europe"
        ],
        [
         "14",
         "Poland",
         "1",
         "Europe"
        ],
        [
         "15",
         "South Korea",
         "4",
         "Asia"
        ],
        [
         "16",
         "Spain",
         "4",
         "Europe"
        ],
        [
         "17",
         "Sweden",
         "2",
         "Europe"
        ],
        [
         "18",
         "United States",
         "66",
         "North America"
        ]
       ],
       "shape": {
        "columns": 3,
        "rows": 19
       }
      },
      "text/html": [
       "<div>\n",
       "<style scoped>\n",
       "    .dataframe tbody tr th:only-of-type {\n",
       "        vertical-align: middle;\n",
       "    }\n",
       "\n",
       "    .dataframe tbody tr th {\n",
       "        vertical-align: top;\n",
       "    }\n",
       "\n",
       "    .dataframe thead th {\n",
       "        text-align: right;\n",
       "    }\n",
       "</style>\n",
       "<table border=\"1\" class=\"dataframe\">\n",
       "  <thead>\n",
       "    <tr style=\"text-align: right;\">\n",
       "      <th></th>\n",
       "      <th>country</th>\n",
       "      <th>unique_id_count</th>\n",
       "      <th>continent</th>\n",
       "    </tr>\n",
       "  </thead>\n",
       "  <tbody>\n",
       "    <tr>\n",
       "      <th>0</th>\n",
       "      <td>Austria</td>\n",
       "      <td>1</td>\n",
       "      <td>Europe</td>\n",
       "    </tr>\n",
       "    <tr>\n",
       "      <th>1</th>\n",
       "      <td>Belgium</td>\n",
       "      <td>4</td>\n",
       "      <td>Europe</td>\n",
       "    </tr>\n",
       "    <tr>\n",
       "      <th>2</th>\n",
       "      <td>Brazil</td>\n",
       "      <td>1</td>\n",
       "      <td>South America</td>\n",
       "    </tr>\n",
       "    <tr>\n",
       "      <th>3</th>\n",
       "      <td>Canada</td>\n",
       "      <td>2</td>\n",
       "      <td>North America</td>\n",
       "    </tr>\n",
       "    <tr>\n",
       "      <th>4</th>\n",
       "      <td>China</td>\n",
       "      <td>8</td>\n",
       "      <td>Asia</td>\n",
       "    </tr>\n",
       "    <tr>\n",
       "      <th>5</th>\n",
       "      <td>Denmark</td>\n",
       "      <td>3</td>\n",
       "      <td>Europe</td>\n",
       "    </tr>\n",
       "    <tr>\n",
       "      <th>6</th>\n",
       "      <td>England</td>\n",
       "      <td>8</td>\n",
       "      <td>Europe</td>\n",
       "    </tr>\n",
       "    <tr>\n",
       "      <th>7</th>\n",
       "      <td>France</td>\n",
       "      <td>9</td>\n",
       "      <td>Europe</td>\n",
       "    </tr>\n",
       "    <tr>\n",
       "      <th>8</th>\n",
       "      <td>Germany</td>\n",
       "      <td>8</td>\n",
       "      <td>Europe</td>\n",
       "    </tr>\n",
       "    <tr>\n",
       "      <th>9</th>\n",
       "      <td>Hong Kong</td>\n",
       "      <td>1</td>\n",
       "      <td>Asia</td>\n",
       "    </tr>\n",
       "    <tr>\n",
       "      <th>10</th>\n",
       "      <td>Italy</td>\n",
       "      <td>2</td>\n",
       "      <td>Europe</td>\n",
       "    </tr>\n",
       "    <tr>\n",
       "      <th>11</th>\n",
       "      <td>Japan</td>\n",
       "      <td>4</td>\n",
       "      <td>Asia</td>\n",
       "    </tr>\n",
       "    <tr>\n",
       "      <th>12</th>\n",
       "      <td>Mexico</td>\n",
       "      <td>1</td>\n",
       "      <td>North America</td>\n",
       "    </tr>\n",
       "    <tr>\n",
       "      <th>13</th>\n",
       "      <td>Netherlands</td>\n",
       "      <td>4</td>\n",
       "      <td>Europe</td>\n",
       "    </tr>\n",
       "    <tr>\n",
       "      <th>14</th>\n",
       "      <td>Poland</td>\n",
       "      <td>1</td>\n",
       "      <td>Europe</td>\n",
       "    </tr>\n",
       "    <tr>\n",
       "      <th>15</th>\n",
       "      <td>South Korea</td>\n",
       "      <td>4</td>\n",
       "      <td>Asia</td>\n",
       "    </tr>\n",
       "    <tr>\n",
       "      <th>16</th>\n",
       "      <td>Spain</td>\n",
       "      <td>4</td>\n",
       "      <td>Europe</td>\n",
       "    </tr>\n",
       "    <tr>\n",
       "      <th>17</th>\n",
       "      <td>Sweden</td>\n",
       "      <td>2</td>\n",
       "      <td>Europe</td>\n",
       "    </tr>\n",
       "    <tr>\n",
       "      <th>18</th>\n",
       "      <td>United States</td>\n",
       "      <td>66</td>\n",
       "      <td>North America</td>\n",
       "    </tr>\n",
       "  </tbody>\n",
       "</table>\n",
       "</div>"
      ],
      "text/plain": [
       "          country  unique_id_count      continent\n",
       "0         Austria                1         Europe\n",
       "1         Belgium                4         Europe\n",
       "2          Brazil                1  South America\n",
       "3          Canada                2  North America\n",
       "4           China                8           Asia\n",
       "5         Denmark                3         Europe\n",
       "6         England                8         Europe\n",
       "7          France                9         Europe\n",
       "8         Germany                8         Europe\n",
       "9       Hong Kong                1           Asia\n",
       "10          Italy                2         Europe\n",
       "11          Japan                4           Asia\n",
       "12         Mexico                1  North America\n",
       "13    Netherlands                4         Europe\n",
       "14         Poland                1         Europe\n",
       "15    South Korea                4           Asia\n",
       "16          Spain                4         Europe\n",
       "17         Sweden                2         Europe\n",
       "18  United States               66  North America"
      ]
     },
     "execution_count": 210,
     "metadata": {},
     "output_type": "execute_result"
    }
   ],
   "source": [
    "meta = parks_by_country_df.groupby('country').agg({\n",
    "    'id': 'nunique',\n",
    "    'continent': lambda x: sorted(set(x))[0]  # pick one (or check uniqueness)\n",
    "}).rename(columns={'id': 'unique_id_count'}).reset_index()\n",
    "meta\n"
   ]
  },
  {
   "cell_type": "code",
   "execution_count": 212,
   "id": "62cc6fea",
   "metadata": {},
   "outputs": [],
   "source": [
    "parks_by_country_separated_df = pd.merge(meta, names_cols.reset_index(), on='country')\n",
    "parks_by_country_separated_df.to_csv('parks_by_country_separated.csv', index=False)"
   ]
  },
  {
   "cell_type": "code",
   "execution_count": 251,
   "id": "5aa7706e",
   "metadata": {},
   "outputs": [],
   "source": [
    "avg_wait_time_by_ride_df = wait_time_df.drop(columns=['min_wait_time', 'max_wait_time'])\n",
    "avg_wait_time_by_ride_df.reset_index(inplace=True)"
   ]
  },
  {
   "cell_type": "code",
   "execution_count": 94,
   "id": "7b7958eb",
   "metadata": {},
   "outputs": [
    {
     "data": {
      "application/vnd.microsoft.datawrangler.viewer.v0+json": {
       "columns": [
        {
         "name": "ride_id",
         "rawType": "int64",
         "type": "integer"
        },
        {
         "name": "ride_name",
         "rawType": "object",
         "type": "string"
        },
        {
         "name": "name",
         "rawType": "object",
         "type": "string"
        }
       ],
       "conversionMethod": "pd.DataFrame",
       "ref": "1168ca6d-8afe-41ba-b993-38803995b7f0",
       "rows": [
        [
         "5852",
         "RailBlazer",
         "California's Great America"
        ],
        [
         "7720",
         "Woodstock Express",
         "California's Great America"
        ],
        [
         "7660",
         "The Pumpkin Patch",
         "California's Great America"
        ],
        [
         "7668",
         "Xtreme Skyflyer",
         "California's Great America"
        ],
        [
         "13057",
         "Tide Pool Slides",
         "California's Great America"
        ],
        [
         "6649",
         "Yukon Striker",
         "Canada's Wonderland"
        ],
        [
         "7645",
         "White Water Canyon",
         "Canada's Wonderland"
        ],
        [
         "7664",
         "Woodstock Whirlybirds",
         "Canada's Wonderland"
        ],
        [
         "5870",
         "WindSeeker",
         "Canada's Wonderland"
        ],
        [
         "7672",
         "White Water Bay",
         "Canada's Wonderland"
        ],
        [
         "5886",
         "Vortex",
         "Carowinds"
        ],
        [
         "5891",
         "Zephyr",
         "Carowinds"
        ],
        [
         "6436",
         "Woodstock Whirlybirds",
         "Carowinds"
        ],
        [
         "5887",
         "WindSeeker",
         "Carowinds"
        ],
        [
         "4647",
         "Woodstock Express",
         "Cedar Point"
        ],
        [
         "4661",
         "Snoopys Express Railroad",
         "Cedar Point"
        ],
        [
         "12861",
         "Woodstocks Whirlybirds",
         "Cedar Point"
        ],
        [
         "3777",
         "WindSeeker",
         "Cedar Point"
        ],
        [
         "12871",
         "Plunge Slide",
         "Cedar Point"
        ],
        [
         "6664",
         "Wild Mouse",
         "Dorney Park"
        ],
        [
         "7792",
         "Zephyr",
         "Dorney Park"
        ],
        [
         "7780",
         "PS - Woodstocks Wagon Wheel",
         "Dorney Park"
        ],
        [
         "6663",
         "White Water Landing",
         "Dorney Park"
        ],
        [
         "6665",
         "Wildwater River",
         "Dorney Park"
        ],
        [
         "5937",
         "Twisted Timbers",
         "Kings Dominion"
        ],
        [
         "7740",
         "Woodstock Express",
         "Kings Dominion"
        ],
        [
         "7777",
         "Woodstock Whirlybirds",
         "Kings Dominion"
        ],
        [
         "12663",
         "Xtreme SkyFlyer - Delta",
         "Kings Dominion"
        ],
        [
         "12706",
         "Racer Red",
         "Kings Island"
        ],
        [
         "7603",
         "Zephyr",
         "Kings Island"
        ],
        [
         "7608",
         "Woodstock's Whirlybirds",
         "Kings Island"
        ],
        [
         "7618",
         "WindSeeker",
         "Kings Island"
        ],
        [
         "5918",
         "Xcelerator The Ride",
         "Knott's Berry Farm"
        ],
        [
         "12572",
         "Wipeout",
         "Knott's Berry Farm"
        ],
        [
         "7750",
         "Rapid River Run",
         "Knott's Berry Farm"
        ],
        [
         "5921",
         "Supreme Scream",
         "Knott's Berry Farm"
        ],
        [
         "13615",
         "Wedge",
         "Knott's Berry Farm"
        ],
        [
         "8754",
         "Zach's Zoomer",
         "Michigan's Adventure"
        ],
        [
         "8753",
         "Winky The Whale",
         "Michigan's Adventure"
        ],
        [
         "8742",
         "Motorcycles",
         "Michigan's Adventure"
        ],
        [
         "8743",
         "RipCord",
         "Michigan's Adventure"
        ],
        [
         "13554",
         "Wild Slide/Ridge Rider",
         "Michigan's Adventure"
        ],
        [
         "7879",
         "Wheel of Fortune",
         "Valleyfair"
        ],
        [
         "7877",
         "Woodstock Whirlybirds",
         "Valleyfair"
        ],
        [
         "7218",
         "Undertakers",
         "Valleyfair"
        ],
        [
         "7886",
         "Tilter",
         "Valleyfair"
        ],
        [
         "6580",
         "Xtreme Swing",
         "Valleyfair"
        ],
        [
         "14043",
         "Toxicity",
         "Valleyfair"
        ],
        [
         "7866",
         "Splash Station",
         "Valleyfair"
        ],
        [
         "6556",
         "Worlds of Fun Railroad",
         "Worlds of Fun"
        ]
       ],
       "shape": {
        "columns": 2,
        "rows": 461
       }
      },
      "text/html": [
       "<div>\n",
       "<style scoped>\n",
       "    .dataframe tbody tr th:only-of-type {\n",
       "        vertical-align: middle;\n",
       "    }\n",
       "\n",
       "    .dataframe tbody tr th {\n",
       "        vertical-align: top;\n",
       "    }\n",
       "\n",
       "    .dataframe thead th {\n",
       "        text-align: right;\n",
       "    }\n",
       "</style>\n",
       "<table border=\"1\" class=\"dataframe\">\n",
       "  <thead>\n",
       "    <tr style=\"text-align: right;\">\n",
       "      <th></th>\n",
       "      <th>ride_name</th>\n",
       "      <th>name</th>\n",
       "    </tr>\n",
       "    <tr>\n",
       "      <th>ride_id</th>\n",
       "      <th></th>\n",
       "      <th></th>\n",
       "    </tr>\n",
       "  </thead>\n",
       "  <tbody>\n",
       "    <tr>\n",
       "      <th>5852</th>\n",
       "      <td>RailBlazer</td>\n",
       "      <td>California's Great America</td>\n",
       "    </tr>\n",
       "    <tr>\n",
       "      <th>7720</th>\n",
       "      <td>Woodstock Express</td>\n",
       "      <td>California's Great America</td>\n",
       "    </tr>\n",
       "    <tr>\n",
       "      <th>7660</th>\n",
       "      <td>The Pumpkin Patch</td>\n",
       "      <td>California's Great America</td>\n",
       "    </tr>\n",
       "    <tr>\n",
       "      <th>7668</th>\n",
       "      <td>Xtreme Skyflyer</td>\n",
       "      <td>California's Great America</td>\n",
       "    </tr>\n",
       "    <tr>\n",
       "      <th>13057</th>\n",
       "      <td>Tide Pool Slides</td>\n",
       "      <td>California's Great America</td>\n",
       "    </tr>\n",
       "    <tr>\n",
       "      <th>...</th>\n",
       "      <td>...</td>\n",
       "      <td>...</td>\n",
       "    </tr>\n",
       "    <tr>\n",
       "      <th>7281</th>\n",
       "      <td>Toy Soldiers Parachute Drop Single Rider</td>\n",
       "      <td>Walt Disney Studios Paris</td>\n",
       "    </tr>\n",
       "    <tr>\n",
       "      <th>10990</th>\n",
       "      <td>​Zuma's Zoomers</td>\n",
       "      <td>Movie Park Germany</td>\n",
       "    </tr>\n",
       "    <tr>\n",
       "      <th>1428</th>\n",
       "      <td>Riptide Rescue</td>\n",
       "      <td>Seaworld San Diego</td>\n",
       "    </tr>\n",
       "    <tr>\n",
       "      <th>13573</th>\n",
       "      <td>Waitan Port</td>\n",
       "      <td>PortAventura Park</td>\n",
       "    </tr>\n",
       "    <tr>\n",
       "      <th>14643</th>\n",
       "      <td>The Wizarding World of Harry Potter™ Entrance</td>\n",
       "      <td>Universal Studios Beijing</td>\n",
       "    </tr>\n",
       "  </tbody>\n",
       "</table>\n",
       "<p>461 rows × 2 columns</p>\n",
       "</div>"
      ],
      "text/plain": [
       "                                             ride_name  \\\n",
       "ride_id                                                  \n",
       "5852                                        RailBlazer   \n",
       "7720                                 Woodstock Express   \n",
       "7660                                 The Pumpkin Patch   \n",
       "7668                                   Xtreme Skyflyer   \n",
       "13057                                 Tide Pool Slides   \n",
       "...                                                ...   \n",
       "7281          Toy Soldiers Parachute Drop Single Rider   \n",
       "10990                                  ​Zuma's Zoomers   \n",
       "1428                                    Riptide Rescue   \n",
       "13573                                      Waitan Port   \n",
       "14643    The Wizarding World of Harry Potter™ Entrance   \n",
       "\n",
       "                               name  \n",
       "ride_id                              \n",
       "5852     California's Great America  \n",
       "7720     California's Great America  \n",
       "7660     California's Great America  \n",
       "7668     California's Great America  \n",
       "13057    California's Great America  \n",
       "...                             ...  \n",
       "7281      Walt Disney Studios Paris  \n",
       "10990            Movie Park Germany  \n",
       "1428             Seaworld San Diego  \n",
       "13573             PortAventura Park  \n",
       "14643     Universal Studios Beijing  \n",
       "\n",
       "[461 rows x 2 columns]"
      ]
     },
     "execution_count": 94,
     "metadata": {},
     "output_type": "execute_result"
    }
   ],
   "source": [
    "ride_names_df = full_df.filter(['ride_id', 'ride_name', 'name'])\n",
    "ride_names_df = ride_names_df.set_index('ride_id')\n",
    "ride_names_df = ride_names_df.drop_duplicates()\n",
    "ride_names_df \n"
   ]
  },
  {
   "cell_type": "code",
   "execution_count": 243,
   "id": "dd3fe633",
   "metadata": {},
   "outputs": [
    {
     "data": {
      "application/vnd.microsoft.datawrangler.viewer.v0+json": {
       "columns": [
        {
         "name": "index",
         "rawType": "int64",
         "type": "integer"
        },
        {
         "name": "timestamp",
         "rawType": "datetime64[ns, UTC]",
         "type": "unknown"
        },
        {
         "name": "park_id",
         "rawType": "int64",
         "type": "integer"
        },
        {
         "name": "ride_id",
         "rawType": "int64",
         "type": "integer"
        },
        {
         "name": "ride_name",
         "rawType": "object",
         "type": "string"
        },
        {
         "name": "is_open",
         "rawType": "bool",
         "type": "boolean"
        },
        {
         "name": "wait_time",
         "rawType": "int64",
         "type": "integer"
        },
        {
         "name": "last_updated",
         "rawType": "datetime64[ns, UTC]",
         "type": "unknown"
        },
        {
         "name": "park_name",
         "rawType": "object",
         "type": "string"
        },
        {
         "name": "country",
         "rawType": "object",
         "type": "string"
        },
        {
         "name": "continent",
         "rawType": "object",
         "type": "string"
        },
        {
         "name": "latitude",
         "rawType": "object",
         "type": "string"
        },
        {
         "name": "longitude",
         "rawType": "object",
         "type": "string"
        },
        {
         "name": "date",
         "rawType": "object",
         "type": "string"
        }
       ],
       "conversionMethod": "pd.DataFrame",
       "ref": "ca4746dc-7000-4539-bef9-0afab06ca7e3",
       "rows": [
        [
         "0",
         "2025-05-13 18:41:52.601463+00:00",
         "57",
         "5852",
         "RailBlazer",
         "False",
         "0",
         "2025-05-13 18:40:22+00:00",
         "California's Great America",
         "United States",
         "North America",
         "37.397799",
         "-121.974717",
         "13th May 2025"
        ],
        [
         "1",
         "2025-05-13 18:41:52.601463+00:00",
         "57",
         "7720",
         "Woodstock Express",
         "False",
         "0",
         "2025-05-13 18:40:22+00:00",
         "California's Great America",
         "United States",
         "North America",
         "37.397799",
         "-121.974717",
         "13th May 2025"
        ],
        [
         "2",
         "2025-05-13 18:41:52.601463+00:00",
         "57",
         "7660",
         "The Pumpkin Patch",
         "False",
         "0",
         "2025-05-13 18:40:22+00:00",
         "California's Great America",
         "United States",
         "North America",
         "37.397799",
         "-121.974717",
         "13th May 2025"
        ],
        [
         "3",
         "2025-05-13 18:41:52.601463+00:00",
         "57",
         "7668",
         "Xtreme Skyflyer",
         "False",
         "0",
         "2025-05-13 18:40:22+00:00",
         "California's Great America",
         "United States",
         "North America",
         "37.397799",
         "-121.974717",
         "13th May 2025"
        ],
        [
         "4",
         "2025-05-13 18:41:52.601463+00:00",
         "57",
         "13057",
         "Tide Pool Slides",
         "False",
         "0",
         "2025-05-13 18:40:22+00:00",
         "California's Great America",
         "United States",
         "North America",
         "37.397799",
         "-121.974717",
         "13th May 2025"
        ],
        [
         "5",
         "2025-05-13 18:41:52.726123+00:00",
         "58",
         "6649",
         "Yukon Striker",
         "True",
         "0",
         "2025-05-13 18:40:45+00:00",
         "Canada's Wonderland",
         "Canada",
         "North America",
         "43.843",
         "-79.539",
         "13th May 2025"
        ],
        [
         "6",
         "2025-05-13 18:41:52.726123+00:00",
         "58",
         "7645",
         "White Water Canyon",
         "True",
         "0",
         "2025-05-13 18:40:45+00:00",
         "Canada's Wonderland",
         "Canada",
         "North America",
         "43.843",
         "-79.539",
         "13th May 2025"
        ],
        [
         "7",
         "2025-05-13 18:41:52.726123+00:00",
         "58",
         "7664",
         "Woodstock Whirlybirds",
         "True",
         "0",
         "2025-05-13 18:40:45+00:00",
         "Canada's Wonderland",
         "Canada",
         "North America",
         "43.843",
         "-79.539",
         "13th May 2025"
        ],
        [
         "8",
         "2025-05-13 18:41:52.726123+00:00",
         "58",
         "5870",
         "WindSeeker",
         "True",
         "0",
         "2025-05-13 18:40:45+00:00",
         "Canada's Wonderland",
         "Canada",
         "North America",
         "43.843",
         "-79.539",
         "13th May 2025"
        ],
        [
         "9",
         "2025-05-13 18:41:52.726123+00:00",
         "58",
         "7672",
         "White Water Bay",
         "True",
         "0",
         "2025-05-13 18:40:45+00:00",
         "Canada's Wonderland",
         "Canada",
         "North America",
         "43.843",
         "-79.539",
         "13th May 2025"
        ],
        [
         "10",
         "2025-05-13 18:41:52.865116+00:00",
         "59",
         "5886",
         "Vortex",
         "False",
         "0",
         "2025-05-13 18:40:59+00:00",
         "Carowinds",
         "United States",
         "North America",
         "35.1045",
         "-80.9394",
         "13th May 2025"
        ],
        [
         "11",
         "2025-05-13 18:41:52.865116+00:00",
         "59",
         "5891",
         "Zephyr",
         "False",
         "0",
         "2025-05-13 18:40:59+00:00",
         "Carowinds",
         "United States",
         "North America",
         "35.1045",
         "-80.9394",
         "13th May 2025"
        ],
        [
         "12",
         "2025-05-13 18:41:52.865116+00:00",
         "59",
         "6436",
         "Woodstock Whirlybirds",
         "False",
         "0",
         "2025-05-13 18:40:59+00:00",
         "Carowinds",
         "United States",
         "North America",
         "35.1045",
         "-80.9394",
         "13th May 2025"
        ],
        [
         "13",
         "2025-05-13 18:41:52.865116+00:00",
         "59",
         "5887",
         "WindSeeker",
         "False",
         "0",
         "2025-05-13 18:40:59+00:00",
         "Carowinds",
         "United States",
         "North America",
         "35.1045",
         "-80.9394",
         "13th May 2025"
        ],
        [
         "14",
         "2025-05-13 18:41:53.000656+00:00",
         "50",
         "4647",
         "Woodstock Express",
         "False",
         "0",
         "2025-05-13 18:40:14+00:00",
         "Cedar Point",
         "United States",
         "North America",
         "41.4822",
         "-82.6835",
         "13th May 2025"
        ],
        [
         "15",
         "2025-05-13 18:41:53.000656+00:00",
         "50",
         "4661",
         "Snoopys Express Railroad",
         "False",
         "0",
         "2025-05-13 18:40:14+00:00",
         "Cedar Point",
         "United States",
         "North America",
         "41.4822",
         "-82.6835",
         "13th May 2025"
        ],
        [
         "16",
         "2025-05-13 18:41:53.000656+00:00",
         "50",
         "12861",
         "Woodstocks Whirlybirds",
         "False",
         "0",
         "2025-05-13 18:40:14+00:00",
         "Cedar Point",
         "United States",
         "North America",
         "41.4822",
         "-82.6835",
         "13th May 2025"
        ],
        [
         "17",
         "2025-05-13 18:41:53.000656+00:00",
         "50",
         "3777",
         "WindSeeker",
         "False",
         "0",
         "2025-05-13 18:40:14+00:00",
         "Cedar Point",
         "United States",
         "North America",
         "41.4822",
         "-82.6835",
         "13th May 2025"
        ],
        [
         "18",
         "2025-05-13 18:41:53.000656+00:00",
         "50",
         "12871",
         "Plunge Slide",
         "False",
         "0",
         "2025-05-13 18:40:14+00:00",
         "Cedar Point",
         "United States",
         "North America",
         "41.4822",
         "-82.6835",
         "13th May 2025"
        ],
        [
         "19",
         "2025-05-13 18:41:53.140688+00:00",
         "69",
         "6664",
         "Wild Mouse",
         "False",
         "0",
         "2025-05-13 18:37:26+00:00",
         "Dorney Park",
         "United States",
         "North America",
         "40.577942",
         "-75.531528",
         "13th May 2025"
        ],
        [
         "20",
         "2025-05-13 18:41:53.140688+00:00",
         "69",
         "7792",
         "Zephyr",
         "False",
         "0",
         "2025-05-13 18:37:26+00:00",
         "Dorney Park",
         "United States",
         "North America",
         "40.577942",
         "-75.531528",
         "13th May 2025"
        ],
        [
         "21",
         "2025-05-13 18:41:53.140688+00:00",
         "69",
         "7780",
         "PS - Woodstocks Wagon Wheel",
         "False",
         "0",
         "2025-05-13 18:37:26+00:00",
         "Dorney Park",
         "United States",
         "North America",
         "40.577942",
         "-75.531528",
         "13th May 2025"
        ],
        [
         "22",
         "2025-05-13 18:41:53.140688+00:00",
         "69",
         "6663",
         "White Water Landing",
         "False",
         "0",
         "2025-05-13 18:37:26+00:00",
         "Dorney Park",
         "United States",
         "North America",
         "40.577942",
         "-75.531528",
         "13th May 2025"
        ],
        [
         "23",
         "2025-05-13 18:41:53.140688+00:00",
         "69",
         "6665",
         "Wildwater River",
         "False",
         "0",
         "2025-05-13 18:37:26+00:00",
         "Dorney Park",
         "United States",
         "North America",
         "40.577942",
         "-75.531528",
         "13th May 2025"
        ],
        [
         "24",
         "2025-05-13 18:41:53.279542+00:00",
         "62",
         "5937",
         "Twisted Timbers",
         "False",
         "0",
         "2025-05-13 18:36:45+00:00",
         "Kings Dominion",
         "United States",
         "North America",
         "37.84",
         "-77.445",
         "13th May 2025"
        ],
        [
         "25",
         "2025-05-13 18:41:53.279542+00:00",
         "62",
         "7740",
         "Woodstock Express",
         "False",
         "0",
         "2025-05-13 18:36:45+00:00",
         "Kings Dominion",
         "United States",
         "North America",
         "37.84",
         "-77.445",
         "13th May 2025"
        ],
        [
         "26",
         "2025-05-13 18:41:53.279542+00:00",
         "62",
         "7777",
         "Woodstock Whirlybirds",
         "False",
         "0",
         "2025-05-13 18:36:45+00:00",
         "Kings Dominion",
         "United States",
         "North America",
         "37.84",
         "-77.445",
         "13th May 2025"
        ],
        [
         "27",
         "2025-05-13 18:41:53.279542+00:00",
         "62",
         "12663",
         "Xtreme SkyFlyer - Delta",
         "False",
         "0",
         "2025-05-13 18:36:45+00:00",
         "Kings Dominion",
         "United States",
         "North America",
         "37.84",
         "-77.445",
         "13th May 2025"
        ],
        [
         "28",
         "2025-05-13 18:41:53.424365+00:00",
         "60",
         "12706",
         "Racer Red",
         "False",
         "0",
         "2025-05-13 18:41:05+00:00",
         "Kings Island",
         "United States",
         "North America",
         "39.3447",
         "-84.2686",
         "13th May 2025"
        ],
        [
         "29",
         "2025-05-13 18:41:53.424365+00:00",
         "60",
         "7603",
         "Zephyr",
         "False",
         "0",
         "2025-05-13 18:36:09+00:00",
         "Kings Island",
         "United States",
         "North America",
         "39.3447",
         "-84.2686",
         "13th May 2025"
        ],
        [
         "30",
         "2025-05-13 18:41:53.424365+00:00",
         "60",
         "7608",
         "Woodstock's Whirlybirds",
         "False",
         "0",
         "2025-05-13 18:36:09+00:00",
         "Kings Island",
         "United States",
         "North America",
         "39.3447",
         "-84.2686",
         "13th May 2025"
        ],
        [
         "31",
         "2025-05-13 18:41:53.424365+00:00",
         "60",
         "7618",
         "WindSeeker",
         "False",
         "0",
         "2025-05-13 18:36:09+00:00",
         "Kings Island",
         "United States",
         "North America",
         "39.3447",
         "-84.2686",
         "13th May 2025"
        ],
        [
         "32",
         "2025-05-13 18:41:53.580181+00:00",
         "61",
         "5918",
         "Xcelerator The Ride",
         "True",
         "20",
         "2025-05-13 18:36:26+00:00",
         "Knott's Berry Farm",
         "United States",
         "North America",
         "33.8442",
         "-117.9986",
         "13th May 2025"
        ],
        [
         "33",
         "2025-05-13 18:41:53.580181+00:00",
         "61",
         "12572",
         "Wipeout",
         "True",
         "0",
         "2025-05-13 18:36:26+00:00",
         "Knott's Berry Farm",
         "United States",
         "North America",
         "33.8442",
         "-117.9986",
         "13th May 2025"
        ],
        [
         "34",
         "2025-05-13 18:41:53.580181+00:00",
         "61",
         "7750",
         "Rapid River Run",
         "True",
         "0",
         "2025-05-13 18:36:26+00:00",
         "Knott's Berry Farm",
         "United States",
         "North America",
         "33.8442",
         "-117.9986",
         "13th May 2025"
        ],
        [
         "35",
         "2025-05-13 18:41:53.580181+00:00",
         "61",
         "5921",
         "Supreme Scream",
         "True",
         "5",
         "2025-05-13 18:36:26+00:00",
         "Knott's Berry Farm",
         "United States",
         "North America",
         "33.8442",
         "-117.9986",
         "13th May 2025"
        ],
        [
         "36",
         "2025-05-13 18:41:53.580181+00:00",
         "61",
         "13615",
         "Wedge",
         "False",
         "0",
         "2025-05-13 18:36:26+00:00",
         "Knott's Berry Farm",
         "United States",
         "North America",
         "33.8442",
         "-117.9986",
         "13th May 2025"
        ],
        [
         "37",
         "2025-05-13 18:41:53.718044+00:00",
         "70",
         "8754",
         "Zach's Zoomer",
         "False",
         "0",
         "2025-05-13 18:37:08+00:00",
         "Michigan's Adventure",
         "United States",
         "North America",
         "43.3474",
         "-86.2789",
         "13th May 2025"
        ],
        [
         "38",
         "2025-05-13 18:41:53.718044+00:00",
         "70",
         "8753",
         "Winky The Whale",
         "False",
         "0",
         "2025-05-13 18:37:08+00:00",
         "Michigan's Adventure",
         "United States",
         "North America",
         "43.3474",
         "-86.2789",
         "13th May 2025"
        ],
        [
         "39",
         "2025-05-13 18:41:53.718044+00:00",
         "70",
         "8742",
         "Motorcycles",
         "False",
         "0",
         "2025-05-13 18:37:08+00:00",
         "Michigan's Adventure",
         "United States",
         "North America",
         "43.3474",
         "-86.2789",
         "13th May 2025"
        ],
        [
         "40",
         "2025-05-13 18:41:53.718044+00:00",
         "70",
         "8743",
         "RipCord",
         "False",
         "0",
         "2025-05-13 18:37:08+00:00",
         "Michigan's Adventure",
         "United States",
         "North America",
         "43.3474",
         "-86.2789",
         "13th May 2025"
        ],
        [
         "41",
         "2025-05-13 18:41:53.718044+00:00",
         "70",
         "13554",
         "Wild Slide/Ridge Rider",
         "False",
         "0",
         "2025-05-13 18:37:08+00:00",
         "Michigan's Adventure",
         "United States",
         "North America",
         "43.3474",
         "-86.2789",
         "13th May 2025"
        ],
        [
         "42",
         "2025-05-13 18:41:53.839341+00:00",
         "68",
         "7879",
         "Wheel of Fortune",
         "False",
         "0",
         "2025-05-13 18:37:37+00:00",
         "Valleyfair",
         "United States",
         "North America",
         "44.798742",
         "-93.453369",
         "13th May 2025"
        ],
        [
         "43",
         "2025-05-13 18:41:53.839341+00:00",
         "68",
         "7877",
         "Woodstock Whirlybirds",
         "False",
         "0",
         "2025-05-13 18:37:37+00:00",
         "Valleyfair",
         "United States",
         "North America",
         "44.798742",
         "-93.453369",
         "13th May 2025"
        ],
        [
         "44",
         "2025-05-13 18:41:53.839341+00:00",
         "68",
         "7218",
         "Undertakers",
         "False",
         "0",
         "2025-05-13 18:37:37+00:00",
         "Valleyfair",
         "United States",
         "North America",
         "44.798742",
         "-93.453369",
         "13th May 2025"
        ],
        [
         "45",
         "2025-05-13 18:41:53.839341+00:00",
         "68",
         "7886",
         "Tilter",
         "False",
         "0",
         "2025-05-13 18:37:37+00:00",
         "Valleyfair",
         "United States",
         "North America",
         "44.798742",
         "-93.453369",
         "13th May 2025"
        ],
        [
         "46",
         "2025-05-13 18:41:53.839341+00:00",
         "68",
         "6580",
         "Xtreme Swing",
         "False",
         "0",
         "2025-05-13 18:37:37+00:00",
         "Valleyfair",
         "United States",
         "North America",
         "44.798742",
         "-93.453369",
         "13th May 2025"
        ],
        [
         "47",
         "2025-05-13 18:41:53.839341+00:00",
         "68",
         "14043",
         "Toxicity",
         "False",
         "0",
         "2025-05-13 18:37:37+00:00",
         "Valleyfair",
         "United States",
         "North America",
         "44.798742",
         "-93.453369",
         "13th May 2025"
        ],
        [
         "48",
         "2025-05-13 18:41:53.839341+00:00",
         "68",
         "7866",
         "Splash Station",
         "False",
         "0",
         "2025-05-10 18:37:35+00:00",
         "Valleyfair",
         "United States",
         "North America",
         "44.798742",
         "-93.453369",
         "10th May 2025"
        ],
        [
         "49",
         "2025-05-13 18:41:53.973227+00:00",
         "63",
         "6556",
         "Worlds of Fun Railroad",
         "False",
         "0",
         "2025-05-13 18:36:55+00:00",
         "Worlds of Fun",
         "United States",
         "North America",
         "39.177333",
         "-94.489028",
         "13th May 2025"
        ]
       ],
       "shape": {
        "columns": 13,
        "rows": 9520
       }
      },
      "text/html": [
       "<div>\n",
       "<style scoped>\n",
       "    .dataframe tbody tr th:only-of-type {\n",
       "        vertical-align: middle;\n",
       "    }\n",
       "\n",
       "    .dataframe tbody tr th {\n",
       "        vertical-align: top;\n",
       "    }\n",
       "\n",
       "    .dataframe thead th {\n",
       "        text-align: right;\n",
       "    }\n",
       "</style>\n",
       "<table border=\"1\" class=\"dataframe\">\n",
       "  <thead>\n",
       "    <tr style=\"text-align: right;\">\n",
       "      <th></th>\n",
       "      <th>timestamp</th>\n",
       "      <th>park_id</th>\n",
       "      <th>ride_id</th>\n",
       "      <th>ride_name</th>\n",
       "      <th>is_open</th>\n",
       "      <th>wait_time</th>\n",
       "      <th>last_updated</th>\n",
       "      <th>park_name</th>\n",
       "      <th>country</th>\n",
       "      <th>continent</th>\n",
       "      <th>latitude</th>\n",
       "      <th>longitude</th>\n",
       "      <th>date</th>\n",
       "    </tr>\n",
       "  </thead>\n",
       "  <tbody>\n",
       "    <tr>\n",
       "      <th>0</th>\n",
       "      <td>2025-05-13 18:41:52.601463+00:00</td>\n",
       "      <td>57</td>\n",
       "      <td>5852</td>\n",
       "      <td>RailBlazer</td>\n",
       "      <td>False</td>\n",
       "      <td>0</td>\n",
       "      <td>2025-05-13 18:40:22+00:00</td>\n",
       "      <td>California's Great America</td>\n",
       "      <td>United States</td>\n",
       "      <td>North America</td>\n",
       "      <td>37.397799</td>\n",
       "      <td>-121.974717</td>\n",
       "      <td>13th May 2025</td>\n",
       "    </tr>\n",
       "    <tr>\n",
       "      <th>1</th>\n",
       "      <td>2025-05-13 18:41:52.601463+00:00</td>\n",
       "      <td>57</td>\n",
       "      <td>7720</td>\n",
       "      <td>Woodstock Express</td>\n",
       "      <td>False</td>\n",
       "      <td>0</td>\n",
       "      <td>2025-05-13 18:40:22+00:00</td>\n",
       "      <td>California's Great America</td>\n",
       "      <td>United States</td>\n",
       "      <td>North America</td>\n",
       "      <td>37.397799</td>\n",
       "      <td>-121.974717</td>\n",
       "      <td>13th May 2025</td>\n",
       "    </tr>\n",
       "    <tr>\n",
       "      <th>2</th>\n",
       "      <td>2025-05-13 18:41:52.601463+00:00</td>\n",
       "      <td>57</td>\n",
       "      <td>7660</td>\n",
       "      <td>The Pumpkin Patch</td>\n",
       "      <td>False</td>\n",
       "      <td>0</td>\n",
       "      <td>2025-05-13 18:40:22+00:00</td>\n",
       "      <td>California's Great America</td>\n",
       "      <td>United States</td>\n",
       "      <td>North America</td>\n",
       "      <td>37.397799</td>\n",
       "      <td>-121.974717</td>\n",
       "      <td>13th May 2025</td>\n",
       "    </tr>\n",
       "    <tr>\n",
       "      <th>3</th>\n",
       "      <td>2025-05-13 18:41:52.601463+00:00</td>\n",
       "      <td>57</td>\n",
       "      <td>7668</td>\n",
       "      <td>Xtreme Skyflyer</td>\n",
       "      <td>False</td>\n",
       "      <td>0</td>\n",
       "      <td>2025-05-13 18:40:22+00:00</td>\n",
       "      <td>California's Great America</td>\n",
       "      <td>United States</td>\n",
       "      <td>North America</td>\n",
       "      <td>37.397799</td>\n",
       "      <td>-121.974717</td>\n",
       "      <td>13th May 2025</td>\n",
       "    </tr>\n",
       "    <tr>\n",
       "      <th>4</th>\n",
       "      <td>2025-05-13 18:41:52.601463+00:00</td>\n",
       "      <td>57</td>\n",
       "      <td>13057</td>\n",
       "      <td>Tide Pool Slides</td>\n",
       "      <td>False</td>\n",
       "      <td>0</td>\n",
       "      <td>2025-05-13 18:40:22+00:00</td>\n",
       "      <td>California's Great America</td>\n",
       "      <td>United States</td>\n",
       "      <td>North America</td>\n",
       "      <td>37.397799</td>\n",
       "      <td>-121.974717</td>\n",
       "      <td>13th May 2025</td>\n",
       "    </tr>\n",
       "    <tr>\n",
       "      <th>...</th>\n",
       "      <td>...</td>\n",
       "      <td>...</td>\n",
       "      <td>...</td>\n",
       "      <td>...</td>\n",
       "      <td>...</td>\n",
       "      <td>...</td>\n",
       "      <td>...</td>\n",
       "      <td>...</td>\n",
       "      <td>...</td>\n",
       "      <td>...</td>\n",
       "      <td>...</td>\n",
       "      <td>...</td>\n",
       "      <td>...</td>\n",
       "    </tr>\n",
       "    <tr>\n",
       "      <th>9515</th>\n",
       "      <td>2025-05-14 12:12:39.894646+00:00</td>\n",
       "      <td>274</td>\n",
       "      <td>7991</td>\n",
       "      <td>Westernland Shootin' Gallery</td>\n",
       "      <td>False</td>\n",
       "      <td>0</td>\n",
       "      <td>2025-05-14 12:07:54+00:00</td>\n",
       "      <td>Tokyo Disneyland</td>\n",
       "      <td>Japan</td>\n",
       "      <td>Asia</td>\n",
       "      <td>35.634848</td>\n",
       "      <td>139.879295</td>\n",
       "      <td>14th May 2025</td>\n",
       "    </tr>\n",
       "    <tr>\n",
       "      <th>9516</th>\n",
       "      <td>2025-05-14 12:12:40.026123+00:00</td>\n",
       "      <td>275</td>\n",
       "      <td>8034</td>\n",
       "      <td>Venetian Gondolas</td>\n",
       "      <td>False</td>\n",
       "      <td>0</td>\n",
       "      <td>2025-05-14 12:08:09+00:00</td>\n",
       "      <td>Tokyo DisneySea</td>\n",
       "      <td>Japan</td>\n",
       "      <td>Asia</td>\n",
       "      <td>35.627055</td>\n",
       "      <td>139.889097</td>\n",
       "      <td>14th May 2025</td>\n",
       "    </tr>\n",
       "    <tr>\n",
       "      <th>9517</th>\n",
       "      <td>2025-05-14 12:12:40.172345+00:00</td>\n",
       "      <td>28</td>\n",
       "      <td>10846</td>\n",
       "      <td>Spider-Man W.E.B. Adventure Single Rider</td>\n",
       "      <td>True</td>\n",
       "      <td>5</td>\n",
       "      <td>2025-05-14 12:10:04+00:00</td>\n",
       "      <td>Walt Disney Studios Paris</td>\n",
       "      <td>France</td>\n",
       "      <td>Europe</td>\n",
       "      <td>48.8673</td>\n",
       "      <td>2.779008</td>\n",
       "      <td>14th May 2025</td>\n",
       "    </tr>\n",
       "    <tr>\n",
       "      <th>9518</th>\n",
       "      <td>2025-05-14 12:12:40.172345+00:00</td>\n",
       "      <td>28</td>\n",
       "      <td>40</td>\n",
       "      <td>The Twilight Zone Tower of Terror</td>\n",
       "      <td>True</td>\n",
       "      <td>30</td>\n",
       "      <td>2025-05-14 12:10:04+00:00</td>\n",
       "      <td>Walt Disney Studios Paris</td>\n",
       "      <td>France</td>\n",
       "      <td>Europe</td>\n",
       "      <td>48.8673</td>\n",
       "      <td>2.779008</td>\n",
       "      <td>14th May 2025</td>\n",
       "    </tr>\n",
       "    <tr>\n",
       "      <th>9519</th>\n",
       "      <td>2025-05-14 12:12:40.172345+00:00</td>\n",
       "      <td>28</td>\n",
       "      <td>7281</td>\n",
       "      <td>Toy Soldiers Parachute Drop Single Rider</td>\n",
       "      <td>True</td>\n",
       "      <td>15</td>\n",
       "      <td>2025-05-14 12:10:04+00:00</td>\n",
       "      <td>Walt Disney Studios Paris</td>\n",
       "      <td>France</td>\n",
       "      <td>Europe</td>\n",
       "      <td>48.8673</td>\n",
       "      <td>2.779008</td>\n",
       "      <td>14th May 2025</td>\n",
       "    </tr>\n",
       "  </tbody>\n",
       "</table>\n",
       "<p>9520 rows × 13 columns</p>\n",
       "</div>"
      ],
      "text/plain": [
       "                            timestamp  park_id  ride_id  \\\n",
       "0    2025-05-13 18:41:52.601463+00:00       57     5852   \n",
       "1    2025-05-13 18:41:52.601463+00:00       57     7720   \n",
       "2    2025-05-13 18:41:52.601463+00:00       57     7660   \n",
       "3    2025-05-13 18:41:52.601463+00:00       57     7668   \n",
       "4    2025-05-13 18:41:52.601463+00:00       57    13057   \n",
       "...                               ...      ...      ...   \n",
       "9515 2025-05-14 12:12:39.894646+00:00      274     7991   \n",
       "9516 2025-05-14 12:12:40.026123+00:00      275     8034   \n",
       "9517 2025-05-14 12:12:40.172345+00:00       28    10846   \n",
       "9518 2025-05-14 12:12:40.172345+00:00       28       40   \n",
       "9519 2025-05-14 12:12:40.172345+00:00       28     7281   \n",
       "\n",
       "                                     ride_name  is_open  wait_time  \\\n",
       "0                                   RailBlazer    False          0   \n",
       "1                            Woodstock Express    False          0   \n",
       "2                            The Pumpkin Patch    False          0   \n",
       "3                              Xtreme Skyflyer    False          0   \n",
       "4                             Tide Pool Slides    False          0   \n",
       "...                                        ...      ...        ...   \n",
       "9515              Westernland Shootin' Gallery    False          0   \n",
       "9516                         Venetian Gondolas    False          0   \n",
       "9517  Spider-Man W.E.B. Adventure Single Rider     True          5   \n",
       "9518         The Twilight Zone Tower of Terror     True         30   \n",
       "9519  Toy Soldiers Parachute Drop Single Rider     True         15   \n",
       "\n",
       "                  last_updated                   park_name        country  \\\n",
       "0    2025-05-13 18:40:22+00:00  California's Great America  United States   \n",
       "1    2025-05-13 18:40:22+00:00  California's Great America  United States   \n",
       "2    2025-05-13 18:40:22+00:00  California's Great America  United States   \n",
       "3    2025-05-13 18:40:22+00:00  California's Great America  United States   \n",
       "4    2025-05-13 18:40:22+00:00  California's Great America  United States   \n",
       "...                        ...                         ...            ...   \n",
       "9515 2025-05-14 12:07:54+00:00            Tokyo Disneyland          Japan   \n",
       "9516 2025-05-14 12:08:09+00:00             Tokyo DisneySea          Japan   \n",
       "9517 2025-05-14 12:10:04+00:00   Walt Disney Studios Paris         France   \n",
       "9518 2025-05-14 12:10:04+00:00   Walt Disney Studios Paris         France   \n",
       "9519 2025-05-14 12:10:04+00:00   Walt Disney Studios Paris         France   \n",
       "\n",
       "          continent   latitude    longitude           date  \n",
       "0     North America  37.397799  -121.974717  13th May 2025  \n",
       "1     North America  37.397799  -121.974717  13th May 2025  \n",
       "2     North America  37.397799  -121.974717  13th May 2025  \n",
       "3     North America  37.397799  -121.974717  13th May 2025  \n",
       "4     North America  37.397799  -121.974717  13th May 2025  \n",
       "...             ...        ...          ...            ...  \n",
       "9515           Asia  35.634848   139.879295  14th May 2025  \n",
       "9516           Asia  35.627055   139.889097  14th May 2025  \n",
       "9517         Europe    48.8673     2.779008  14th May 2025  \n",
       "9518         Europe    48.8673     2.779008  14th May 2025  \n",
       "9519         Europe    48.8673     2.779008  14th May 2025  \n",
       "\n",
       "[9520 rows x 13 columns]"
      ]
     },
     "execution_count": 243,
     "metadata": {},
     "output_type": "execute_result"
    }
   ],
   "source": [
    "full_df['last_updated'] = pd.to_datetime(full_df['last_updated'], errors='coerce')\n",
    "def format_date(dt):\n",
    "    day = dt.day\n",
    "    if 11 <= day <= 13:\n",
    "        suffix = 'th'\n",
    "    else:\n",
    "        suffix = {1: 'st', 2: 'nd', 3: 'rd'}.get(day % 10, 'th')\n",
    "    return f\"{day}{suffix} {dt.strftime('%B %Y')}\"\n",
    "\n",
    "# Apply formatting\n",
    "full_df['date'] = full_df['last_updated'].apply(format_date)\n",
    "full_df"
   ]
  },
  {
   "cell_type": "code",
   "execution_count": null,
   "id": "2803f20d",
   "metadata": {},
   "outputs": [
    {
     "data": {
      "application/vnd.microsoft.datawrangler.viewer.v0+json": {
       "columns": [
        {
         "name": "index",
         "rawType": "int64",
         "type": "integer"
        },
        {
         "name": "continent",
         "rawType": "object",
         "type": "string"
        },
        {
         "name": "ride_id",
         "rawType": "int64",
         "type": "integer"
        },
        {
         "name": "ride_name",
         "rawType": "object",
         "type": "string"
        },
        {
         "name": "wait_time",
         "rawType": "int64",
         "type": "integer"
        },
        {
         "name": "name",
         "rawType": "object",
         "type": "string"
        }
       ],
       "conversionMethod": "pd.DataFrame",
       "ref": "ffeb5aea-af26-4cdf-8d34-f0ea5e4491c5",
       "rows": [
        [
         "0",
         "North America",
         "5852",
         "RailBlazer",
         "0",
         "California's Great America"
        ],
        [
         "1",
         "North America",
         "7720",
         "Woodstock Express",
         "0",
         "California's Great America"
        ],
        [
         "2",
         "North America",
         "7660",
         "The Pumpkin Patch",
         "0",
         "California's Great America"
        ],
        [
         "3",
         "North America",
         "7668",
         "Xtreme Skyflyer",
         "0",
         "California's Great America"
        ],
        [
         "4",
         "North America",
         "13057",
         "Tide Pool Slides",
         "0",
         "California's Great America"
        ],
        [
         "5",
         "North America",
         "6649",
         "Yukon Striker",
         "0",
         "Canada's Wonderland"
        ],
        [
         "6",
         "North America",
         "7645",
         "White Water Canyon",
         "0",
         "Canada's Wonderland"
        ],
        [
         "7",
         "North America",
         "7664",
         "Woodstock Whirlybirds",
         "0",
         "Canada's Wonderland"
        ],
        [
         "8",
         "North America",
         "5870",
         "WindSeeker",
         "0",
         "Canada's Wonderland"
        ],
        [
         "9",
         "North America",
         "7672",
         "White Water Bay",
         "0",
         "Canada's Wonderland"
        ],
        [
         "10",
         "North America",
         "5886",
         "Vortex",
         "0",
         "Carowinds"
        ],
        [
         "11",
         "North America",
         "5891",
         "Zephyr",
         "0",
         "Carowinds"
        ],
        [
         "12",
         "North America",
         "6436",
         "Woodstock Whirlybirds",
         "0",
         "Carowinds"
        ],
        [
         "13",
         "North America",
         "5887",
         "WindSeeker",
         "0",
         "Carowinds"
        ],
        [
         "14",
         "North America",
         "4647",
         "Woodstock Express",
         "0",
         "Cedar Point"
        ],
        [
         "15",
         "North America",
         "4661",
         "Snoopys Express Railroad",
         "0",
         "Cedar Point"
        ],
        [
         "16",
         "North America",
         "12861",
         "Woodstocks Whirlybirds",
         "0",
         "Cedar Point"
        ],
        [
         "17",
         "North America",
         "3777",
         "WindSeeker",
         "0",
         "Cedar Point"
        ],
        [
         "18",
         "North America",
         "12871",
         "Plunge Slide",
         "0",
         "Cedar Point"
        ],
        [
         "19",
         "North America",
         "6664",
         "Wild Mouse",
         "0",
         "Dorney Park"
        ],
        [
         "20",
         "North America",
         "7792",
         "Zephyr",
         "0",
         "Dorney Park"
        ],
        [
         "21",
         "North America",
         "7780",
         "PS - Woodstocks Wagon Wheel",
         "0",
         "Dorney Park"
        ],
        [
         "22",
         "North America",
         "6663",
         "White Water Landing",
         "0",
         "Dorney Park"
        ],
        [
         "23",
         "North America",
         "6665",
         "Wildwater River",
         "0",
         "Dorney Park"
        ],
        [
         "24",
         "North America",
         "5937",
         "Twisted Timbers",
         "0",
         "Kings Dominion"
        ],
        [
         "25",
         "North America",
         "7740",
         "Woodstock Express",
         "0",
         "Kings Dominion"
        ],
        [
         "26",
         "North America",
         "7777",
         "Woodstock Whirlybirds",
         "0",
         "Kings Dominion"
        ],
        [
         "27",
         "North America",
         "12663",
         "Xtreme SkyFlyer - Delta",
         "0",
         "Kings Dominion"
        ],
        [
         "28",
         "North America",
         "12706",
         "Racer Red",
         "0",
         "Kings Island"
        ],
        [
         "29",
         "North America",
         "7603",
         "Zephyr",
         "0",
         "Kings Island"
        ],
        [
         "30",
         "North America",
         "7608",
         "Woodstock's Whirlybirds",
         "0",
         "Kings Island"
        ],
        [
         "31",
         "North America",
         "7618",
         "WindSeeker",
         "0",
         "Kings Island"
        ],
        [
         "32",
         "North America",
         "5918",
         "Xcelerator The Ride",
         "20",
         "Knott's Berry Farm"
        ],
        [
         "33",
         "North America",
         "12572",
         "Wipeout",
         "0",
         "Knott's Berry Farm"
        ],
        [
         "34",
         "North America",
         "7750",
         "Rapid River Run",
         "0",
         "Knott's Berry Farm"
        ],
        [
         "35",
         "North America",
         "5921",
         "Supreme Scream",
         "5",
         "Knott's Berry Farm"
        ],
        [
         "36",
         "North America",
         "13615",
         "Wedge",
         "0",
         "Knott's Berry Farm"
        ],
        [
         "37",
         "North America",
         "8754",
         "Zach's Zoomer",
         "0",
         "Michigan's Adventure"
        ],
        [
         "38",
         "North America",
         "8753",
         "Winky The Whale",
         "0",
         "Michigan's Adventure"
        ],
        [
         "39",
         "North America",
         "8742",
         "Motorcycles",
         "0",
         "Michigan's Adventure"
        ],
        [
         "40",
         "North America",
         "8743",
         "RipCord",
         "0",
         "Michigan's Adventure"
        ],
        [
         "41",
         "North America",
         "13554",
         "Wild Slide/Ridge Rider",
         "0",
         "Michigan's Adventure"
        ],
        [
         "42",
         "North America",
         "7879",
         "Wheel of Fortune",
         "0",
         "Valleyfair"
        ],
        [
         "43",
         "North America",
         "7877",
         "Woodstock Whirlybirds",
         "0",
         "Valleyfair"
        ],
        [
         "44",
         "North America",
         "7218",
         "Undertakers",
         "0",
         "Valleyfair"
        ],
        [
         "45",
         "North America",
         "7886",
         "Tilter",
         "0",
         "Valleyfair"
        ],
        [
         "46",
         "North America",
         "6580",
         "Xtreme Swing",
         "0",
         "Valleyfair"
        ],
        [
         "47",
         "North America",
         "14043",
         "Toxicity",
         "0",
         "Valleyfair"
        ],
        [
         "48",
         "North America",
         "7866",
         "Splash Station",
         "0",
         "Valleyfair"
        ],
        [
         "49",
         "North America",
         "6556",
         "Worlds of Fun Railroad",
         "0",
         "Worlds of Fun"
        ]
       ],
       "shape": {
        "columns": 5,
        "rows": 9520
       }
      },
      "text/html": [
       "<div>\n",
       "<style scoped>\n",
       "    .dataframe tbody tr th:only-of-type {\n",
       "        vertical-align: middle;\n",
       "    }\n",
       "\n",
       "    .dataframe tbody tr th {\n",
       "        vertical-align: top;\n",
       "    }\n",
       "\n",
       "    .dataframe thead th {\n",
       "        text-align: right;\n",
       "    }\n",
       "</style>\n",
       "<table border=\"1\" class=\"dataframe\">\n",
       "  <thead>\n",
       "    <tr style=\"text-align: right;\">\n",
       "      <th></th>\n",
       "      <th>continent</th>\n",
       "      <th>ride_id</th>\n",
       "      <th>ride_name</th>\n",
       "      <th>wait_time</th>\n",
       "      <th>name</th>\n",
       "    </tr>\n",
       "  </thead>\n",
       "  <tbody>\n",
       "    <tr>\n",
       "      <th>0</th>\n",
       "      <td>North America</td>\n",
       "      <td>5852</td>\n",
       "      <td>RailBlazer</td>\n",
       "      <td>0</td>\n",
       "      <td>California's Great America</td>\n",
       "    </tr>\n",
       "    <tr>\n",
       "      <th>1</th>\n",
       "      <td>North America</td>\n",
       "      <td>7720</td>\n",
       "      <td>Woodstock Express</td>\n",
       "      <td>0</td>\n",
       "      <td>California's Great America</td>\n",
       "    </tr>\n",
       "    <tr>\n",
       "      <th>2</th>\n",
       "      <td>North America</td>\n",
       "      <td>7660</td>\n",
       "      <td>The Pumpkin Patch</td>\n",
       "      <td>0</td>\n",
       "      <td>California's Great America</td>\n",
       "    </tr>\n",
       "    <tr>\n",
       "      <th>3</th>\n",
       "      <td>North America</td>\n",
       "      <td>7668</td>\n",
       "      <td>Xtreme Skyflyer</td>\n",
       "      <td>0</td>\n",
       "      <td>California's Great America</td>\n",
       "    </tr>\n",
       "    <tr>\n",
       "      <th>4</th>\n",
       "      <td>North America</td>\n",
       "      <td>13057</td>\n",
       "      <td>Tide Pool Slides</td>\n",
       "      <td>0</td>\n",
       "      <td>California's Great America</td>\n",
       "    </tr>\n",
       "    <tr>\n",
       "      <th>...</th>\n",
       "      <td>...</td>\n",
       "      <td>...</td>\n",
       "      <td>...</td>\n",
       "      <td>...</td>\n",
       "      <td>...</td>\n",
       "    </tr>\n",
       "    <tr>\n",
       "      <th>9515</th>\n",
       "      <td>Asia</td>\n",
       "      <td>7991</td>\n",
       "      <td>Westernland Shootin' Gallery</td>\n",
       "      <td>0</td>\n",
       "      <td>Tokyo Disneyland</td>\n",
       "    </tr>\n",
       "    <tr>\n",
       "      <th>9516</th>\n",
       "      <td>Asia</td>\n",
       "      <td>8034</td>\n",
       "      <td>Venetian Gondolas</td>\n",
       "      <td>0</td>\n",
       "      <td>Tokyo DisneySea</td>\n",
       "    </tr>\n",
       "    <tr>\n",
       "      <th>9517</th>\n",
       "      <td>Europe</td>\n",
       "      <td>10846</td>\n",
       "      <td>Spider-Man W.E.B. Adventure Single Rider</td>\n",
       "      <td>5</td>\n",
       "      <td>Walt Disney Studios Paris</td>\n",
       "    </tr>\n",
       "    <tr>\n",
       "      <th>9518</th>\n",
       "      <td>Europe</td>\n",
       "      <td>40</td>\n",
       "      <td>The Twilight Zone Tower of Terror</td>\n",
       "      <td>30</td>\n",
       "      <td>Walt Disney Studios Paris</td>\n",
       "    </tr>\n",
       "    <tr>\n",
       "      <th>9519</th>\n",
       "      <td>Europe</td>\n",
       "      <td>7281</td>\n",
       "      <td>Toy Soldiers Parachute Drop Single Rider</td>\n",
       "      <td>15</td>\n",
       "      <td>Walt Disney Studios Paris</td>\n",
       "    </tr>\n",
       "  </tbody>\n",
       "</table>\n",
       "<p>9520 rows × 5 columns</p>\n",
       "</div>"
      ],
      "text/plain": [
       "          continent  ride_id                                 ride_name  \\\n",
       "0     North America     5852                                RailBlazer   \n",
       "1     North America     7720                         Woodstock Express   \n",
       "2     North America     7660                         The Pumpkin Patch   \n",
       "3     North America     7668                           Xtreme Skyflyer   \n",
       "4     North America    13057                          Tide Pool Slides   \n",
       "...             ...      ...                                       ...   \n",
       "9515           Asia     7991              Westernland Shootin' Gallery   \n",
       "9516           Asia     8034                         Venetian Gondolas   \n",
       "9517         Europe    10846  Spider-Man W.E.B. Adventure Single Rider   \n",
       "9518         Europe       40         The Twilight Zone Tower of Terror   \n",
       "9519         Europe     7281  Toy Soldiers Parachute Drop Single Rider   \n",
       "\n",
       "      wait_time                        name  \n",
       "0             0  California's Great America  \n",
       "1             0  California's Great America  \n",
       "2             0  California's Great America  \n",
       "3             0  California's Great America  \n",
       "4             0  California's Great America  \n",
       "...         ...                         ...  \n",
       "9515          0            Tokyo Disneyland  \n",
       "9516          0             Tokyo DisneySea  \n",
       "9517          5   Walt Disney Studios Paris  \n",
       "9518         30   Walt Disney Studios Paris  \n",
       "9519         15   Walt Disney Studios Paris  \n",
       "\n",
       "[9520 rows x 5 columns]"
      ]
     },
     "execution_count": 170,
     "metadata": {},
     "output_type": "execute_result"
    }
   ],
   "source": [
    "\n",
    "wait_time_df = full_df.filter(['continent', 'ride_id', 'ride_name', 'wait_time', 'name'])\n",
    "wait_time_df "
   ]
  },
  {
   "cell_type": "code",
   "execution_count": 245,
   "id": "1a2cf16d",
   "metadata": {},
   "outputs": [
    {
     "data": {
      "application/vnd.microsoft.datawrangler.viewer.v0+json": {
       "columns": [
        {
         "name": "continent",
         "rawType": "object",
         "type": "string"
        },
        {
         "name": "ride_name",
         "rawType": "object",
         "type": "string"
        },
        {
         "name": "wait_time",
         "rawType": "int64",
         "type": "integer"
        },
        {
         "name": "park_name",
         "rawType": "object",
         "type": "string"
        },
        {
         "name": "country",
         "rawType": "object",
         "type": "string"
        },
        {
         "name": "date",
         "rawType": "object",
         "type": "string"
        }
       ],
       "conversionMethod": "pd.DataFrame",
       "ref": "ac6ed73c-b998-4cea-93c6-27d4e007cc49",
       "rows": [
        [
         "Asia",
         "Zootopia: Hot Pursuit",
         "80",
         "Shanghai Disney Resort",
         "China",
         "14th May 2025"
        ],
        [
         "Europe",
         "Princess Pavilion",
         "170",
         "Disneyland Park Paris",
         "France",
         "14th May 2025"
        ],
        [
         "North America",
         "Star Wars: Rise of the Resistance",
         "85",
         "Disneyland",
         "United States",
         "13th May 2025"
        ],
        [
         "South America",
         "Xícaras Malucas",
         "15",
         "Beto Carrero World",
         "Brazil",
         "13th May 2025"
        ]
       ],
       "shape": {
        "columns": 5,
        "rows": 4
       }
      },
      "text/html": [
       "<div>\n",
       "<style scoped>\n",
       "    .dataframe tbody tr th:only-of-type {\n",
       "        vertical-align: middle;\n",
       "    }\n",
       "\n",
       "    .dataframe tbody tr th {\n",
       "        vertical-align: top;\n",
       "    }\n",
       "\n",
       "    .dataframe thead th {\n",
       "        text-align: right;\n",
       "    }\n",
       "</style>\n",
       "<table border=\"1\" class=\"dataframe\">\n",
       "  <thead>\n",
       "    <tr style=\"text-align: right;\">\n",
       "      <th></th>\n",
       "      <th>ride_name</th>\n",
       "      <th>wait_time</th>\n",
       "      <th>park_name</th>\n",
       "      <th>country</th>\n",
       "      <th>date</th>\n",
       "    </tr>\n",
       "    <tr>\n",
       "      <th>continent</th>\n",
       "      <th></th>\n",
       "      <th></th>\n",
       "      <th></th>\n",
       "      <th></th>\n",
       "      <th></th>\n",
       "    </tr>\n",
       "  </thead>\n",
       "  <tbody>\n",
       "    <tr>\n",
       "      <th>Asia</th>\n",
       "      <td>Zootopia: Hot Pursuit</td>\n",
       "      <td>80</td>\n",
       "      <td>Shanghai Disney Resort</td>\n",
       "      <td>China</td>\n",
       "      <td>14th May 2025</td>\n",
       "    </tr>\n",
       "    <tr>\n",
       "      <th>Europe</th>\n",
       "      <td>Princess Pavilion</td>\n",
       "      <td>170</td>\n",
       "      <td>Disneyland Park Paris</td>\n",
       "      <td>France</td>\n",
       "      <td>14th May 2025</td>\n",
       "    </tr>\n",
       "    <tr>\n",
       "      <th>North America</th>\n",
       "      <td>Star Wars: Rise of the Resistance</td>\n",
       "      <td>85</td>\n",
       "      <td>Disneyland</td>\n",
       "      <td>United States</td>\n",
       "      <td>13th May 2025</td>\n",
       "    </tr>\n",
       "    <tr>\n",
       "      <th>South America</th>\n",
       "      <td>Xícaras Malucas</td>\n",
       "      <td>15</td>\n",
       "      <td>Beto Carrero World</td>\n",
       "      <td>Brazil</td>\n",
       "      <td>13th May 2025</td>\n",
       "    </tr>\n",
       "  </tbody>\n",
       "</table>\n",
       "</div>"
      ],
      "text/plain": [
       "                                       ride_name  wait_time  \\\n",
       "continent                                                     \n",
       "Asia                       Zootopia: Hot Pursuit         80   \n",
       "Europe                         Princess Pavilion        170   \n",
       "North America  Star Wars: Rise of the Resistance         85   \n",
       "South America                    Xícaras Malucas         15   \n",
       "\n",
       "                            park_name        country           date  \n",
       "continent                                                            \n",
       "Asia           Shanghai Disney Resort          China  14th May 2025  \n",
       "Europe          Disneyland Park Paris         France  14th May 2025  \n",
       "North America              Disneyland  United States  13th May 2025  \n",
       "South America      Beto Carrero World         Brazil  13th May 2025  "
      ]
     },
     "execution_count": 245,
     "metadata": {},
     "output_type": "execute_result"
    }
   ],
   "source": [
    "# Find the row with the maximum wait time for each continent\n",
    "max_wait_time_per_continent = full_df.loc[\n",
    "    full_df.groupby(\"continent\")[\"wait_time\"].idxmax()\n",
    "]\n",
    "max_wait_time_per_continent = max_wait_time_per_continent.drop(columns=['ride_id', 'latitude', 'longitude', 'park_id', 'timestamp', 'is_open', 'last_updated'])\n",
    "max_wait_time_per_continent = max_wait_time_per_continent.set_index('continent')\n",
    "max_wait_time_per_continent\n"
   ]
  },
  {
   "cell_type": "code",
   "execution_count": 246,
   "id": "5dfbc429",
   "metadata": {},
   "outputs": [],
   "source": [
    "# Display the result\n",
    "max_wait_time_per_continent.to_csv('max_wait_time_per_continent.csv', index=True)"
   ]
  },
  {
   "cell_type": "code",
   "execution_count": 252,
   "id": "464fff56",
   "metadata": {},
   "outputs": [
    {
     "ename": "KeyError",
     "evalue": "'continent'",
     "output_type": "error",
     "traceback": [
      "\u001b[31m---------------------------------------------------------------------------\u001b[39m",
      "\u001b[31mKeyError\u001b[39m                                  Traceback (most recent call last)",
      "\u001b[36mCell\u001b[39m\u001b[36m \u001b[39m\u001b[32mIn[252]\u001b[39m\u001b[32m, line 1\u001b[39m\n\u001b[32m----> \u001b[39m\u001b[32m1\u001b[39m avg_wait_time_df = \u001b[43mwait_time_df\u001b[49m\u001b[43m.\u001b[49m\u001b[43mgroupby\u001b[49m\u001b[43m(\u001b[49m\u001b[43m[\u001b[49m\u001b[33;43m'\u001b[39;49m\u001b[33;43mcontinent\u001b[39;49m\u001b[33;43m'\u001b[39;49m\u001b[43m,\u001b[49m\u001b[43m \u001b[49m\u001b[33;43m'\u001b[39;49m\u001b[33;43mride_id\u001b[39;49m\u001b[33;43m'\u001b[39;49m\u001b[43m,\u001b[49m\u001b[43m \u001b[49m\u001b[33;43m'\u001b[39;49m\u001b[33;43mride_name\u001b[39;49m\u001b[33;43m'\u001b[39;49m\u001b[43m,\u001b[49m\u001b[43m \u001b[49m\u001b[33;43m'\u001b[39;49m\u001b[33;43mname\u001b[39;49m\u001b[33;43m'\u001b[39;49m\u001b[43m]\u001b[49m\u001b[43m,\u001b[49m\u001b[43m \u001b[49m\u001b[43mas_index\u001b[49m\u001b[43m=\u001b[49m\u001b[38;5;28;43;01mFalse\u001b[39;49;00m\u001b[43m)\u001b[49m.agg(\n\u001b[32m      2\u001b[39m     avg_wait_time=(\u001b[33m'\u001b[39m\u001b[33mwait_time\u001b[39m\u001b[33m'\u001b[39m, \u001b[33m'\u001b[39m\u001b[33mmean\u001b[39m\u001b[33m'\u001b[39m)\n\u001b[32m      3\u001b[39m )\n\u001b[32m      4\u001b[39m avg_wait_time_df\n",
      "\u001b[36mFile \u001b[39m\u001b[32m~/Development/etl_bs/etl-project-demo2/.venv/lib/python3.13/site-packages/pandas/core/frame.py:9183\u001b[39m, in \u001b[36mDataFrame.groupby\u001b[39m\u001b[34m(self, by, axis, level, as_index, sort, group_keys, observed, dropna)\u001b[39m\n\u001b[32m   9180\u001b[39m \u001b[38;5;28;01mif\u001b[39;00m level \u001b[38;5;129;01mis\u001b[39;00m \u001b[38;5;28;01mNone\u001b[39;00m \u001b[38;5;129;01mand\u001b[39;00m by \u001b[38;5;129;01mis\u001b[39;00m \u001b[38;5;28;01mNone\u001b[39;00m:\n\u001b[32m   9181\u001b[39m     \u001b[38;5;28;01mraise\u001b[39;00m \u001b[38;5;167;01mTypeError\u001b[39;00m(\u001b[33m\"\u001b[39m\u001b[33mYou have to supply one of \u001b[39m\u001b[33m'\u001b[39m\u001b[33mby\u001b[39m\u001b[33m'\u001b[39m\u001b[33m and \u001b[39m\u001b[33m'\u001b[39m\u001b[33mlevel\u001b[39m\u001b[33m'\u001b[39m\u001b[33m\"\u001b[39m)\n\u001b[32m-> \u001b[39m\u001b[32m9183\u001b[39m \u001b[38;5;28;01mreturn\u001b[39;00m \u001b[43mDataFrameGroupBy\u001b[49m\u001b[43m(\u001b[49m\n\u001b[32m   9184\u001b[39m \u001b[43m    \u001b[49m\u001b[43mobj\u001b[49m\u001b[43m=\u001b[49m\u001b[38;5;28;43mself\u001b[39;49m\u001b[43m,\u001b[49m\n\u001b[32m   9185\u001b[39m \u001b[43m    \u001b[49m\u001b[43mkeys\u001b[49m\u001b[43m=\u001b[49m\u001b[43mby\u001b[49m\u001b[43m,\u001b[49m\n\u001b[32m   9186\u001b[39m \u001b[43m    \u001b[49m\u001b[43maxis\u001b[49m\u001b[43m=\u001b[49m\u001b[43maxis\u001b[49m\u001b[43m,\u001b[49m\n\u001b[32m   9187\u001b[39m \u001b[43m    \u001b[49m\u001b[43mlevel\u001b[49m\u001b[43m=\u001b[49m\u001b[43mlevel\u001b[49m\u001b[43m,\u001b[49m\n\u001b[32m   9188\u001b[39m \u001b[43m    \u001b[49m\u001b[43mas_index\u001b[49m\u001b[43m=\u001b[49m\u001b[43mas_index\u001b[49m\u001b[43m,\u001b[49m\n\u001b[32m   9189\u001b[39m \u001b[43m    \u001b[49m\u001b[43msort\u001b[49m\u001b[43m=\u001b[49m\u001b[43msort\u001b[49m\u001b[43m,\u001b[49m\n\u001b[32m   9190\u001b[39m \u001b[43m    \u001b[49m\u001b[43mgroup_keys\u001b[49m\u001b[43m=\u001b[49m\u001b[43mgroup_keys\u001b[49m\u001b[43m,\u001b[49m\n\u001b[32m   9191\u001b[39m \u001b[43m    \u001b[49m\u001b[43mobserved\u001b[49m\u001b[43m=\u001b[49m\u001b[43mobserved\u001b[49m\u001b[43m,\u001b[49m\n\u001b[32m   9192\u001b[39m \u001b[43m    \u001b[49m\u001b[43mdropna\u001b[49m\u001b[43m=\u001b[49m\u001b[43mdropna\u001b[49m\u001b[43m,\u001b[49m\n\u001b[32m   9193\u001b[39m \u001b[43m\u001b[49m\u001b[43m)\u001b[49m\n",
      "\u001b[36mFile \u001b[39m\u001b[32m~/Development/etl_bs/etl-project-demo2/.venv/lib/python3.13/site-packages/pandas/core/groupby/groupby.py:1329\u001b[39m, in \u001b[36mGroupBy.__init__\u001b[39m\u001b[34m(self, obj, keys, axis, level, grouper, exclusions, selection, as_index, sort, group_keys, observed, dropna)\u001b[39m\n\u001b[32m   1326\u001b[39m \u001b[38;5;28mself\u001b[39m.dropna = dropna\n\u001b[32m   1328\u001b[39m \u001b[38;5;28;01mif\u001b[39;00m grouper \u001b[38;5;129;01mis\u001b[39;00m \u001b[38;5;28;01mNone\u001b[39;00m:\n\u001b[32m-> \u001b[39m\u001b[32m1329\u001b[39m     grouper, exclusions, obj = \u001b[43mget_grouper\u001b[49m\u001b[43m(\u001b[49m\n\u001b[32m   1330\u001b[39m \u001b[43m        \u001b[49m\u001b[43mobj\u001b[49m\u001b[43m,\u001b[49m\n\u001b[32m   1331\u001b[39m \u001b[43m        \u001b[49m\u001b[43mkeys\u001b[49m\u001b[43m,\u001b[49m\n\u001b[32m   1332\u001b[39m \u001b[43m        \u001b[49m\u001b[43maxis\u001b[49m\u001b[43m=\u001b[49m\u001b[43maxis\u001b[49m\u001b[43m,\u001b[49m\n\u001b[32m   1333\u001b[39m \u001b[43m        \u001b[49m\u001b[43mlevel\u001b[49m\u001b[43m=\u001b[49m\u001b[43mlevel\u001b[49m\u001b[43m,\u001b[49m\n\u001b[32m   1334\u001b[39m \u001b[43m        \u001b[49m\u001b[43msort\u001b[49m\u001b[43m=\u001b[49m\u001b[43msort\u001b[49m\u001b[43m,\u001b[49m\n\u001b[32m   1335\u001b[39m \u001b[43m        \u001b[49m\u001b[43mobserved\u001b[49m\u001b[43m=\u001b[49m\u001b[38;5;28;43;01mFalse\u001b[39;49;00m\u001b[43m \u001b[49m\u001b[38;5;28;43;01mif\u001b[39;49;00m\u001b[43m \u001b[49m\u001b[43mobserved\u001b[49m\u001b[43m \u001b[49m\u001b[38;5;129;43;01mis\u001b[39;49;00m\u001b[43m \u001b[49m\u001b[43mlib\u001b[49m\u001b[43m.\u001b[49m\u001b[43mno_default\u001b[49m\u001b[43m \u001b[49m\u001b[38;5;28;43;01melse\u001b[39;49;00m\u001b[43m \u001b[49m\u001b[43mobserved\u001b[49m\u001b[43m,\u001b[49m\n\u001b[32m   1336\u001b[39m \u001b[43m        \u001b[49m\u001b[43mdropna\u001b[49m\u001b[43m=\u001b[49m\u001b[38;5;28;43mself\u001b[39;49m\u001b[43m.\u001b[49m\u001b[43mdropna\u001b[49m\u001b[43m,\u001b[49m\n\u001b[32m   1337\u001b[39m \u001b[43m    \u001b[49m\u001b[43m)\u001b[49m\n\u001b[32m   1339\u001b[39m \u001b[38;5;28;01mif\u001b[39;00m observed \u001b[38;5;129;01mis\u001b[39;00m lib.no_default:\n\u001b[32m   1340\u001b[39m     \u001b[38;5;28;01mif\u001b[39;00m \u001b[38;5;28many\u001b[39m(ping._passed_categorical \u001b[38;5;28;01mfor\u001b[39;00m ping \u001b[38;5;129;01min\u001b[39;00m grouper.groupings):\n",
      "\u001b[36mFile \u001b[39m\u001b[32m~/Development/etl_bs/etl-project-demo2/.venv/lib/python3.13/site-packages/pandas/core/groupby/grouper.py:1043\u001b[39m, in \u001b[36mget_grouper\u001b[39m\u001b[34m(obj, key, axis, level, sort, observed, validate, dropna)\u001b[39m\n\u001b[32m   1041\u001b[39m         in_axis, level, gpr = \u001b[38;5;28;01mFalse\u001b[39;00m, gpr, \u001b[38;5;28;01mNone\u001b[39;00m\n\u001b[32m   1042\u001b[39m     \u001b[38;5;28;01melse\u001b[39;00m:\n\u001b[32m-> \u001b[39m\u001b[32m1043\u001b[39m         \u001b[38;5;28;01mraise\u001b[39;00m \u001b[38;5;167;01mKeyError\u001b[39;00m(gpr)\n\u001b[32m   1044\u001b[39m \u001b[38;5;28;01melif\u001b[39;00m \u001b[38;5;28misinstance\u001b[39m(gpr, Grouper) \u001b[38;5;129;01mand\u001b[39;00m gpr.key \u001b[38;5;129;01mis\u001b[39;00m \u001b[38;5;129;01mnot\u001b[39;00m \u001b[38;5;28;01mNone\u001b[39;00m:\n\u001b[32m   1045\u001b[39m     \u001b[38;5;66;03m# Add key to exclusions\u001b[39;00m\n\u001b[32m   1046\u001b[39m     exclusions.add(gpr.key)\n",
      "\u001b[31mKeyError\u001b[39m: 'continent'"
     ]
    }
   ],
   "source": [
    "avg_wait_time_df = wait_time_df.groupby(['continent', 'ride_id', 'ride_name', 'name'], as_index=False).agg(\n",
    "    avg_wait_time=('wait_time', 'mean')\n",
    ")\n",
    "avg_wait_time_df"
   ]
  },
  {
   "cell_type": "code",
   "execution_count": 172,
   "id": "898de029",
   "metadata": {},
   "outputs": [],
   "source": [
    "\n",
    "# Select only the required columns\n",
    "result_df = avg_wait_time_df[['continent', 'name', 'ride_name', 'avg_wait_time']]\n",
    "\n",
    "# Display the resulting DataFrame\n",
    "result_df.to_csv(\"avg_wait_time_by_ride.csv\", index=False)\n"
   ]
  },
  {
   "cell_type": "code",
   "execution_count": null,
   "id": "32577f52",
   "metadata": {},
   "outputs": [],
   "source": [
    "avg_wait_time_by_ride_df.to_csv(\"avg_wait_time_by_ride.csv\", index=True)"
   ]
  },
  {
   "cell_type": "code",
   "execution_count": 95,
   "id": "bbe8b61b",
   "metadata": {},
   "outputs": [
    {
     "data": {
      "application/vnd.microsoft.datawrangler.viewer.v0+json": {
       "columns": [
        {
         "name": "ride_id",
         "rawType": "int64",
         "type": "integer"
        },
        {
         "name": "avg_wait_time",
         "rawType": "float64",
         "type": "float"
        },
        {
         "name": "min_wait_time",
         "rawType": "int64",
         "type": "integer"
        },
        {
         "name": "max_wait_time",
         "rawType": "int64",
         "type": "integer"
        },
        {
         "name": "ride_name",
         "rawType": "object",
         "type": "string"
        },
        {
         "name": "name",
         "rawType": "object",
         "type": "string"
        }
       ],
       "conversionMethod": "pd.DataFrame",
       "ref": "8820b02e-8f43-452e-ba38-5bb9f621c45a",
       "rows": [
        [
         "12",
         "1.0",
         "0",
         "5",
         "Main Street Vehicles",
         "Disneyland Park Paris"
        ],
        [
         "24",
         "44.0",
         "0",
         "170",
         "Princess Pavilion",
         "Disneyland Park Paris"
        ],
        [
         "28",
         "0.0",
         "0",
         "0",
         "Thunder Mesa Riverboat Landing",
         "Disneyland Park Paris"
        ],
        [
         "40",
         "18.75",
         "0",
         "60",
         "The Twilight Zone Tower of Terror",
         "Walt Disney Studios Paris"
        ],
        [
         "64",
         "0.0",
         "0",
         "0",
         "Tiger Rock",
         "Chessington World of Adventures"
        ],
        [
         "69",
         "0.0",
         "0",
         "0",
         "Treetop Hoppers",
         "Chessington World of Adventures"
        ],
        [
         "74",
         "0.0",
         "0",
         "0",
         "Rattlesnake",
         "Chessington World of Adventures"
        ],
        [
         "77",
         "0.0",
         "0",
         "0",
         "Sea Dragons",
         "Chessington World of Adventures"
        ],
        [
         "80",
         "0.0",
         "0",
         "0",
         "Tiny Truckers",
         "Chessington World of Adventures"
        ],
        [
         "83",
         "0.0",
         "0",
         "0",
         "Vampire",
         "Chessington World of Adventures"
        ],
        [
         "84",
         "0.0",
         "0",
         "0",
         "ZUFARI",
         "Chessington World of Adventures"
        ],
        [
         "85",
         "0.0",
         "0",
         "0",
         "Tomb Blaster",
         "Chessington World of Adventures"
        ],
        [
         "101",
         "0.0",
         "0",
         "0",
         "Zodiac",
         "Thorpe Park"
        ],
        [
         "109",
         "0.0",
         "0",
         "0",
         "Mr Monkey's Banana Ride",
         "Thorpe Park"
        ],
        [
         "112",
         "4.25",
         "0",
         "30",
         "Kali River Rapids",
         "Animal Kingdom"
        ],
        [
         "117",
         "12.5",
         "0",
         "45",
         "Toy Story Mania!",
         "Disney Hollywood Studios"
        ],
        [
         "118",
         "3.0",
         "0",
         "10",
         "Muppet*Vision 3D",
         "Disney Hollywood Studios"
        ],
        [
         "123",
         "10.5",
         "0",
         "50",
         "The Twilight Zone Tower of Terror™",
         "Disney Hollywood Studios"
        ],
        [
         "152",
         "4.5",
         "0",
         "15",
         "Turtle Talk With Crush",
         "Epcot"
        ],
        [
         "159",
         "3.25",
         "0",
         "15",
         "Spaceship Earth",
         "Epcot"
        ],
        [
         "160",
         "0.0",
         "0",
         "0",
         "Test Track",
         "Epcot"
        ],
        [
         "245",
         "0.0",
         "0",
         "0",
         "Vampire",
         "Walibi Belgium"
        ],
        [
         "286",
         "6.0",
         "0",
         "30",
         "Star Tours - The Adventures Continue",
         "Disneyland"
        ],
        [
         "288",
         "0.0",
         "0",
         "0",
         "Walt Disney's Enchanted Tiki Room",
         "Disneyland"
        ],
        [
         "289",
         "14.5",
         "0",
         "40",
         "Pirates of the Caribbean",
         "Disneyland"
        ],
        [
         "294",
         "0.0",
         "0",
         "0",
         "Turtle Talk with Crush",
         "Disney California Adventure"
        ],
        [
         "305",
         "6.75",
         "0",
         "20",
         "Storybook Land Canal Boats",
         "Disneyland"
        ],
        [
         "312",
         "19.0",
         "0",
         "70",
         "Soarin' Around the World",
         "Disney California Adventure"
        ],
        [
         "313",
         "15.0",
         "0",
         "60",
         "Toy Story Midway Mania!",
         "Disney California Adventure"
        ],
        [
         "328",
         "0.0",
         "0",
         "0",
         "Sailing Ship Columbia",
         "Disneyland"
        ],
        [
         "332",
         "15.25",
         "0",
         "60",
         "Roger Rabbit's Car Toon Spin",
         "Disneyland"
        ],
        [
         "334",
         "2.5",
         "0",
         "10",
         "Walt Disney's Enchanted Tiki Room",
         "Disney Magic Kingdom"
        ],
        [
         "337",
         "0.0",
         "0",
         "0",
         "Traffic Jam",
         "Hersheypark"
        ],
        [
         "356",
         "0.0",
         "0",
         "0",
         "The Hall of Presidents",
         "Disney Magic Kingdom"
        ],
        [
         "449",
         "0.5",
         "0",
         "5",
         "Volaplano",
         "Gardaland"
        ],
        [
         "457",
         "1.5",
         "0",
         "5",
         "Walt Disney's Carousel of Progress",
         "Disney Magic Kingdom"
        ],
        [
         "626",
         "0.0",
         "0",
         "0",
         "Yucatán",
         "PortAventura Park"
        ],
        [
         "652",
         "0.0",
         "0",
         "0",
         "The Boneyard",
         "Animal Kingdom"
        ],
        [
         "655",
         "0.0",
         "0",
         "0",
         "Wildlife Express Train",
         "Animal Kingdom"
        ],
        [
         "690",
         "0.0",
         "0",
         "0",
         "The Disneyland Story presenting Great Moments with Mr. Lincoln",
         "Disneyland"
        ],
        [
         "873",
         "0.0",
         "0",
         "0",
         "Red Car Trolley",
         "Disney California Adventure"
        ],
        [
         "1179",
         "5.0",
         "0",
         "20",
         "Walt Disney World Railroad - Frontierland",
         "Disney Magic Kingdom"
        ],
        [
         "1181",
         "5.0",
         "0",
         "20",
         "Walt Disney World Railroad - Fantasyland",
         "Disney Magic Kingdom"
        ],
        [
         "1189",
         "5.0",
         "0",
         "20",
         "Walt Disney World Railroad - Main Street, U.S.A.",
         "Disney Magic Kingdom"
        ],
        [
         "1428",
         "5.0",
         "5",
         "5",
         "Riptide Rescue",
         "Seaworld San Diego"
        ],
        [
         "1528",
         "0.0",
         "0",
         "0",
         "Zoe-Patra's Hippos of the Nile",
         "Busch Gardens Tampa"
        ],
        [
         "1530",
         "0.0",
         "0",
         "0",
         "Serengeti Express (Nairobi Station)",
         "Busch Gardens Tampa"
        ],
        [
         "2035",
         "0.0",
         "0",
         "0",
         "Wildwasserbahn",
         "Heide Park"
        ],
        [
         "2039",
         "1.5",
         "0",
         "15",
         "Toxic Garden",
         "Heide Park"
        ],
        [
         "2259",
         "0.0",
         "0",
         "0",
         "Træstammerne",
         "Fårup Sommerland"
        ]
       ],
       "shape": {
        "columns": 5,
        "rows": 461
       }
      },
      "text/html": [
       "<div>\n",
       "<style scoped>\n",
       "    .dataframe tbody tr th:only-of-type {\n",
       "        vertical-align: middle;\n",
       "    }\n",
       "\n",
       "    .dataframe tbody tr th {\n",
       "        vertical-align: top;\n",
       "    }\n",
       "\n",
       "    .dataframe thead th {\n",
       "        text-align: right;\n",
       "    }\n",
       "</style>\n",
       "<table border=\"1\" class=\"dataframe\">\n",
       "  <thead>\n",
       "    <tr style=\"text-align: right;\">\n",
       "      <th></th>\n",
       "      <th>avg_wait_time</th>\n",
       "      <th>min_wait_time</th>\n",
       "      <th>max_wait_time</th>\n",
       "      <th>ride_name</th>\n",
       "      <th>name</th>\n",
       "    </tr>\n",
       "    <tr>\n",
       "      <th>ride_id</th>\n",
       "      <th></th>\n",
       "      <th></th>\n",
       "      <th></th>\n",
       "      <th></th>\n",
       "      <th></th>\n",
       "    </tr>\n",
       "  </thead>\n",
       "  <tbody>\n",
       "    <tr>\n",
       "      <th>12</th>\n",
       "      <td>1.00</td>\n",
       "      <td>0</td>\n",
       "      <td>5</td>\n",
       "      <td>Main Street Vehicles</td>\n",
       "      <td>Disneyland Park Paris</td>\n",
       "    </tr>\n",
       "    <tr>\n",
       "      <th>24</th>\n",
       "      <td>44.00</td>\n",
       "      <td>0</td>\n",
       "      <td>170</td>\n",
       "      <td>Princess Pavilion</td>\n",
       "      <td>Disneyland Park Paris</td>\n",
       "    </tr>\n",
       "    <tr>\n",
       "      <th>28</th>\n",
       "      <td>0.00</td>\n",
       "      <td>0</td>\n",
       "      <td>0</td>\n",
       "      <td>Thunder Mesa Riverboat Landing</td>\n",
       "      <td>Disneyland Park Paris</td>\n",
       "    </tr>\n",
       "    <tr>\n",
       "      <th>40</th>\n",
       "      <td>18.75</td>\n",
       "      <td>0</td>\n",
       "      <td>60</td>\n",
       "      <td>The Twilight Zone Tower of Terror</td>\n",
       "      <td>Walt Disney Studios Paris</td>\n",
       "    </tr>\n",
       "    <tr>\n",
       "      <th>64</th>\n",
       "      <td>0.00</td>\n",
       "      <td>0</td>\n",
       "      <td>0</td>\n",
       "      <td>Tiger Rock</td>\n",
       "      <td>Chessington World of Adventures</td>\n",
       "    </tr>\n",
       "    <tr>\n",
       "      <th>...</th>\n",
       "      <td>...</td>\n",
       "      <td>...</td>\n",
       "      <td>...</td>\n",
       "      <td>...</td>\n",
       "      <td>...</td>\n",
       "    </tr>\n",
       "    <tr>\n",
       "      <th>14689</th>\n",
       "      <td>6.50</td>\n",
       "      <td>0</td>\n",
       "      <td>25</td>\n",
       "      <td>Yoshi's Adventure™</td>\n",
       "      <td>Epic Universe</td>\n",
       "    </tr>\n",
       "    <tr>\n",
       "      <th>14690</th>\n",
       "      <td>18.00</td>\n",
       "      <td>0</td>\n",
       "      <td>75</td>\n",
       "      <td>Stardust Racers</td>\n",
       "      <td>Epic Universe</td>\n",
       "    </tr>\n",
       "    <tr>\n",
       "      <th>14696</th>\n",
       "      <td>0.00</td>\n",
       "      <td>0</td>\n",
       "      <td>0</td>\n",
       "      <td>Harry Potter and the Battle at the Ministry™ S...</td>\n",
       "      <td>Epic Universe</td>\n",
       "    </tr>\n",
       "    <tr>\n",
       "      <th>14699</th>\n",
       "      <td>0.00</td>\n",
       "      <td>0</td>\n",
       "      <td>0</td>\n",
       "      <td>Monsters Unchained: The Frankenstein Experimen...</td>\n",
       "      <td>Epic Universe</td>\n",
       "    </tr>\n",
       "    <tr>\n",
       "      <th>14735</th>\n",
       "      <td>0.00</td>\n",
       "      <td>0</td>\n",
       "      <td>0</td>\n",
       "      <td>Zwanenmolen</td>\n",
       "      <td>Avonturenpark Hellendoorn</td>\n",
       "    </tr>\n",
       "  </tbody>\n",
       "</table>\n",
       "<p>461 rows × 5 columns</p>\n",
       "</div>"
      ],
      "text/plain": [
       "         avg_wait_time  min_wait_time  max_wait_time  \\\n",
       "ride_id                                                \n",
       "12                1.00              0              5   \n",
       "24               44.00              0            170   \n",
       "28                0.00              0              0   \n",
       "40               18.75              0             60   \n",
       "64                0.00              0              0   \n",
       "...                ...            ...            ...   \n",
       "14689             6.50              0             25   \n",
       "14690            18.00              0             75   \n",
       "14696             0.00              0              0   \n",
       "14699             0.00              0              0   \n",
       "14735             0.00              0              0   \n",
       "\n",
       "                                                 ride_name  \\\n",
       "ride_id                                                      \n",
       "12                                    Main Street Vehicles   \n",
       "24                                       Princess Pavilion   \n",
       "28                          Thunder Mesa Riverboat Landing   \n",
       "40                       The Twilight Zone Tower of Terror   \n",
       "64                                              Tiger Rock   \n",
       "...                                                    ...   \n",
       "14689                                   Yoshi's Adventure™   \n",
       "14690                                      Stardust Racers   \n",
       "14696    Harry Potter and the Battle at the Ministry™ S...   \n",
       "14699    Monsters Unchained: The Frankenstein Experimen...   \n",
       "14735                                          Zwanenmolen   \n",
       "\n",
       "                                    name  \n",
       "ride_id                                   \n",
       "12                 Disneyland Park Paris  \n",
       "24                 Disneyland Park Paris  \n",
       "28                 Disneyland Park Paris  \n",
       "40             Walt Disney Studios Paris  \n",
       "64       Chessington World of Adventures  \n",
       "...                                  ...  \n",
       "14689                      Epic Universe  \n",
       "14690                      Epic Universe  \n",
       "14696                      Epic Universe  \n",
       "14699                      Epic Universe  \n",
       "14735          Avonturenpark Hellendoorn  \n",
       "\n",
       "[461 rows x 5 columns]"
      ]
     },
     "execution_count": 95,
     "metadata": {},
     "output_type": "execute_result"
    }
   ],
   "source": [
    "ride_time_df = wait_time_df.merge(ride_names_df, left_on='ride_id', right_index=True, how='left')\n",
    "ride_time_df"
   ]
  },
  {
   "cell_type": "code",
   "execution_count": 48,
   "id": "cd5698fe",
   "metadata": {},
   "outputs": [
    {
     "data": {
      "application/vnd.microsoft.datawrangler.viewer.v0+json": {
       "columns": [
        {
         "name": "index",
         "rawType": "int64",
         "type": "integer"
        },
        {
         "name": "ride_name",
         "rawType": "object",
         "type": "string"
        },
        {
         "name": "wait_time",
         "rawType": "float64",
         "type": "float"
        }
       ],
       "conversionMethod": "pd.DataFrame",
       "ref": "624d7982-297b-4be6-816c-e8e4f81ddc01",
       "rows": [
        [
         "0",
         "ALL NEW for 2025: Splash Island",
         "0.0"
        ],
        [
         "1",
         "ALL-NEW 2024! Sky Striker",
         "0.0"
        ],
        [
         "2",
         "Alpengeist",
         "0.0"
        ],
        [
         "3",
         "Arena of Football - Be Part of It!",
         "0.09090909090909091"
        ],
        [
         "4",
         "Atlantica SuperSplash",
         "0.09090909090909091"
        ],
        [
         "5",
         "Badhuys indoor splash pool",
         "0.0"
        ],
        [
         "6",
         "Balloon",
         "0.9090909090909091"
        ],
        [
         "7",
         "Bijutsu-kan Gallery",
         "0.0"
        ],
        [
         "8",
         "Caribbean Cove",
         "0.0"
        ],
        [
         "9",
         "Carrousel",
         "0.0"
        ],
        [
         "10",
         "Cheetah Hunt",
         "7.2727272727272725"
        ],
        [
         "11",
         "Coast Cruise",
         "2.727272727272727"
        ],
        [
         "12",
         "Conveyances",
         "0.0"
        ],
        [
         "13",
         "DarKoaster®",
         "0.0"
        ],
        [
         "14",
         "Deep in Africa – Adventure Trail",
         "1.3636363636363635"
        ],
        [
         "15",
         "Discovery Bay",
         "0.0"
        ],
        [
         "16",
         "E.T. Adventure™",
         "8.181818181818182"
        ],
        [
         "17",
         "Emmet’s Flying Adventure - Masters of Flight",
         "0.0"
        ],
        [
         "18",
         "Escape From Pompeii",
         "30.0"
        ],
        [
         "19",
         "Euro-Mir",
         "0.9090909090909091"
        ],
        [
         "20",
         "Explorer River Quest",
         "0.0"
        ],
        [
         "21",
         "F.L.Y.",
         "0.0"
        ],
        [
         "22",
         "Fast & Furious - Supercharged™",
         "7.2727272727272725"
        ],
        [
         "23",
         "Finnegan's Flyer",
         "0.0"
        ],
        [
         "24",
         "Fun Pilot",
         "0.0"
        ],
        [
         "25",
         "GRAND PRIX EDventure",
         "0.45454545454545453"
        ],
        [
         "26",
         "Geister Rikscha",
         "1.3636363636363635"
        ],
        [
         "27",
         "Georgia Gold Rusher",
         "0.0"
        ],
        [
         "28",
         "Go Karts Teen Titans",
         "0.0"
        ],
        [
         "29",
         "Griffon",
         "0.0"
        ],
        [
         "30",
         "Harry Potter and the Battle at the Ministry™ Single Rider",
         "0.0"
        ],
        [
         "31",
         "High Seas",
         "0.0"
        ],
        [
         "32",
         "High-Low Silos",
         "0.0"
        ],
        [
         "33",
         "Hook’s Slides",
         "0.0"
        ],
        [
         "34",
         "Hydra's Challenge",
         "0.0"
        ],
        [
         "35",
         "Illumination's Villain-Con Minion Blast",
         "2.727272727272727"
        ],
        [
         "36",
         "IllusiO, a magical destiny",
         "0.0"
        ],
        [
         "37",
         "ImageWorks - The \"What If\" Labs",
         "0.0"
        ],
        [
         "38",
         "Infinity Falls®",
         "14.090909090909092"
        ],
        [
         "39",
         "InvadR",
         "0.0"
        ],
        [
         "40",
         "Iron Gwazi",
         "16.363636363636363"
        ],
        [
         "41",
         "Jurassic World — The Ride",
         "5.909090909090909"
        ],
        [
         "42",
         "Kali River Rapids",
         "7.7272727272727275"
        ],
        [
         "43",
         "Kidcot Fun Stops",
         "0.0"
        ],
        [
         "44",
         "King Cobra",
         "0.0"
        ],
        [
         "45",
         "Kolumbusjolle",
         "0.45454545454545453"
        ],
        [
         "46",
         "Kraken®",
         "8.181818181818182"
        ],
        [
         "47",
         "Kung Fu Panda Adventure",
         "6.363636363636363"
        ],
        [
         "48",
         "LEGO® Canoe",
         "0.0"
        ],
        [
         "49",
         "LEGO® City Driving School",
         "0.0"
        ]
       ],
       "shape": {
        "columns": 2,
        "rows": 421
       }
      },
      "text/html": [
       "<div>\n",
       "<style scoped>\n",
       "    .dataframe tbody tr th:only-of-type {\n",
       "        vertical-align: middle;\n",
       "    }\n",
       "\n",
       "    .dataframe tbody tr th {\n",
       "        vertical-align: top;\n",
       "    }\n",
       "\n",
       "    .dataframe thead th {\n",
       "        text-align: right;\n",
       "    }\n",
       "</style>\n",
       "<table border=\"1\" class=\"dataframe\">\n",
       "  <thead>\n",
       "    <tr style=\"text-align: right;\">\n",
       "      <th></th>\n",
       "      <th>ride_name</th>\n",
       "      <th>wait_time</th>\n",
       "    </tr>\n",
       "  </thead>\n",
       "  <tbody>\n",
       "    <tr>\n",
       "      <th>0</th>\n",
       "      <td>ALL NEW for 2025: Splash Island</td>\n",
       "      <td>0.000000</td>\n",
       "    </tr>\n",
       "    <tr>\n",
       "      <th>1</th>\n",
       "      <td>ALL-NEW 2024! Sky Striker</td>\n",
       "      <td>0.000000</td>\n",
       "    </tr>\n",
       "    <tr>\n",
       "      <th>2</th>\n",
       "      <td>Alpengeist</td>\n",
       "      <td>0.000000</td>\n",
       "    </tr>\n",
       "    <tr>\n",
       "      <th>3</th>\n",
       "      <td>Arena of Football - Be Part of It!</td>\n",
       "      <td>0.090909</td>\n",
       "    </tr>\n",
       "    <tr>\n",
       "      <th>4</th>\n",
       "      <td>Atlantica SuperSplash</td>\n",
       "      <td>0.090909</td>\n",
       "    </tr>\n",
       "    <tr>\n",
       "      <th>...</th>\n",
       "      <td>...</td>\n",
       "      <td>...</td>\n",
       "    </tr>\n",
       "    <tr>\n",
       "      <th>416</th>\n",
       "      <td>​Zuma's Zoomers</td>\n",
       "      <td>0.000000</td>\n",
       "    </tr>\n",
       "    <tr>\n",
       "      <th>417</th>\n",
       "      <td>缆车熊猫乐园站（环园线）</td>\n",
       "      <td>2.272727</td>\n",
       "    </tr>\n",
       "    <tr>\n",
       "      <th>418</th>\n",
       "      <td>风暴双响炮</td>\n",
       "      <td>2.272727</td>\n",
       "    </tr>\n",
       "    <tr>\n",
       "      <th>419</th>\n",
       "      <td>鹦鹉过山车</td>\n",
       "      <td>8.636364</td>\n",
       "    </tr>\n",
       "    <tr>\n",
       "      <th>420</th>\n",
       "      <td>龙卷风暴</td>\n",
       "      <td>2.272727</td>\n",
       "    </tr>\n",
       "  </tbody>\n",
       "</table>\n",
       "<p>421 rows × 2 columns</p>\n",
       "</div>"
      ],
      "text/plain": [
       "                              ride_name  wait_time\n",
       "0       ALL NEW for 2025: Splash Island   0.000000\n",
       "1             ALL-NEW 2024! Sky Striker   0.000000\n",
       "2                            Alpengeist   0.000000\n",
       "3    Arena of Football - Be Part of It!   0.090909\n",
       "4                 Atlantica SuperSplash   0.090909\n",
       "..                                  ...        ...\n",
       "416                     ​Zuma's Zoomers   0.000000\n",
       "417                        缆车熊猫乐园站（环园线）   2.272727\n",
       "418                               风暴双响炮   2.272727\n",
       "419                               鹦鹉过山车   8.636364\n",
       "420                                龙卷风暴   2.272727\n",
       "\n",
       "[421 rows x 2 columns]"
      ]
     },
     "execution_count": 48,
     "metadata": {},
     "output_type": "execute_result"
    }
   ],
   "source": [
    "\n",
    "average_wait_time_df = wait_time_df.groupby('ride_name', as_index=False)['wait_time'].mean()\n",
    "average_wait_time_df "
   ]
  },
  {
   "cell_type": "code",
   "execution_count": 49,
   "id": "2792c6b1",
   "metadata": {},
   "outputs": [
    {
     "data": {
      "application/vnd.microsoft.datawrangler.viewer.v0+json": {
       "columns": [
        {
         "name": "index",
         "rawType": "int64",
         "type": "integer"
        },
        {
         "name": "park_name",
         "rawType": "object",
         "type": "string"
        },
        {
         "name": "latitude",
         "rawType": "object",
         "type": "string"
        },
        {
         "name": "longitude",
         "rawType": "object",
         "type": "string"
        }
       ],
       "conversionMethod": "pd.DataFrame",
       "ref": "59db3a05-deda-4c6d-8710-c98df1c91258",
       "rows": [
        [
         "0",
         "Lotte World",
         "37.51136",
         "127.099768"
        ],
        [
         "5",
         "PanoraMagique",
         "48.86901442",
         "2.78646006"
        ],
        [
         "10",
         "Paultons Park",
         "50.948542",
         "-1.552557"
        ],
        [
         "14",
         "Grona Lund",
         "59.323333",
         "18.096667"
        ],
        [
         "19",
         "Parque Warner Madrid",
         "40.23",
         "-3.5937"
        ],
        [
         "24",
         "Vulcania",
         "45.813449",
         "2.940501"
        ],
        [
         "28",
         "Phantasialand",
         "50.8",
         "6.879444"
        ],
        [
         "32",
         "Toverland",
         "51.396",
         "5.986"
        ],
        [
         "37",
         "Holiday Park",
         "49.319722",
         "8.294722"
        ],
        [
         "42",
         "Parque de Atracciones Madrid",
         "40.411289",
         "-3.751789"
        ],
        [
         "49",
         "Adventureland Resort",
         "41.654447",
         "-93.499886"
        ],
        [
         "54",
         "Disney Hollywood Studios",
         "28.3575294",
         "-81.5582714"
        ],
        [
         "55",
         "Tokyo Disneyland",
         "35.634848",
         "139.879295"
        ],
        [
         "62",
         "Valleyfair",
         "44.798742",
         "-93.453369"
        ],
        [
         "63",
         "Chimelong Safari Park",
         "23.009",
         "113.309"
        ],
        [
         "66",
         "Knoebels",
         "40.879",
         "-76.505"
        ],
        [
         "76",
         "Hansa Park",
         "54.0769",
         "10.78"
        ],
        [
         "94",
         "Le Parc du Petit Prince",
         "47.860539",
         "7.297752"
        ],
        [
         "106",
         "Worlds of Fun",
         "39.177333",
         "-94.489028"
        ],
        [
         "116",
         "Canada's Wonderland",
         "43.843",
         "-79.539"
        ],
        [
         "118",
         "Cedar Point",
         "41.4822",
         "-82.6835"
        ],
        [
         "130",
         "Chimelong Ocean Kingdom",
         "22.101",
         "113.534"
        ],
        [
         "133",
         "Rulantica",
         "48.26082436",
         "7.7400571"
        ],
        [
         "140",
         "Hersheypark",
         "40.2887809",
         "-76.6547469"
        ],
        [
         "165",
         "Silver Dollar City",
         "36.6704749",
         "-93.3370854"
        ],
        [
         "179",
         "Carowinds",
         "35.1045",
         "-80.9394"
        ],
        [
         "195",
         "Familypark",
         "47.801597",
         "16.646089"
        ],
        [
         "198",
         "Chimelong Spaceship",
         "22.097",
         "113.535"
        ],
        [
         "207",
         "Chimelong Birds Park",
         "23.025",
         "113.277"
        ],
        [
         "210",
         "Fårup Sommerland",
         "57.2713353",
         "9.6505668"
        ],
        [
         "216",
         "Liseberg",
         "57.6952191",
         "11.9924641"
        ],
        [
         "244",
         "Futuroscope",
         "46.669167",
         "0.368889"
        ],
        [
         "246",
         "Disneyland",
         "33.8104856",
         "-117.9190001"
        ],
        [
         "250",
         "Europa Park",
         "48.268333",
         "7.720833"
        ],
        [
         "259",
         "Walibi Rhône-Alpes",
         "45.621389",
         "5.570278"
        ],
        [
         "269",
         "Walibi Belgium",
         "50.7018603",
         "4.5940362"
        ],
        [
         "275",
         "Walibi Holland",
         "52.44",
         "5.7625"
        ],
        [
         "276",
         "Parc Astérix",
         "49.1341839",
         "2.5712301"
        ],
        [
         "277",
         "Alton Towers",
         "52.9874651",
         "-1.8864769"
        ],
        [
         "283",
         "Energylandia",
         "50.000115",
         "19.409078"
        ],
        [
         "286",
         "Thorpe Park",
         "51.4039456",
         "-0.5143332"
        ],
        [
         "296",
         "Legoland Billund",
         "55.735556",
         "9.126111"
        ],
        [
         "300",
         "Legoland New York",
         "41.37855043",
         "-74.31297395"
        ],
        [
         "306",
         "Legoland Japan",
         "35.050556",
         "136.843333"
        ],
        [
         "310",
         "Legoland Korea",
         "37.88380399",
         "127.6974658"
        ],
        [
         "315",
         "Cinecittà World",
         "41.709032",
         "12.44673"
        ],
        [
         "320",
         "Blackpool Pleasure Beach",
         "53.790278",
         "-3.055556"
        ],
        [
         "323",
         "Legoland Windsor",
         "51.4634423",
         "-0.649915"
        ],
        [
         "330",
         "Peppa Pig Theme Park Florida",
         "27.98688038",
         "-81.6883981"
        ],
        [
         "347",
         "Heide Park",
         "53.0236683",
         "9.8781907"
        ]
       ],
       "shape": {
        "columns": 3,
        "rows": 70
       }
      },
      "text/html": [
       "<div>\n",
       "<style scoped>\n",
       "    .dataframe tbody tr th:only-of-type {\n",
       "        vertical-align: middle;\n",
       "    }\n",
       "\n",
       "    .dataframe tbody tr th {\n",
       "        vertical-align: top;\n",
       "    }\n",
       "\n",
       "    .dataframe thead th {\n",
       "        text-align: right;\n",
       "    }\n",
       "</style>\n",
       "<table border=\"1\" class=\"dataframe\">\n",
       "  <thead>\n",
       "    <tr style=\"text-align: right;\">\n",
       "      <th></th>\n",
       "      <th>park_name</th>\n",
       "      <th>latitude</th>\n",
       "      <th>longitude</th>\n",
       "    </tr>\n",
       "  </thead>\n",
       "  <tbody>\n",
       "    <tr>\n",
       "      <th>0</th>\n",
       "      <td>Lotte World</td>\n",
       "      <td>37.51136</td>\n",
       "      <td>127.099768</td>\n",
       "    </tr>\n",
       "    <tr>\n",
       "      <th>5</th>\n",
       "      <td>PanoraMagique</td>\n",
       "      <td>48.86901442</td>\n",
       "      <td>2.78646006</td>\n",
       "    </tr>\n",
       "    <tr>\n",
       "      <th>10</th>\n",
       "      <td>Paultons Park</td>\n",
       "      <td>50.948542</td>\n",
       "      <td>-1.552557</td>\n",
       "    </tr>\n",
       "    <tr>\n",
       "      <th>14</th>\n",
       "      <td>Grona Lund</td>\n",
       "      <td>59.323333</td>\n",
       "      <td>18.096667</td>\n",
       "    </tr>\n",
       "    <tr>\n",
       "      <th>19</th>\n",
       "      <td>Parque Warner Madrid</td>\n",
       "      <td>40.23</td>\n",
       "      <td>-3.5937</td>\n",
       "    </tr>\n",
       "    <tr>\n",
       "      <th>...</th>\n",
       "      <td>...</td>\n",
       "      <td>...</td>\n",
       "      <td>...</td>\n",
       "    </tr>\n",
       "    <tr>\n",
       "      <th>450</th>\n",
       "      <td>Gardaland</td>\n",
       "      <td>45.4550142</td>\n",
       "      <td>10.7137527</td>\n",
       "    </tr>\n",
       "    <tr>\n",
       "      <th>451</th>\n",
       "      <td>Dorney Park</td>\n",
       "      <td>40.577942</td>\n",
       "      <td>-75.531528</td>\n",
       "    </tr>\n",
       "    <tr>\n",
       "      <th>456</th>\n",
       "      <td>Kings Dominion</td>\n",
       "      <td>37.84</td>\n",
       "      <td>-77.445</td>\n",
       "    </tr>\n",
       "    <tr>\n",
       "      <th>464</th>\n",
       "      <td>Chessington World of Adventures</td>\n",
       "      <td>51.3478981</td>\n",
       "      <td>-0.3173283</td>\n",
       "    </tr>\n",
       "    <tr>\n",
       "      <th>473</th>\n",
       "      <td>Avonturenpark Hellendoorn</td>\n",
       "      <td>52.389444</td>\n",
       "      <td>6.435833</td>\n",
       "    </tr>\n",
       "  </tbody>\n",
       "</table>\n",
       "<p>70 rows × 3 columns</p>\n",
       "</div>"
      ],
      "text/plain": [
       "                           park_name     latitude   longitude\n",
       "0                        Lotte World     37.51136  127.099768\n",
       "5                      PanoraMagique  48.86901442  2.78646006\n",
       "10                     Paultons Park    50.948542   -1.552557\n",
       "14                        Grona Lund    59.323333   18.096667\n",
       "19              Parque Warner Madrid        40.23     -3.5937\n",
       "..                               ...          ...         ...\n",
       "450                        Gardaland   45.4550142  10.7137527\n",
       "451                      Dorney Park    40.577942  -75.531528\n",
       "456                   Kings Dominion        37.84     -77.445\n",
       "464  Chessington World of Adventures   51.3478981  -0.3173283\n",
       "473        Avonturenpark Hellendoorn    52.389444    6.435833\n",
       "\n",
       "[70 rows x 3 columns]"
      ]
     },
     "execution_count": 49,
     "metadata": {},
     "output_type": "execute_result"
    }
   ],
   "source": [
    "map_df = full_df.filter(['name', 'latitude', 'longitude'])\n",
    "map_df = map_df.drop_duplicates(subset=['name', 'latitude', 'longitude'])\n",
    "map_df = map_df.rename(columns={'name': 'park_name'})\n",
    "map_df = map_df.dropna(subset=['latitude', 'longitude'])\n",
    "map_df"
   ]
  },
  {
   "cell_type": "code",
   "execution_count": 131,
   "id": "559427c7",
   "metadata": {},
   "outputs": [
    {
     "data": {
      "application/vnd.microsoft.datawrangler.viewer.v0+json": {
       "columns": [
        {
         "name": "index",
         "rawType": "int64",
         "type": "integer"
        },
        {
         "name": "park_name",
         "rawType": "object",
         "type": "string"
        },
        {
         "name": "wait_time",
         "rawType": "float64",
         "type": "float"
        },
        {
         "name": "wait_time_category",
         "rawType": "object",
         "type": "string"
        }
       ],
       "conversionMethod": "pd.DataFrame",
       "ref": "d78f0a4e-3909-45d3-9473-6bcf1112752d",
       "rows": [
        [
         "0",
         "Adventureland Resort",
         "0.0",
         "100"
        ],
        [
         "1",
         "Alton Towers",
         "4.5",
         "100"
        ],
        [
         "2",
         "Animal Kingdom",
         "3.2857142857142856",
         "100"
        ],
        [
         "3",
         "Avonturenpark Hellendoorn",
         "0.0",
         "100"
        ],
        [
         "4",
         "Bellewaerde",
         "2.0",
         "100"
        ],
        [
         "5",
         "Beto Carrero World",
         "2.5",
         "100"
        ],
        [
         "6",
         "Blackpool Pleasure Beach",
         "0.8",
         "100"
        ],
        [
         "7",
         "Bobbejaanland",
         "0.0",
         "100"
        ],
        [
         "8",
         "Busch Gardens Tampa",
         "1.6111111111111112",
         "100"
        ],
        [
         "9",
         "Busch Gardens Williamsburg",
         "3.0",
         "100"
        ],
        [
         "10",
         "California's Great America",
         "0.0",
         "100"
        ],
        [
         "11",
         "Canada's Wonderland",
         "0.0",
         "100"
        ],
        [
         "12",
         "Caribbean Bay",
         "0.0",
         "100"
        ],
        [
         "13",
         "Carowinds",
         "0.0",
         "100"
        ],
        [
         "14",
         "Cedar Point",
         "0.0",
         "100"
        ],
        [
         "15",
         "Chessington World of Adventures",
         "0.0",
         "100"
        ],
        [
         "16",
         "Chimelong Ocean Kingdom",
         "9.5",
         "10000"
        ],
        [
         "17",
         "Chimelong Paradise",
         "2.5",
         "100"
        ],
        [
         "18",
         "Chimelong Safari Park",
         "2.0",
         "100"
        ],
        [
         "19",
         "Chimelong Water Park",
         "3.5",
         "100"
        ],
        [
         "20",
         "Cinecittà World",
         "0.0",
         "100"
        ],
        [
         "21",
         "Disney California Adventure",
         "4.25",
         "100"
        ],
        [
         "22",
         "Disney Hollywood Studios",
         "8.166666666666666",
         "10000"
        ],
        [
         "23",
         "Disney Magic Kingdom",
         "3.1666666666666665",
         "100"
        ],
        [
         "24",
         "Disneyland",
         "6.583333333333333",
         "10000"
        ],
        [
         "25",
         "Disneyland Hong Kong",
         "0.0",
         "100"
        ],
        [
         "26",
         "Disneyland Park Paris",
         "12.6",
         "10000"
        ],
        [
         "27",
         "Djurs Sommerland",
         "0.0",
         "100"
        ],
        [
         "28",
         "Dollywood",
         "0.0",
         "100"
        ],
        [
         "29",
         "Dorney Park",
         "0.0",
         "100"
        ],
        [
         "30",
         "Efteling",
         "1.4583333333333333",
         "100"
        ],
        [
         "31",
         "Energylandia",
         "4.0",
         "100"
        ],
        [
         "32",
         "Epcot",
         "0.96875",
         "100"
        ],
        [
         "33",
         "Epic Universe",
         "16.1",
         "100000"
        ],
        [
         "34",
         "Europa Park",
         "6.694117647058824",
         "10000"
        ],
        [
         "35",
         "Everland",
         "0.0",
         "100"
        ],
        [
         "36",
         "Familypark",
         "0.0",
         "100"
        ],
        [
         "37",
         "Ferrari Land",
         "12.0",
         "10000"
        ],
        [
         "38",
         "Frontier City",
         "0.0",
         "100"
        ],
        [
         "39",
         "Futuroscope",
         "0.0",
         "100"
        ],
        [
         "40",
         "Fårup Sommerland",
         "0.0",
         "100"
        ],
        [
         "41",
         "Gardaland",
         "2.1666666666666665",
         "100"
        ],
        [
         "42",
         "Grona Lund",
         "0.0",
         "100"
        ],
        [
         "43",
         "Hansa Park",
         "0.0",
         "100"
        ],
        [
         "44",
         "Heide Park",
         "1.2857142857142858",
         "100"
        ],
        [
         "45",
         "Hersheypark",
         "0.0",
         "100"
        ],
        [
         "46",
         "Islands Of Adventure At Universal Orlando",
         "4.15",
         "100"
        ],
        [
         "47",
         "Kennywood",
         "0.0",
         "100"
        ],
        [
         "48",
         "Kings Dominion",
         "0.0",
         "100"
        ],
        [
         "49",
         "Kings Island",
         "0.0",
         "100"
        ]
       ],
       "shape": {
        "columns": 3,
        "rows": 121
       }
      },
      "text/html": [
       "<div>\n",
       "<style scoped>\n",
       "    .dataframe tbody tr th:only-of-type {\n",
       "        vertical-align: middle;\n",
       "    }\n",
       "\n",
       "    .dataframe tbody tr th {\n",
       "        vertical-align: top;\n",
       "    }\n",
       "\n",
       "    .dataframe thead th {\n",
       "        text-align: right;\n",
       "    }\n",
       "</style>\n",
       "<table border=\"1\" class=\"dataframe\">\n",
       "  <thead>\n",
       "    <tr style=\"text-align: right;\">\n",
       "      <th></th>\n",
       "      <th>park_name</th>\n",
       "      <th>wait_time</th>\n",
       "      <th>wait_time_category</th>\n",
       "    </tr>\n",
       "  </thead>\n",
       "  <tbody>\n",
       "    <tr>\n",
       "      <th>0</th>\n",
       "      <td>Adventureland Resort</td>\n",
       "      <td>0.000000</td>\n",
       "      <td>100</td>\n",
       "    </tr>\n",
       "    <tr>\n",
       "      <th>1</th>\n",
       "      <td>Alton Towers</td>\n",
       "      <td>4.500000</td>\n",
       "      <td>100</td>\n",
       "    </tr>\n",
       "    <tr>\n",
       "      <th>2</th>\n",
       "      <td>Animal Kingdom</td>\n",
       "      <td>3.285714</td>\n",
       "      <td>100</td>\n",
       "    </tr>\n",
       "    <tr>\n",
       "      <th>3</th>\n",
       "      <td>Avonturenpark Hellendoorn</td>\n",
       "      <td>0.000000</td>\n",
       "      <td>100</td>\n",
       "    </tr>\n",
       "    <tr>\n",
       "      <th>4</th>\n",
       "      <td>Bellewaerde</td>\n",
       "      <td>2.000000</td>\n",
       "      <td>100</td>\n",
       "    </tr>\n",
       "    <tr>\n",
       "      <th>...</th>\n",
       "      <td>...</td>\n",
       "      <td>...</td>\n",
       "      <td>...</td>\n",
       "    </tr>\n",
       "    <tr>\n",
       "      <th>116</th>\n",
       "      <td>Walibi Belgium</td>\n",
       "      <td>0.000000</td>\n",
       "      <td>100</td>\n",
       "    </tr>\n",
       "    <tr>\n",
       "      <th>117</th>\n",
       "      <td>Walibi Holland</td>\n",
       "      <td>0.888889</td>\n",
       "      <td>100</td>\n",
       "    </tr>\n",
       "    <tr>\n",
       "      <th>118</th>\n",
       "      <td>Walibi Rhône-Alpes</td>\n",
       "      <td>1.500000</td>\n",
       "      <td>100</td>\n",
       "    </tr>\n",
       "    <tr>\n",
       "      <th>119</th>\n",
       "      <td>Walt Disney Studios Paris</td>\n",
       "      <td>10.083333</td>\n",
       "      <td>10000</td>\n",
       "    </tr>\n",
       "    <tr>\n",
       "      <th>120</th>\n",
       "      <td>Worlds of Fun</td>\n",
       "      <td>0.000000</td>\n",
       "      <td>100</td>\n",
       "    </tr>\n",
       "  </tbody>\n",
       "</table>\n",
       "<p>121 rows × 3 columns</p>\n",
       "</div>"
      ],
      "text/plain": [
       "                     park_name  wait_time wait_time_category\n",
       "0         Adventureland Resort   0.000000                100\n",
       "1                 Alton Towers   4.500000                100\n",
       "2               Animal Kingdom   3.285714                100\n",
       "3    Avonturenpark Hellendoorn   0.000000                100\n",
       "4                  Bellewaerde   2.000000                100\n",
       "..                         ...        ...                ...\n",
       "116             Walibi Belgium   0.000000                100\n",
       "117             Walibi Holland   0.888889                100\n",
       "118         Walibi Rhône-Alpes   1.500000                100\n",
       "119  Walt Disney Studios Paris  10.083333              10000\n",
       "120              Worlds of Fun   0.000000                100\n",
       "\n",
       "[121 rows x 3 columns]"
      ]
     },
     "execution_count": 131,
     "metadata": {},
     "output_type": "execute_result"
    }
   ],
   "source": [
    "park_time_df = full_df.filter(['id', 'name', 'wait_time'])\n",
    "average_park_time_df = park_time_df.groupby('name', as_index=False)['wait_time'].mean()\n",
    "average_park_time_df = average_park_time_df.rename(columns={'name': 'park_name'})\n",
    "def categorize_wait_time(w_time):\n",
    "    if w_time < 5:\n",
    "        return '100'\n",
    "    elif 5 <= w_time < 15:\n",
    "        return '10000'\n",
    "    else:\n",
    "        return '100000'\n",
    "average_park_time_df[\"wait_time_category\"] = average_park_time_df[\"wait_time\"].apply(categorize_wait_time)\n",
    "average_park_time_df "
   ]
  },
  {
   "cell_type": "code",
   "execution_count": 133,
   "id": "c3fcd9ff",
   "metadata": {},
   "outputs": [],
   "source": [
    "wait_map_df = average_park_time_df.merge(map_df, on='park_name', how='left')\n",
    "wait_map_df = wait_map_df.dropna(subset=['latitude', 'longitude'])\n",
    "wait_map_df\n",
    "wait_map_df.to_csv(\"wait_map.csv\", index=False)\n"
   ]
  },
  {
   "cell_type": "code",
   "execution_count": 266,
   "id": "64be90fb",
   "metadata": {},
   "outputs": [
    {
     "data": {
      "application/vnd.microsoft.datawrangler.viewer.v0+json": {
       "columns": [
        {
         "name": "index",
         "rawType": "int64",
         "type": "integer"
        },
        {
         "name": "ride_id",
         "rawType": "int64",
         "type": "integer"
        },
        {
         "name": "wait_time",
         "rawType": "int64",
         "type": "integer"
        }
       ],
       "conversionMethod": "pd.DataFrame",
       "ref": "435d0316-8738-4676-a2fa-915767729ca7",
       "rows": [
        [
         "5",
         "6649",
         "0"
        ],
        [
         "6",
         "7645",
         "0"
        ],
        [
         "7",
         "7664",
         "0"
        ],
        [
         "8",
         "5870",
         "0"
        ],
        [
         "9",
         "7672",
         "0"
        ],
        [
         "32",
         "5918",
         "20"
        ],
        [
         "33",
         "12572",
         "0"
        ],
        [
         "34",
         "7750",
         "0"
        ],
        [
         "35",
         "5921",
         "5"
        ],
        [
         "60",
         "11946",
         "0"
        ],
        [
         "62",
         "10215",
         "0"
        ],
        [
         "93",
         "7412",
         "5"
        ],
        [
         "105",
         "12291",
         "0"
        ],
        [
         "146",
         "6918",
         "5"
        ],
        [
         "148",
         "6921",
         "5"
        ],
        [
         "149",
         "6914",
         "5"
        ],
        [
         "150",
         "6915",
         "5"
        ],
        [
         "152",
         "6902",
         "5"
        ],
        [
         "154",
         "8837",
         "5"
        ],
        [
         "156",
         "6934",
         "5"
        ],
        [
         "178",
         "11231",
         "5"
        ],
        [
         "182",
         "11373",
         "5"
        ],
        [
         "189",
         "8235",
         "0"
        ],
        [
         "194",
         "11276",
         "0"
        ],
        [
         "206",
         "13590",
         "0"
        ],
        [
         "223",
         "12033",
         "5"
        ],
        [
         "226",
         "9330",
         "5"
        ],
        [
         "227",
         "9359",
         "5"
        ],
        [
         "228",
         "9341",
         "5"
        ],
        [
         "229",
         "9341",
         "5"
        ],
        [
         "235",
         "11584",
         "0"
        ],
        [
         "243",
         "6856",
         "30"
        ],
        [
         "251",
         "6336",
         "30"
        ],
        [
         "254",
         "10516",
         "30"
        ],
        [
         "256",
         "11593",
         "5"
        ],
        [
         "258",
         "7310",
         "0"
        ],
        [
         "259",
         "6539",
         "0"
        ],
        [
         "260",
         "6540",
         "0"
        ],
        [
         "261",
         "11596",
         "0"
        ],
        [
         "262",
         "6536",
         "0"
        ],
        [
         "263",
         "6557",
         "30"
        ],
        [
         "264",
         "6565",
         "0"
        ],
        [
         "265",
         "6338",
         "0"
        ],
        [
         "266",
         "12372",
         "0"
        ],
        [
         "267",
         "6537",
         "0"
        ],
        [
         "268",
         "6537",
         "0"
        ],
        [
         "269",
         "6570",
         "15"
        ],
        [
         "270",
         "6571",
         "10"
        ],
        [
         "271",
         "11876",
         "15"
        ],
        [
         "272",
         "6569",
         "25"
        ]
       ],
       "shape": {
        "columns": 2,
        "rows": 3422
       }
      },
      "text/html": [
       "<div>\n",
       "<style scoped>\n",
       "    .dataframe tbody tr th:only-of-type {\n",
       "        vertical-align: middle;\n",
       "    }\n",
       "\n",
       "    .dataframe tbody tr th {\n",
       "        vertical-align: top;\n",
       "    }\n",
       "\n",
       "    .dataframe thead th {\n",
       "        text-align: right;\n",
       "    }\n",
       "</style>\n",
       "<table border=\"1\" class=\"dataframe\">\n",
       "  <thead>\n",
       "    <tr style=\"text-align: right;\">\n",
       "      <th></th>\n",
       "      <th>ride_id</th>\n",
       "      <th>wait_time</th>\n",
       "    </tr>\n",
       "  </thead>\n",
       "  <tbody>\n",
       "    <tr>\n",
       "      <th>5</th>\n",
       "      <td>6649</td>\n",
       "      <td>0</td>\n",
       "    </tr>\n",
       "    <tr>\n",
       "      <th>6</th>\n",
       "      <td>7645</td>\n",
       "      <td>0</td>\n",
       "    </tr>\n",
       "    <tr>\n",
       "      <th>7</th>\n",
       "      <td>7664</td>\n",
       "      <td>0</td>\n",
       "    </tr>\n",
       "    <tr>\n",
       "      <th>8</th>\n",
       "      <td>5870</td>\n",
       "      <td>0</td>\n",
       "    </tr>\n",
       "    <tr>\n",
       "      <th>9</th>\n",
       "      <td>7672</td>\n",
       "      <td>0</td>\n",
       "    </tr>\n",
       "    <tr>\n",
       "      <th>...</th>\n",
       "      <td>...</td>\n",
       "      <td>...</td>\n",
       "    </tr>\n",
       "    <tr>\n",
       "      <th>9513</th>\n",
       "      <td>2998</td>\n",
       "      <td>5</td>\n",
       "    </tr>\n",
       "    <tr>\n",
       "      <th>9514</th>\n",
       "      <td>12392</td>\n",
       "      <td>50</td>\n",
       "    </tr>\n",
       "    <tr>\n",
       "      <th>9517</th>\n",
       "      <td>10846</td>\n",
       "      <td>5</td>\n",
       "    </tr>\n",
       "    <tr>\n",
       "      <th>9518</th>\n",
       "      <td>40</td>\n",
       "      <td>30</td>\n",
       "    </tr>\n",
       "    <tr>\n",
       "      <th>9519</th>\n",
       "      <td>7281</td>\n",
       "      <td>15</td>\n",
       "    </tr>\n",
       "  </tbody>\n",
       "</table>\n",
       "<p>3422 rows × 2 columns</p>\n",
       "</div>"
      ],
      "text/plain": [
       "      ride_id  wait_time\n",
       "5        6649          0\n",
       "6        7645          0\n",
       "7        7664          0\n",
       "8        5870          0\n",
       "9        7672          0\n",
       "...       ...        ...\n",
       "9513     2998          5\n",
       "9514    12392         50\n",
       "9517    10846          5\n",
       "9518       40         30\n",
       "9519     7281         15\n",
       "\n",
       "[3422 rows x 2 columns]"
      ]
     },
     "execution_count": 266,
     "metadata": {},
     "output_type": "execute_result"
    }
   ],
   "source": [
    "open_rides = full_df[full_df['is_open']].filter(['ride_id','wait_time'])\n",
    "open_rides"
   ]
  },
  {
   "cell_type": "code",
   "execution_count": 268,
   "id": "5ee87c7d",
   "metadata": {},
   "outputs": [
    {
     "data": {
      "application/vnd.microsoft.datawrangler.viewer.v0+json": {
       "columns": [
        {
         "name": "index",
         "rawType": "int64",
         "type": "integer"
        },
        {
         "name": "timestamp",
         "rawType": "datetime64[ns, UTC]",
         "type": "unknown"
        },
        {
         "name": "park_id",
         "rawType": "int64",
         "type": "integer"
        },
        {
         "name": "ride_id",
         "rawType": "int64",
         "type": "integer"
        },
        {
         "name": "ride_name",
         "rawType": "object",
         "type": "string"
        },
        {
         "name": "is_open",
         "rawType": "bool",
         "type": "boolean"
        },
        {
         "name": "wait_time",
         "rawType": "int64",
         "type": "integer"
        },
        {
         "name": "last_updated",
         "rawType": "datetime64[ns, UTC]",
         "type": "unknown"
        },
        {
         "name": "park_name",
         "rawType": "object",
         "type": "string"
        },
        {
         "name": "country",
         "rawType": "object",
         "type": "string"
        },
        {
         "name": "continent",
         "rawType": "object",
         "type": "string"
        },
        {
         "name": "latitude",
         "rawType": "object",
         "type": "string"
        },
        {
         "name": "longitude",
         "rawType": "object",
         "type": "string"
        },
        {
         "name": "date",
         "rawType": "object",
         "type": "string"
        },
        {
         "name": "avg_wait_time",
         "rawType": "float64",
         "type": "float"
        }
       ],
       "conversionMethod": "pd.DataFrame",
       "ref": "6ba34612-4460-4fee-9e0f-7596ad8064c5",
       "rows": [
        [
         "0",
         "2025-05-13 18:41:52.601463+00:00",
         "57",
         "5852",
         "RailBlazer",
         "False",
         "0",
         "2025-05-13 18:40:22+00:00",
         "California's Great America",
         "United States",
         "North America",
         "37.397799",
         "-121.974717",
         "13th May 2025",
         null
        ],
        [
         "1",
         "2025-05-13 18:41:52.601463+00:00",
         "57",
         "7720",
         "Woodstock Express",
         "False",
         "0",
         "2025-05-13 18:40:22+00:00",
         "California's Great America",
         "United States",
         "North America",
         "37.397799",
         "-121.974717",
         "13th May 2025",
         null
        ],
        [
         "2",
         "2025-05-13 18:41:52.601463+00:00",
         "57",
         "7660",
         "The Pumpkin Patch",
         "False",
         "0",
         "2025-05-13 18:40:22+00:00",
         "California's Great America",
         "United States",
         "North America",
         "37.397799",
         "-121.974717",
         "13th May 2025",
         null
        ],
        [
         "3",
         "2025-05-13 18:41:52.601463+00:00",
         "57",
         "7668",
         "Xtreme Skyflyer",
         "False",
         "0",
         "2025-05-13 18:40:22+00:00",
         "California's Great America",
         "United States",
         "North America",
         "37.397799",
         "-121.974717",
         "13th May 2025",
         null
        ],
        [
         "4",
         "2025-05-13 18:41:52.601463+00:00",
         "57",
         "13057",
         "Tide Pool Slides",
         "False",
         "0",
         "2025-05-13 18:40:22+00:00",
         "California's Great America",
         "United States",
         "North America",
         "37.397799",
         "-121.974717",
         "13th May 2025",
         null
        ],
        [
         "5",
         "2025-05-13 18:41:52.726123+00:00",
         "58",
         "6649",
         "Yukon Striker",
         "True",
         "0",
         "2025-05-13 18:40:45+00:00",
         "Canada's Wonderland",
         "Canada",
         "North America",
         "43.843",
         "-79.539",
         "13th May 2025",
         "0.0"
        ],
        [
         "6",
         "2025-05-13 18:41:52.726123+00:00",
         "58",
         "7645",
         "White Water Canyon",
         "True",
         "0",
         "2025-05-13 18:40:45+00:00",
         "Canada's Wonderland",
         "Canada",
         "North America",
         "43.843",
         "-79.539",
         "13th May 2025",
         "0.0"
        ],
        [
         "7",
         "2025-05-13 18:41:52.726123+00:00",
         "58",
         "7664",
         "Woodstock Whirlybirds",
         "True",
         "0",
         "2025-05-13 18:40:45+00:00",
         "Canada's Wonderland",
         "Canada",
         "North America",
         "43.843",
         "-79.539",
         "13th May 2025",
         "0.0"
        ],
        [
         "8",
         "2025-05-13 18:41:52.726123+00:00",
         "58",
         "5870",
         "WindSeeker",
         "True",
         "0",
         "2025-05-13 18:40:45+00:00",
         "Canada's Wonderland",
         "Canada",
         "North America",
         "43.843",
         "-79.539",
         "13th May 2025",
         "0.0"
        ],
        [
         "9",
         "2025-05-13 18:41:52.726123+00:00",
         "58",
         "7672",
         "White Water Bay",
         "True",
         "0",
         "2025-05-13 18:40:45+00:00",
         "Canada's Wonderland",
         "Canada",
         "North America",
         "43.843",
         "-79.539",
         "13th May 2025",
         "0.0"
        ],
        [
         "10",
         "2025-05-13 18:41:52.865116+00:00",
         "59",
         "5886",
         "Vortex",
         "False",
         "0",
         "2025-05-13 18:40:59+00:00",
         "Carowinds",
         "United States",
         "North America",
         "35.1045",
         "-80.9394",
         "13th May 2025",
         null
        ],
        [
         "11",
         "2025-05-13 18:41:52.865116+00:00",
         "59",
         "5891",
         "Zephyr",
         "False",
         "0",
         "2025-05-13 18:40:59+00:00",
         "Carowinds",
         "United States",
         "North America",
         "35.1045",
         "-80.9394",
         "13th May 2025",
         null
        ],
        [
         "12",
         "2025-05-13 18:41:52.865116+00:00",
         "59",
         "6436",
         "Woodstock Whirlybirds",
         "False",
         "0",
         "2025-05-13 18:40:59+00:00",
         "Carowinds",
         "United States",
         "North America",
         "35.1045",
         "-80.9394",
         "13th May 2025",
         null
        ],
        [
         "13",
         "2025-05-13 18:41:52.865116+00:00",
         "59",
         "5887",
         "WindSeeker",
         "False",
         "0",
         "2025-05-13 18:40:59+00:00",
         "Carowinds",
         "United States",
         "North America",
         "35.1045",
         "-80.9394",
         "13th May 2025",
         null
        ],
        [
         "14",
         "2025-05-13 18:41:53.000656+00:00",
         "50",
         "4647",
         "Woodstock Express",
         "False",
         "0",
         "2025-05-13 18:40:14+00:00",
         "Cedar Point",
         "United States",
         "North America",
         "41.4822",
         "-82.6835",
         "13th May 2025",
         null
        ],
        [
         "15",
         "2025-05-13 18:41:53.000656+00:00",
         "50",
         "4661",
         "Snoopys Express Railroad",
         "False",
         "0",
         "2025-05-13 18:40:14+00:00",
         "Cedar Point",
         "United States",
         "North America",
         "41.4822",
         "-82.6835",
         "13th May 2025",
         null
        ],
        [
         "16",
         "2025-05-13 18:41:53.000656+00:00",
         "50",
         "12861",
         "Woodstocks Whirlybirds",
         "False",
         "0",
         "2025-05-13 18:40:14+00:00",
         "Cedar Point",
         "United States",
         "North America",
         "41.4822",
         "-82.6835",
         "13th May 2025",
         null
        ],
        [
         "17",
         "2025-05-13 18:41:53.000656+00:00",
         "50",
         "3777",
         "WindSeeker",
         "False",
         "0",
         "2025-05-13 18:40:14+00:00",
         "Cedar Point",
         "United States",
         "North America",
         "41.4822",
         "-82.6835",
         "13th May 2025",
         null
        ],
        [
         "18",
         "2025-05-13 18:41:53.000656+00:00",
         "50",
         "12871",
         "Plunge Slide",
         "False",
         "0",
         "2025-05-13 18:40:14+00:00",
         "Cedar Point",
         "United States",
         "North America",
         "41.4822",
         "-82.6835",
         "13th May 2025",
         null
        ],
        [
         "19",
         "2025-05-13 18:41:53.140688+00:00",
         "69",
         "6664",
         "Wild Mouse",
         "False",
         "0",
         "2025-05-13 18:37:26+00:00",
         "Dorney Park",
         "United States",
         "North America",
         "40.577942",
         "-75.531528",
         "13th May 2025",
         null
        ],
        [
         "20",
         "2025-05-13 18:41:53.140688+00:00",
         "69",
         "7792",
         "Zephyr",
         "False",
         "0",
         "2025-05-13 18:37:26+00:00",
         "Dorney Park",
         "United States",
         "North America",
         "40.577942",
         "-75.531528",
         "13th May 2025",
         null
        ],
        [
         "21",
         "2025-05-13 18:41:53.140688+00:00",
         "69",
         "7780",
         "PS - Woodstocks Wagon Wheel",
         "False",
         "0",
         "2025-05-13 18:37:26+00:00",
         "Dorney Park",
         "United States",
         "North America",
         "40.577942",
         "-75.531528",
         "13th May 2025",
         null
        ],
        [
         "22",
         "2025-05-13 18:41:53.140688+00:00",
         "69",
         "6663",
         "White Water Landing",
         "False",
         "0",
         "2025-05-13 18:37:26+00:00",
         "Dorney Park",
         "United States",
         "North America",
         "40.577942",
         "-75.531528",
         "13th May 2025",
         null
        ],
        [
         "23",
         "2025-05-13 18:41:53.140688+00:00",
         "69",
         "6665",
         "Wildwater River",
         "False",
         "0",
         "2025-05-13 18:37:26+00:00",
         "Dorney Park",
         "United States",
         "North America",
         "40.577942",
         "-75.531528",
         "13th May 2025",
         null
        ],
        [
         "24",
         "2025-05-13 18:41:53.279542+00:00",
         "62",
         "5937",
         "Twisted Timbers",
         "False",
         "0",
         "2025-05-13 18:36:45+00:00",
         "Kings Dominion",
         "United States",
         "North America",
         "37.84",
         "-77.445",
         "13th May 2025",
         null
        ],
        [
         "25",
         "2025-05-13 18:41:53.279542+00:00",
         "62",
         "7740",
         "Woodstock Express",
         "False",
         "0",
         "2025-05-13 18:36:45+00:00",
         "Kings Dominion",
         "United States",
         "North America",
         "37.84",
         "-77.445",
         "13th May 2025",
         null
        ],
        [
         "26",
         "2025-05-13 18:41:53.279542+00:00",
         "62",
         "7777",
         "Woodstock Whirlybirds",
         "False",
         "0",
         "2025-05-13 18:36:45+00:00",
         "Kings Dominion",
         "United States",
         "North America",
         "37.84",
         "-77.445",
         "13th May 2025",
         null
        ],
        [
         "27",
         "2025-05-13 18:41:53.279542+00:00",
         "62",
         "12663",
         "Xtreme SkyFlyer - Delta",
         "False",
         "0",
         "2025-05-13 18:36:45+00:00",
         "Kings Dominion",
         "United States",
         "North America",
         "37.84",
         "-77.445",
         "13th May 2025",
         null
        ],
        [
         "28",
         "2025-05-13 18:41:53.424365+00:00",
         "60",
         "12706",
         "Racer Red",
         "False",
         "0",
         "2025-05-13 18:41:05+00:00",
         "Kings Island",
         "United States",
         "North America",
         "39.3447",
         "-84.2686",
         "13th May 2025",
         null
        ],
        [
         "29",
         "2025-05-13 18:41:53.424365+00:00",
         "60",
         "7603",
         "Zephyr",
         "False",
         "0",
         "2025-05-13 18:36:09+00:00",
         "Kings Island",
         "United States",
         "North America",
         "39.3447",
         "-84.2686",
         "13th May 2025",
         null
        ],
        [
         "30",
         "2025-05-13 18:41:53.424365+00:00",
         "60",
         "7608",
         "Woodstock's Whirlybirds",
         "False",
         "0",
         "2025-05-13 18:36:09+00:00",
         "Kings Island",
         "United States",
         "North America",
         "39.3447",
         "-84.2686",
         "13th May 2025",
         null
        ],
        [
         "31",
         "2025-05-13 18:41:53.424365+00:00",
         "60",
         "7618",
         "WindSeeker",
         "False",
         "0",
         "2025-05-13 18:36:09+00:00",
         "Kings Island",
         "United States",
         "North America",
         "39.3447",
         "-84.2686",
         "13th May 2025",
         null
        ],
        [
         "32",
         "2025-05-13 18:41:53.580181+00:00",
         "61",
         "5918",
         "Xcelerator The Ride",
         "True",
         "20",
         "2025-05-13 18:36:26+00:00",
         "Knott's Berry Farm",
         "United States",
         "North America",
         "33.8442",
         "-117.9986",
         "13th May 2025",
         "26.666666666666668"
        ],
        [
         "33",
         "2025-05-13 18:41:53.580181+00:00",
         "61",
         "12572",
         "Wipeout",
         "True",
         "0",
         "2025-05-13 18:36:26+00:00",
         "Knott's Berry Farm",
         "United States",
         "North America",
         "33.8442",
         "-117.9986",
         "13th May 2025",
         "0.0"
        ],
        [
         "34",
         "2025-05-13 18:41:53.580181+00:00",
         "61",
         "7750",
         "Rapid River Run",
         "True",
         "0",
         "2025-05-13 18:36:26+00:00",
         "Knott's Berry Farm",
         "United States",
         "North America",
         "33.8442",
         "-117.9986",
         "13th May 2025",
         "0.0"
        ],
        [
         "35",
         "2025-05-13 18:41:53.580181+00:00",
         "61",
         "5921",
         "Supreme Scream",
         "True",
         "5",
         "2025-05-13 18:36:26+00:00",
         "Knott's Berry Farm",
         "United States",
         "North America",
         "33.8442",
         "-117.9986",
         "13th May 2025",
         "21.666666666666668"
        ],
        [
         "36",
         "2025-05-13 18:41:53.580181+00:00",
         "61",
         "13615",
         "Wedge",
         "False",
         "0",
         "2025-05-13 18:36:26+00:00",
         "Knott's Berry Farm",
         "United States",
         "North America",
         "33.8442",
         "-117.9986",
         "13th May 2025",
         null
        ],
        [
         "37",
         "2025-05-13 18:41:53.718044+00:00",
         "70",
         "8754",
         "Zach's Zoomer",
         "False",
         "0",
         "2025-05-13 18:37:08+00:00",
         "Michigan's Adventure",
         "United States",
         "North America",
         "43.3474",
         "-86.2789",
         "13th May 2025",
         null
        ],
        [
         "38",
         "2025-05-13 18:41:53.718044+00:00",
         "70",
         "8753",
         "Winky The Whale",
         "False",
         "0",
         "2025-05-13 18:37:08+00:00",
         "Michigan's Adventure",
         "United States",
         "North America",
         "43.3474",
         "-86.2789",
         "13th May 2025",
         null
        ],
        [
         "39",
         "2025-05-13 18:41:53.718044+00:00",
         "70",
         "8742",
         "Motorcycles",
         "False",
         "0",
         "2025-05-13 18:37:08+00:00",
         "Michigan's Adventure",
         "United States",
         "North America",
         "43.3474",
         "-86.2789",
         "13th May 2025",
         null
        ],
        [
         "40",
         "2025-05-13 18:41:53.718044+00:00",
         "70",
         "8743",
         "RipCord",
         "False",
         "0",
         "2025-05-13 18:37:08+00:00",
         "Michigan's Adventure",
         "United States",
         "North America",
         "43.3474",
         "-86.2789",
         "13th May 2025",
         null
        ],
        [
         "41",
         "2025-05-13 18:41:53.718044+00:00",
         "70",
         "13554",
         "Wild Slide/Ridge Rider",
         "False",
         "0",
         "2025-05-13 18:37:08+00:00",
         "Michigan's Adventure",
         "United States",
         "North America",
         "43.3474",
         "-86.2789",
         "13th May 2025",
         null
        ],
        [
         "42",
         "2025-05-13 18:41:53.839341+00:00",
         "68",
         "7879",
         "Wheel of Fortune",
         "False",
         "0",
         "2025-05-13 18:37:37+00:00",
         "Valleyfair",
         "United States",
         "North America",
         "44.798742",
         "-93.453369",
         "13th May 2025",
         null
        ],
        [
         "43",
         "2025-05-13 18:41:53.839341+00:00",
         "68",
         "7877",
         "Woodstock Whirlybirds",
         "False",
         "0",
         "2025-05-13 18:37:37+00:00",
         "Valleyfair",
         "United States",
         "North America",
         "44.798742",
         "-93.453369",
         "13th May 2025",
         null
        ],
        [
         "44",
         "2025-05-13 18:41:53.839341+00:00",
         "68",
         "7218",
         "Undertakers",
         "False",
         "0",
         "2025-05-13 18:37:37+00:00",
         "Valleyfair",
         "United States",
         "North America",
         "44.798742",
         "-93.453369",
         "13th May 2025",
         null
        ],
        [
         "45",
         "2025-05-13 18:41:53.839341+00:00",
         "68",
         "7886",
         "Tilter",
         "False",
         "0",
         "2025-05-13 18:37:37+00:00",
         "Valleyfair",
         "United States",
         "North America",
         "44.798742",
         "-93.453369",
         "13th May 2025",
         null
        ],
        [
         "46",
         "2025-05-13 18:41:53.839341+00:00",
         "68",
         "6580",
         "Xtreme Swing",
         "False",
         "0",
         "2025-05-13 18:37:37+00:00",
         "Valleyfair",
         "United States",
         "North America",
         "44.798742",
         "-93.453369",
         "13th May 2025",
         null
        ],
        [
         "47",
         "2025-05-13 18:41:53.839341+00:00",
         "68",
         "14043",
         "Toxicity",
         "False",
         "0",
         "2025-05-13 18:37:37+00:00",
         "Valleyfair",
         "United States",
         "North America",
         "44.798742",
         "-93.453369",
         "13th May 2025",
         null
        ],
        [
         "48",
         "2025-05-13 18:41:53.839341+00:00",
         "68",
         "7866",
         "Splash Station",
         "False",
         "0",
         "2025-05-10 18:37:35+00:00",
         "Valleyfair",
         "United States",
         "North America",
         "44.798742",
         "-93.453369",
         "10th May 2025",
         null
        ],
        [
         "49",
         "2025-05-13 18:41:53.973227+00:00",
         "63",
         "6556",
         "Worlds of Fun Railroad",
         "False",
         "0",
         "2025-05-13 18:36:55+00:00",
         "Worlds of Fun",
         "United States",
         "North America",
         "39.177333",
         "-94.489028",
         "13th May 2025",
         null
        ]
       ],
       "shape": {
        "columns": 14,
        "rows": 9520
       }
      },
      "text/html": [
       "<div>\n",
       "<style scoped>\n",
       "    .dataframe tbody tr th:only-of-type {\n",
       "        vertical-align: middle;\n",
       "    }\n",
       "\n",
       "    .dataframe tbody tr th {\n",
       "        vertical-align: top;\n",
       "    }\n",
       "\n",
       "    .dataframe thead th {\n",
       "        text-align: right;\n",
       "    }\n",
       "</style>\n",
       "<table border=\"1\" class=\"dataframe\">\n",
       "  <thead>\n",
       "    <tr style=\"text-align: right;\">\n",
       "      <th></th>\n",
       "      <th>timestamp</th>\n",
       "      <th>park_id</th>\n",
       "      <th>ride_id</th>\n",
       "      <th>ride_name</th>\n",
       "      <th>is_open</th>\n",
       "      <th>wait_time</th>\n",
       "      <th>last_updated</th>\n",
       "      <th>park_name</th>\n",
       "      <th>country</th>\n",
       "      <th>continent</th>\n",
       "      <th>latitude</th>\n",
       "      <th>longitude</th>\n",
       "      <th>date</th>\n",
       "      <th>avg_wait_time</th>\n",
       "    </tr>\n",
       "  </thead>\n",
       "  <tbody>\n",
       "    <tr>\n",
       "      <th>0</th>\n",
       "      <td>2025-05-13 18:41:52.601463+00:00</td>\n",
       "      <td>57</td>\n",
       "      <td>5852</td>\n",
       "      <td>RailBlazer</td>\n",
       "      <td>False</td>\n",
       "      <td>0</td>\n",
       "      <td>2025-05-13 18:40:22+00:00</td>\n",
       "      <td>California's Great America</td>\n",
       "      <td>United States</td>\n",
       "      <td>North America</td>\n",
       "      <td>37.397799</td>\n",
       "      <td>-121.974717</td>\n",
       "      <td>13th May 2025</td>\n",
       "      <td>NaN</td>\n",
       "    </tr>\n",
       "    <tr>\n",
       "      <th>1</th>\n",
       "      <td>2025-05-13 18:41:52.601463+00:00</td>\n",
       "      <td>57</td>\n",
       "      <td>7720</td>\n",
       "      <td>Woodstock Express</td>\n",
       "      <td>False</td>\n",
       "      <td>0</td>\n",
       "      <td>2025-05-13 18:40:22+00:00</td>\n",
       "      <td>California's Great America</td>\n",
       "      <td>United States</td>\n",
       "      <td>North America</td>\n",
       "      <td>37.397799</td>\n",
       "      <td>-121.974717</td>\n",
       "      <td>13th May 2025</td>\n",
       "      <td>NaN</td>\n",
       "    </tr>\n",
       "    <tr>\n",
       "      <th>2</th>\n",
       "      <td>2025-05-13 18:41:52.601463+00:00</td>\n",
       "      <td>57</td>\n",
       "      <td>7660</td>\n",
       "      <td>The Pumpkin Patch</td>\n",
       "      <td>False</td>\n",
       "      <td>0</td>\n",
       "      <td>2025-05-13 18:40:22+00:00</td>\n",
       "      <td>California's Great America</td>\n",
       "      <td>United States</td>\n",
       "      <td>North America</td>\n",
       "      <td>37.397799</td>\n",
       "      <td>-121.974717</td>\n",
       "      <td>13th May 2025</td>\n",
       "      <td>NaN</td>\n",
       "    </tr>\n",
       "    <tr>\n",
       "      <th>3</th>\n",
       "      <td>2025-05-13 18:41:52.601463+00:00</td>\n",
       "      <td>57</td>\n",
       "      <td>7668</td>\n",
       "      <td>Xtreme Skyflyer</td>\n",
       "      <td>False</td>\n",
       "      <td>0</td>\n",
       "      <td>2025-05-13 18:40:22+00:00</td>\n",
       "      <td>California's Great America</td>\n",
       "      <td>United States</td>\n",
       "      <td>North America</td>\n",
       "      <td>37.397799</td>\n",
       "      <td>-121.974717</td>\n",
       "      <td>13th May 2025</td>\n",
       "      <td>NaN</td>\n",
       "    </tr>\n",
       "    <tr>\n",
       "      <th>4</th>\n",
       "      <td>2025-05-13 18:41:52.601463+00:00</td>\n",
       "      <td>57</td>\n",
       "      <td>13057</td>\n",
       "      <td>Tide Pool Slides</td>\n",
       "      <td>False</td>\n",
       "      <td>0</td>\n",
       "      <td>2025-05-13 18:40:22+00:00</td>\n",
       "      <td>California's Great America</td>\n",
       "      <td>United States</td>\n",
       "      <td>North America</td>\n",
       "      <td>37.397799</td>\n",
       "      <td>-121.974717</td>\n",
       "      <td>13th May 2025</td>\n",
       "      <td>NaN</td>\n",
       "    </tr>\n",
       "    <tr>\n",
       "      <th>...</th>\n",
       "      <td>...</td>\n",
       "      <td>...</td>\n",
       "      <td>...</td>\n",
       "      <td>...</td>\n",
       "      <td>...</td>\n",
       "      <td>...</td>\n",
       "      <td>...</td>\n",
       "      <td>...</td>\n",
       "      <td>...</td>\n",
       "      <td>...</td>\n",
       "      <td>...</td>\n",
       "      <td>...</td>\n",
       "      <td>...</td>\n",
       "      <td>...</td>\n",
       "    </tr>\n",
       "    <tr>\n",
       "      <th>9515</th>\n",
       "      <td>2025-05-14 12:12:39.894646+00:00</td>\n",
       "      <td>274</td>\n",
       "      <td>7991</td>\n",
       "      <td>Westernland Shootin' Gallery</td>\n",
       "      <td>False</td>\n",
       "      <td>0</td>\n",
       "      <td>2025-05-14 12:07:54+00:00</td>\n",
       "      <td>Tokyo Disneyland</td>\n",
       "      <td>Japan</td>\n",
       "      <td>Asia</td>\n",
       "      <td>35.634848</td>\n",
       "      <td>139.879295</td>\n",
       "      <td>14th May 2025</td>\n",
       "      <td>5.00</td>\n",
       "    </tr>\n",
       "    <tr>\n",
       "      <th>9516</th>\n",
       "      <td>2025-05-14 12:12:40.026123+00:00</td>\n",
       "      <td>275</td>\n",
       "      <td>8034</td>\n",
       "      <td>Venetian Gondolas</td>\n",
       "      <td>False</td>\n",
       "      <td>0</td>\n",
       "      <td>2025-05-14 12:08:09+00:00</td>\n",
       "      <td>Tokyo DisneySea</td>\n",
       "      <td>Japan</td>\n",
       "      <td>Asia</td>\n",
       "      <td>35.627055</td>\n",
       "      <td>139.889097</td>\n",
       "      <td>14th May 2025</td>\n",
       "      <td>22.00</td>\n",
       "    </tr>\n",
       "    <tr>\n",
       "      <th>9517</th>\n",
       "      <td>2025-05-14 12:12:40.172345+00:00</td>\n",
       "      <td>28</td>\n",
       "      <td>10846</td>\n",
       "      <td>Spider-Man W.E.B. Adventure Single Rider</td>\n",
       "      <td>True</td>\n",
       "      <td>5</td>\n",
       "      <td>2025-05-14 12:10:04+00:00</td>\n",
       "      <td>Walt Disney Studios Paris</td>\n",
       "      <td>France</td>\n",
       "      <td>Europe</td>\n",
       "      <td>48.8673</td>\n",
       "      <td>2.779008</td>\n",
       "      <td>14th May 2025</td>\n",
       "      <td>8.00</td>\n",
       "    </tr>\n",
       "    <tr>\n",
       "      <th>9518</th>\n",
       "      <td>2025-05-14 12:12:40.172345+00:00</td>\n",
       "      <td>28</td>\n",
       "      <td>40</td>\n",
       "      <td>The Twilight Zone Tower of Terror</td>\n",
       "      <td>True</td>\n",
       "      <td>30</td>\n",
       "      <td>2025-05-14 12:10:04+00:00</td>\n",
       "      <td>Walt Disney Studios Paris</td>\n",
       "      <td>France</td>\n",
       "      <td>Europe</td>\n",
       "      <td>48.8673</td>\n",
       "      <td>2.779008</td>\n",
       "      <td>14th May 2025</td>\n",
       "      <td>31.25</td>\n",
       "    </tr>\n",
       "    <tr>\n",
       "      <th>9519</th>\n",
       "      <td>2025-05-14 12:12:40.172345+00:00</td>\n",
       "      <td>28</td>\n",
       "      <td>7281</td>\n",
       "      <td>Toy Soldiers Parachute Drop Single Rider</td>\n",
       "      <td>True</td>\n",
       "      <td>15</td>\n",
       "      <td>2025-05-14 12:10:04+00:00</td>\n",
       "      <td>Walt Disney Studios Paris</td>\n",
       "      <td>France</td>\n",
       "      <td>Europe</td>\n",
       "      <td>48.8673</td>\n",
       "      <td>2.779008</td>\n",
       "      <td>14th May 2025</td>\n",
       "      <td>12.50</td>\n",
       "    </tr>\n",
       "  </tbody>\n",
       "</table>\n",
       "<p>9520 rows × 14 columns</p>\n",
       "</div>"
      ],
      "text/plain": [
       "                            timestamp  park_id  ride_id  \\\n",
       "0    2025-05-13 18:41:52.601463+00:00       57     5852   \n",
       "1    2025-05-13 18:41:52.601463+00:00       57     7720   \n",
       "2    2025-05-13 18:41:52.601463+00:00       57     7660   \n",
       "3    2025-05-13 18:41:52.601463+00:00       57     7668   \n",
       "4    2025-05-13 18:41:52.601463+00:00       57    13057   \n",
       "...                               ...      ...      ...   \n",
       "9515 2025-05-14 12:12:39.894646+00:00      274     7991   \n",
       "9516 2025-05-14 12:12:40.026123+00:00      275     8034   \n",
       "9517 2025-05-14 12:12:40.172345+00:00       28    10846   \n",
       "9518 2025-05-14 12:12:40.172345+00:00       28       40   \n",
       "9519 2025-05-14 12:12:40.172345+00:00       28     7281   \n",
       "\n",
       "                                     ride_name  is_open  wait_time  \\\n",
       "0                                   RailBlazer    False          0   \n",
       "1                            Woodstock Express    False          0   \n",
       "2                            The Pumpkin Patch    False          0   \n",
       "3                              Xtreme Skyflyer    False          0   \n",
       "4                             Tide Pool Slides    False          0   \n",
       "...                                        ...      ...        ...   \n",
       "9515              Westernland Shootin' Gallery    False          0   \n",
       "9516                         Venetian Gondolas    False          0   \n",
       "9517  Spider-Man W.E.B. Adventure Single Rider     True          5   \n",
       "9518         The Twilight Zone Tower of Terror     True         30   \n",
       "9519  Toy Soldiers Parachute Drop Single Rider     True         15   \n",
       "\n",
       "                  last_updated                   park_name        country  \\\n",
       "0    2025-05-13 18:40:22+00:00  California's Great America  United States   \n",
       "1    2025-05-13 18:40:22+00:00  California's Great America  United States   \n",
       "2    2025-05-13 18:40:22+00:00  California's Great America  United States   \n",
       "3    2025-05-13 18:40:22+00:00  California's Great America  United States   \n",
       "4    2025-05-13 18:40:22+00:00  California's Great America  United States   \n",
       "...                        ...                         ...            ...   \n",
       "9515 2025-05-14 12:07:54+00:00            Tokyo Disneyland          Japan   \n",
       "9516 2025-05-14 12:08:09+00:00             Tokyo DisneySea          Japan   \n",
       "9517 2025-05-14 12:10:04+00:00   Walt Disney Studios Paris         France   \n",
       "9518 2025-05-14 12:10:04+00:00   Walt Disney Studios Paris         France   \n",
       "9519 2025-05-14 12:10:04+00:00   Walt Disney Studios Paris         France   \n",
       "\n",
       "          continent   latitude    longitude           date  avg_wait_time  \n",
       "0     North America  37.397799  -121.974717  13th May 2025            NaN  \n",
       "1     North America  37.397799  -121.974717  13th May 2025            NaN  \n",
       "2     North America  37.397799  -121.974717  13th May 2025            NaN  \n",
       "3     North America  37.397799  -121.974717  13th May 2025            NaN  \n",
       "4     North America  37.397799  -121.974717  13th May 2025            NaN  \n",
       "...             ...        ...          ...            ...            ...  \n",
       "9515           Asia  35.634848   139.879295  14th May 2025           5.00  \n",
       "9516           Asia  35.627055   139.889097  14th May 2025          22.00  \n",
       "9517         Europe    48.8673     2.779008  14th May 2025           8.00  \n",
       "9518         Europe    48.8673     2.779008  14th May 2025          31.25  \n",
       "9519         Europe    48.8673     2.779008  14th May 2025          12.50  \n",
       "\n",
       "[9520 rows x 14 columns]"
      ]
     },
     "execution_count": 268,
     "metadata": {},
     "output_type": "execute_result"
    }
   ],
   "source": [
    "    # Group by ride_id and calculate average wait time\n",
    "avg_wait_by_ride = open_rides.groupby('ride_id').agg(\n",
    "    avg_wait_time=('wait_time', 'mean')\n",
    ")\n",
    "    # Merge with the original dataframe\n",
    "df = pd.merge(full_df, avg_wait_by_ride, on='ride_id', how='left')\n",
    "df"
   ]
  },
  {
   "cell_type": "code",
   "execution_count": null,
   "id": "2e23e5c3",
   "metadata": {},
   "outputs": [],
   "source": [
    "df = pd.read_csv(\"../etl/data/outputs/average_wait.csv\")\n",
    "df"
   ]
  }
 ],
 "metadata": {
  "kernelspec": {
   "display_name": ".venv",
   "language": "python",
   "name": "python3"
  },
  "language_info": {
   "codemirror_mode": {
    "name": "ipython",
    "version": 3
   },
   "file_extension": ".py",
   "mimetype": "text/x-python",
   "name": "python",
   "nbconvert_exporter": "python",
   "pygments_lexer": "ipython3",
   "version": "3.13.2"
  }
 },
 "nbformat": 4,
 "nbformat_minor": 5
}
